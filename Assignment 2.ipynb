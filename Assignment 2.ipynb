{
 "cells": [
  {
   "cell_type": "markdown",
   "id": "7afad7a9",
   "metadata": {},
   "source": [
    "Q1. The two boolean values are True and False. Both the values should have the first letter capitalized."
   ]
  },
  {
   "cell_type": "markdown",
   "id": "f722a8f0",
   "metadata": {},
   "source": [
    "Q2. The three boolean operators are the AND, OR and NOT. They always return a boolean value as output after the evaluation."
   ]
  },
  {
   "cell_type": "code",
   "execution_count": 1,
   "id": "a6c28df6",
   "metadata": {},
   "outputs": [
    {
     "ename": "SyntaxError",
     "evalue": "invalid syntax (3494869926.py, line 1)",
     "output_type": "error",
     "traceback": [
      "\u001b[1;36m  Input \u001b[1;32mIn [1]\u001b[1;36m\u001b[0m\n\u001b[1;33m    Q3  AND operator\u001b[0m\n\u001b[1;37m        ^\u001b[0m\n\u001b[1;31mSyntaxError\u001b[0m\u001b[1;31m:\u001b[0m invalid syntax\n"
     ]
    }
   ],
   "source": [
    "Q3  AND operator\n",
    "    C1  C2  Result\n",
    "    T    T    T\n",
    "    T    F    F\n",
    "    F    T    F\n",
    "    F    F    F\n",
    "    \n",
    "    OR operator\n",
    "    C1  C2  Result\n",
    "    T    T    T\n",
    "    T    F    T\n",
    "    F    T    T\n",
    "    F    F    F\n",
    "    \n",
    "    NOT operator\n",
    "    C Result\n",
    "    T  F\n",
    "    F  T"
   ]
  },
  {
   "cell_type": "code",
   "execution_count": null,
   "id": "60148065",
   "metadata": {},
   "outputs": [],
   "source": [
    "#Q4\n",
    "\n",
    "print((5 > 4) and (3 == 5))\n",
    "print(not (5 > 4))\n",
    "print((5 > 4) or (3 == 5))\n",
    "print(not ((5 > 4) or (3 == 5)))\n",
    "print((True and True) and (True == False))\n",
    "print((not False) or (not True))"
   ]
  },
  {
   "cell_type": "markdown",
   "id": "bfee054a",
   "metadata": {},
   "source": [
    "Q5. The six comparison operators are >, <, >=, <=, ==, !="
   ]
  },
  {
   "cell_type": "markdown",
   "id": "7ddae2be",
   "metadata": {},
   "source": [
    "Q6. The assignment operator = is used to assign a value to a variable and appears only once in the opeartion. Whereas, the equal to operator is a comparison operator and the = symbol is used twice. This operator can be used to check if the values being compared are equal or not. Depending on the result, we get True or False as the result.\n",
    "\n",
    "Example for assignment : a=10\n",
    "\n",
    "Example for equal to: if a==10:\n",
    "                         print(\"Values are equal\")"
   ]
  },
  {
   "cell_type": "code",
   "execution_count": null,
   "id": "1b861d1d",
   "metadata": {},
   "outputs": [],
   "source": [
    "#Q7\n",
    "spam = 0\n",
    "if spam == 10:#block 1\n",
    "    print(\"eggs\")\n",
    "if spam > 5:#block 2\n",
    "    print(\"bacon\")\n",
    "else:      # block 3\n",
    "    print(\"ham\")\n",
    "print(\"spam\")\n",
    "print(\"spam\")"
   ]
  },
  {
   "cell_type": "code",
   "execution_count": null,
   "id": "2b4785a7",
   "metadata": {},
   "outputs": [],
   "source": [
    "#Q8\n",
    "\n",
    "spam = int(input(\"Enter the value : \"))\n",
    "if spam == 1:\n",
    "    print(\"Hello\")\n",
    "elif spam == 2:\n",
    "    print(\"Howdy\")\n",
    "else:\n",
    "    print(\"Greetings!!\")"
   ]
  },
  {
   "cell_type": "markdown",
   "id": "5600265f",
   "metadata": {},
   "source": [
    "Q9 If the program is stuck in an endless loop then we can use Ctrl+c to stop or interupt the execution"
   ]
  },
  {
   "cell_type": "markdown",
   "id": "6d3a5398",
   "metadata": {},
   "source": [
    "Q10 The break and continue statements are usually used in a loop to either stop the execution of the loop based on a condition or to skip an iteration of the loop based on a condition respectively."
   ]
  },
  {
   "cell_type": "code",
   "execution_count": null,
   "id": "3212be2e",
   "metadata": {},
   "outputs": [],
   "source": [
    "# example for break and continue statements\n",
    "# program to print all the numbers except the multiples of 5 and using break statement to stop the loop when the value reaches 32\n",
    "for i in range(1,200):\n",
    "    if i%5==0:\n",
    "        continue\n",
    "    print(i)\n",
    "    if i>20:\n",
    "        break\n",
    "    \n",
    "    \n",
    "\n",
    "    \n",
    "   \n",
    "    \n",
    "   \n",
    "   \n",
    "    \n",
    "   \n",
    "                  \n",
    "    \n",
    "    "
   ]
  },
  {
   "cell_type": "markdown",
   "id": "a2f0fb2f",
   "metadata": {},
   "source": [
    "Q11 All are the same. It just signifies that the lower bound for the for loop is 0 and the upper bound for stopping the loop is 10 and the increment/step is 1."
   ]
  },
  {
   "cell_type": "code",
   "execution_count": 7,
   "id": "2701bed4",
   "metadata": {},
   "outputs": [
    {
     "name": "stdout",
     "output_type": "stream",
     "text": [
      "1\n",
      "2\n",
      "3\n",
      "4\n",
      "5\n",
      "6\n",
      "7\n",
      "8\n",
      "9\n",
      "10\n",
      "\n",
      "1\n",
      "2\n",
      "3\n",
      "4\n",
      "5\n",
      "6\n",
      "7\n",
      "8\n",
      "9\n",
      "10\n"
     ]
    }
   ],
   "source": [
    "#Q12 printing 1-10 suing for loop and while loop\n",
    "for i in range(1,11):\n",
    "    print(i)\n",
    "j=1\n",
    "print()\n",
    "while j<=10:\n",
    "    print(j)\n",
    "    j+=1\n"
   ]
  },
  {
   "cell_type": "markdown",
   "id": "3eb50344",
   "metadata": {},
   "source": [
    "Q13 spam.bacon()"
   ]
  }
 ],
 "metadata": {
  "kernelspec": {
   "display_name": "Python 3 (ipykernel)",
   "language": "python",
   "name": "python3"
  },
  "language_info": {
   "codemirror_mode": {
    "name": "ipython",
    "version": 3
   },
   "file_extension": ".py",
   "mimetype": "text/x-python",
   "name": "python",
   "nbconvert_exporter": "python",
   "pygments_lexer": "ipython3",
   "version": "3.9.12"
  }
 },
 "nbformat": 4,
 "nbformat_minor": 5
}
