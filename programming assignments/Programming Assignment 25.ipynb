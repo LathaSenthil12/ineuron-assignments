{
  "nbformat": 4,
  "nbformat_minor": 0,
  "metadata": {
    "colab": {
      "provenance": []
    },
    "kernelspec": {
      "name": "python3",
      "display_name": "Python 3"
    },
    "language_info": {
      "name": "python"
    }
  },
  "cells": [
    {
      "cell_type": "code",
      "execution_count": 1,
      "metadata": {
        "colab": {
          "base_uri": "https://localhost:8080/"
        },
        "id": "eoXMrSOzNHZy",
        "outputId": "ec2c04ac-7fb5-49b1-e81b-195f057d5bb6"
      },
      "outputs": [
        {
          "output_type": "stream",
          "name": "stdout",
          "text": [
            "(3, 4, 3) ➞ 0\n",
            "(1, 1, 1) ➞ 3\n",
            "(3, 4, 1) ➞ 0\n"
          ]
        }
      ],
      "source": [
        "#Question1\n",
        "#Create a function that takes three integer arguments (a, b, c) and returns the amount of\n",
        "#integers which are of equal value.\n",
        "\n",
        "def equal(a,b,c):\n",
        "    if a==b==c:\n",
        "        print(f'{a,b,c} ➞ {3}')\n",
        "    elif a==b or b==c:\n",
        "        print(f'{a,b,c} ➞ {2}')\n",
        "    else:\n",
        "        print(f'{a,b,c} ➞ {0}')\n",
        "\n",
        "equal(3, 4, 3)\n",
        "equal(1, 1, 1)\n",
        "equal(3, 4, 1)"
      ]
    },
    {
      "cell_type": "code",
      "source": [
        "#Question 2\n",
        "#Write a function that converts a dictionary into a list of keys-values tuples.\n",
        "\n",
        "def dict_to_list(d):\n",
        "    print(f\"{d}  ==>  {sorted(list(d.items()))}\")\n",
        "\n",
        "dict_to_list({\n",
        "'D': 1,\n",
        "'B': 2,\n",
        "'C': 3\n",
        "})\n",
        "\n",
        "dict_to_list({\n",
        "'likes': 2,\n",
        "'dislikes': 3,\n",
        "'followers': 10\n",
        "})"
      ],
      "metadata": {
        "colab": {
          "base_uri": "https://localhost:8080/"
        },
        "id": "XZ4ZHUbtNkB0",
        "outputId": "dfd9edc8-f5b0-42ae-d07b-5f56e46924e2"
      },
      "execution_count": 6,
      "outputs": [
        {
          "output_type": "stream",
          "name": "stdout",
          "text": [
            "{'D': 1, 'B': 2, 'C': 3}  ==>  [('B', 2), ('C', 3), ('D', 1)]\n",
            "{'likes': 2, 'dislikes': 3, 'followers': 10}  ==>  [('dislikes', 3), ('followers', 10), ('likes', 2)]\n"
          ]
        }
      ]
    },
    {
      "cell_type": "code",
      "source": [
        "#Question3\n",
        "#Write a function that creates a dictionary with each (key, value) pair being the (lower case,upper case) versions of a letter, respectively.\n",
        "import string\n",
        "def mapping(lst):\n",
        "    map_dict={item:item.upper() for item in lst}\n",
        "    print(f\"{lst}  ==>  {map_dict}\")\n",
        "\n",
        "mapping(['p', 's'])\n",
        "mapping(['a', 'b', 'c']) \n",
        "mapping(['a', 'v', 'y', 'z'])"
      ],
      "metadata": {
        "colab": {
          "base_uri": "https://localhost:8080/"
        },
        "id": "jQ8fl6GzOVKS",
        "outputId": "67d85839-a41a-4f3c-cf38-bee126441249"
      },
      "execution_count": 7,
      "outputs": [
        {
          "output_type": "stream",
          "name": "stdout",
          "text": [
            "['p', 's']  ==>  {'p': 'P', 's': 'S'}\n",
            "['a', 'b', 'c']  ==>  {'a': 'A', 'b': 'B', 'c': 'C'}\n",
            "['a', 'v', 'y', 'z']  ==>  {'a': 'A', 'v': 'V', 'y': 'Y', 'z': 'Z'}\n"
          ]
        }
      ]
    },
    {
      "cell_type": "code",
      "source": [
        "#Question4\n",
        "#Write a function, that replaces all vowels in a string with a specified vowel.\n",
        "import string\n",
        "def vow_replace(s,v):\n",
        "    vowels = ['a','e','i','o','u']\n",
        "    s1=s\n",
        "    for c in s:\n",
        "        if c in vowels:\n",
        "            s=s.replace(c,v)\n",
        "    print(f\"{s1}  ==>  {s}\")\n",
        "\n",
        "vow_replace('apples and bananas', 'u')\n",
        "vow_replace('cheese casserole', 'o') \n",
        "vow_replace('stuffed jalapeno poppers', 'e')"
      ],
      "metadata": {
        "colab": {
          "base_uri": "https://localhost:8080/"
        },
        "id": "rn_I2rN-PbYK",
        "outputId": "63a50ff8-7a0a-457a-fd9f-cbcd8ad5a0e1"
      },
      "execution_count": 12,
      "outputs": [
        {
          "output_type": "stream",
          "name": "stdout",
          "text": [
            "apples and bananas  ==>  upplus und bununus\n",
            "cheese casserole  ==>  chooso cossorolo\n",
            "stuffed jalapeno poppers  ==>  steffed jelepene peppers\n"
          ]
        }
      ]
    },
    {
      "cell_type": "code",
      "source": [
        "#Question5\n",
        "#Create a function that takes a string as input and capitalizes a letter if its ASCII code is even\n",
        "#and returns its lower case version if its ASCII code is odd.\n",
        "\n",
        "def ascii_capitalize(in_string):\n",
        "    out_string = ''\n",
        "    for ele in in_string.lower():\n",
        "        if (ord(ele)%2 == 0):\n",
        "            out_string += ele.upper()\n",
        "        else:\n",
        "            out_string += ele\n",
        "    print(f'{in_string} ➞ {out_string}')\n",
        "        \n",
        "ascii_capitalize(\"to be or not to be!\")\n",
        "ascii_capitalize(\"THE LITTLE MERMAID\")\n",
        "ascii_capitalize(\"Oh what a beautiful morning.\")"
      ],
      "metadata": {
        "colab": {
          "base_uri": "https://localhost:8080/"
        },
        "id": "lygUQvUiR816",
        "outputId": "479e4b07-703a-4743-c40d-232d9229570e"
      },
      "execution_count": 13,
      "outputs": [
        {
          "output_type": "stream",
          "name": "stdout",
          "text": [
            "to be or not to be! ➞ To Be oR NoT To Be!\n",
            "THE LITTLE MERMAID ➞ THe LiTTLe meRmaiD\n",
            "Oh what a beautiful morning. ➞ oH wHaT a BeauTiFuL moRNiNg.\n"
          ]
        }
      ]
    }
  ]
}