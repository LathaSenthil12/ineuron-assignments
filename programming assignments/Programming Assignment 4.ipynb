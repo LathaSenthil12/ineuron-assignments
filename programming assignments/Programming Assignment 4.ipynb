{
 "cells": [
  {
   "cell_type": "code",
   "execution_count": 2,
   "id": "b0270a74",
   "metadata": {},
   "outputs": [
    {
     "name": "stdout",
     "output_type": "stream",
     "text": [
      "Please enter a number5\n",
      "The factorial of 5 is 120\n"
     ]
    }
   ],
   "source": [
    "#Q1. Write a Python Program to Find the Factorial of a Number?\n",
    "\n",
    "try:\n",
    "    num=int(input(\"Please enter a number\"))\n",
    "    n=num\n",
    "    fact=1\n",
    "    while num>1:\n",
    "        fact=fact*num\n",
    "        num=num-1\n",
    "    print(f\"The factorial of {n} is {fact}\")\n",
    "except:\n",
    "    print(\"Some error occured\")"
   ]
  },
  {
   "cell_type": "code",
   "execution_count": 3,
   "id": "31b3fef2",
   "metadata": {},
   "outputs": [
    {
     "name": "stdout",
     "output_type": "stream",
     "text": [
      "Please enter the number whose multiplication table is to be generated2\n",
      "Please enter till which number the table is to be generated : 10\n",
      "2 X 1 = 2\n",
      "2 X 2 = 4\n",
      "2 X 3 = 6\n",
      "2 X 4 = 8\n",
      "2 X 5 = 10\n",
      "2 X 6 = 12\n",
      "2 X 7 = 14\n",
      "2 X 8 = 16\n",
      "2 X 9 = 18\n",
      "2 X 10 = 20\n"
     ]
    }
   ],
   "source": [
    "#Q2. Write a Python Program to Display the multiplication Table?\n",
    "try:\n",
    "    num=int(input(\"Please enter the number whose multiplication table is to be generated\"))\n",
    "    n=int(input(\"Please enter till which number the table is to be generated : \"))\n",
    "    i=1\n",
    "    while i<=n:\n",
    "        print(f\"{num} X {i} = {num*i}\")\n",
    "        i+=1\n",
    "except:\n",
    "    print(\"Some error occured\")"
   ]
  },
  {
   "cell_type": "code",
   "execution_count": 6,
   "id": "3e69f9c5",
   "metadata": {},
   "outputs": [
    {
     "name": "stdout",
     "output_type": "stream",
     "text": [
      "Please enter the number of terms to be generated in the series : 5\n",
      "0\n",
      "1\n",
      "1\n",
      "2\n",
      "3\n"
     ]
    }
   ],
   "source": [
    "#Q3. Write a Python Program to Print the Fibonacci sequence?\n",
    "n1=0\n",
    "n2=1\n",
    "num=int(input(\"Please enter the number of terms to be generated in the series : \"))\n",
    "if num==1:\n",
    "    print(n1)\n",
    "else:\n",
    "    print(n1)\n",
    "    print(n2)\n",
    "    for i in range(2,num):\n",
    "        nth=n1+n2\n",
    "        n1=n2\n",
    "        n2=nth\n",
    "        print(nth)\n"
   ]
  },
  {
   "cell_type": "code",
   "execution_count": 9,
   "id": "92c6c58e",
   "metadata": {},
   "outputs": [
    {
     "name": "stdout",
     "output_type": "stream",
     "text": [
      "Please enter the number to be checked for Armstrong Number : 153\n",
      "153 is an Armstrong Number\n"
     ]
    }
   ],
   "source": [
    "#Q4. Write a Python Program to Check Armstrong Number?\n",
    "try:\n",
    "    num=int(input(\"Please enter the number to be checked for Armstrong Number : \"))\n",
    "    sum=0\n",
    "    n=num\n",
    "    while num>0:\n",
    "        digit=num%10\n",
    "        sum=sum+digit**3\n",
    "        num=num//10\n",
    "    if sum==n:\n",
    "        print(f\"{n} is an Armstrong Number\")\n",
    "    else:\n",
    "        print(f\"{n} is not an Armstrong Number\")\n",
    "except:\n",
    "    print(\"Some error occured\")"
   ]
  },
  {
   "cell_type": "code",
   "execution_count": 19,
   "id": "ec9b6b02",
   "metadata": {},
   "outputs": [
    {
     "name": "stdout",
     "output_type": "stream",
     "text": [
      "Please enter the lower bound of the interval : 1\n",
      "Please enter the upper bound of the interval : 1000\n",
      "[1, 153, 370, 371, 407]\n"
     ]
    }
   ],
   "source": [
    "#Q5. Write a Python Program to Find Armstrong Number in an Interval?\n",
    "try:\n",
    "    lb=int(input(\"Please enter the lower bound of the interval : \"))\n",
    "    ub=int(input(\"Please enter the upper bound of the interval : \"))\n",
    "    a_nums=[]\n",
    "    for i in range(lb,ub):\n",
    "        sum=0\n",
    "        n=i\n",
    "        while n>0:\n",
    "            digit=n%10\n",
    "            sum=sum+digit**3\n",
    "            n=n//10\n",
    "        if sum==i:\n",
    "            a_nums.append(i)\n",
    "    print(a_nums)\n",
    "except:\n",
    "    print(\"Some error occured\")\n",
    "            \n",
    "        "
   ]
  },
  {
   "cell_type": "code",
   "execution_count": 25,
   "id": "cc203c00",
   "metadata": {},
   "outputs": [
    {
     "name": "stdout",
     "output_type": "stream",
     "text": [
      "Enter the value of n : 10\n",
      "The sum of first 10 natural numbers is : \n",
      "\n",
      "1  + 2  + 3  + 4  + 5  + 6  + 7  + 8  + 9  + 10  + = 55\n"
     ]
    }
   ],
   "source": [
    "#Q6. Write a Python Program to Find the Sum of Natural Numbers?\n",
    "try:\n",
    "    n=int(input(\"Enter the value of n : \"))\n",
    "    sum=0\n",
    "    print(f\"The sum of first {n} natural numbers is : \\n\")\n",
    "    for i in range(1,n+1):\n",
    "        print(f\"{i}  \", end=\"+ \")\n",
    "        sum+=i\n",
    "    print(f\"= {sum}\")\n",
    "except:\n",
    "    print(\"Some error occured\")\n",
    "        "
   ]
  }
 ],
 "metadata": {
  "kernelspec": {
   "display_name": "Python 3 (ipykernel)",
   "language": "python",
   "name": "python3"
  },
  "language_info": {
   "codemirror_mode": {
    "name": "ipython",
    "version": 3
   },
   "file_extension": ".py",
   "mimetype": "text/x-python",
   "name": "python",
   "nbconvert_exporter": "python",
   "pygments_lexer": "ipython3",
   "version": "3.9.12"
  }
 },
 "nbformat": 4,
 "nbformat_minor": 5
}
