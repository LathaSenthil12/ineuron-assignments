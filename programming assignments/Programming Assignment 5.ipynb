{
 "cells": [
  {
   "cell_type": "code",
   "execution_count": 1,
   "id": "1d344411",
   "metadata": {},
   "outputs": [
    {
     "name": "stdout",
     "output_type": "stream",
     "text": [
      "The L.C.M. is 28\n",
      "The L.C.M. is 6\n",
      "The L.C.M. is 804\n"
     ]
    }
   ],
   "source": [
    "#Q1. Write a Python Program to Find LCM?\n",
    "def LCM(x, y):\n",
    "    if x > y:\n",
    "        greater = x\n",
    "    else:\n",
    "        greater = y\n",
    "\n",
    "    while(True):\n",
    "        if((greater % x == 0) and (greater % y == 0)):\n",
    "            lcm = greater\n",
    "            break\n",
    "        greater += 1\n",
    "\n",
    "    return lcm\n",
    "\n",
    "print(\"The L.C.M. is\", LCM(4,14))\n",
    "print(\"The L.C.M. is\", LCM(3,6))\n",
    "print(\"The L.C.M. is\", LCM(12,67))"
   ]
  },
  {
   "cell_type": "code",
   "execution_count": 3,
   "id": "9a4d91b4",
   "metadata": {},
   "outputs": [
    {
     "name": "stdout",
     "output_type": "stream",
     "text": [
      "Enter first number: 12\n",
      "Enter second number: 45\n",
      "The H.C.F. of 12 and 45 is 3\n"
     ]
    }
   ],
   "source": [
    "#Q2. Write a Python Program to Find HCF?\n",
    "def HCF(x, y):  \n",
    "    # selecting the smaller number  \n",
    "    if x > y:  \n",
    "        smaller = y  \n",
    "    else:  \n",
    "        smaller = x  \n",
    "    for i in range(1,smaller + 1):  \n",
    "        if((x % i == 0) and (y % i == 0)):  \n",
    "            hcf = i  \n",
    "    return hcf  \n",
    "  \n",
    "# taking input from users  \n",
    "num1 = int(input(\"Enter first number: \"))  \n",
    "num2 = int(input(\"Enter second number: \"))  \n",
    "# printing the result for the users  \n",
    "print(\"The H.C.F. of\", num1,\"and\", num2,\"is\", HCF(num1, num2))  "
   ]
  },
  {
   "cell_type": "code",
   "execution_count": 5,
   "id": "d8fa77cc",
   "metadata": {},
   "outputs": [
    {
     "name": "stdout",
     "output_type": "stream",
     "text": [
      "Please enter the number to be converted : 13\n",
      "The Binary Number of 13 -> 0b1101\n",
      "Octal Number of 13 -> 0o15\n",
      "Hexadecimal Number of 13 -> 0xd\n"
     ]
    }
   ],
   "source": [
    "#Q3. Write a Python Program to Convert Decimal to Binary, Octal and Hexadecimal?\n",
    "def ConvertDecimal(num):\n",
    "    print(f'The Binary Number of {num} -> {bin(num)}')\n",
    "    print(f'Octal Number of {num} -> {oct(num)}')    \n",
    "    print(f'Hexadecimal Number of {num} -> {hex(num)}')    \n",
    "\n",
    "num=int(input(\"Please enter the number to be converted : \"))\n",
    "ConvertDecimal(num)"
   ]
  },
  {
   "cell_type": "code",
   "execution_count": 6,
   "id": "4077d12f",
   "metadata": {},
   "outputs": [
    {
     "name": "stdout",
     "output_type": "stream",
     "text": [
      "Please enter a single character whose ASCII value is to be found : A\n",
      "Ascii Value of A is 65\n"
     ]
    }
   ],
   "source": [
    "#Q4. Write a Python Program To Find ASCII value of a character?\n",
    "def FindAscii(c):\n",
    "    if len(c) > 1:\n",
    "        print('Please Enter a Single Character only!!!')\n",
    "    else:\n",
    "        print(f'Ascii Value of {c} is {ord(char)}')\n",
    "char=input(\"Please enter a single character whose ASCII value is to be found : \")\n",
    "FindAscii(char)"
   ]
  },
  {
   "cell_type": "code",
   "execution_count": 11,
   "id": "01c7b0a3",
   "metadata": {},
   "outputs": [
    {
     "name": "stdout",
     "output_type": "stream",
     "text": [
      "Select a Arithmetic Operation:         \n",
      "1.Addition(+)        \n",
      "2.Subtraction(-)        \n",
      "3.Multiplication(*)        \n",
      "4.Division(/)        \n",
      "5.Stop\n",
      "\n",
      "Enter your choice : 1\n",
      "\n",
      "Enter 1st Number: 12\n",
      "Enter 2nd Number: 3\n",
      "12 + 3 = 15\n",
      "\n",
      "Enter your choice : 2\n",
      "\n",
      "Enter 1st Number: 12\n",
      "Enter 2nd Number: 3\n",
      "12 - 3 = 9\n",
      "\n",
      "Enter your choice : 3\n",
      "\n",
      "Enter 1st Number: 12\n",
      "Enter 2nd Number: 3\n",
      "12 X 3 = 36\n",
      "\n",
      "Enter your choice : 4\n",
      "\n",
      "Enter 1st Number: 12\n",
      "Enter 2nd Number: 4\n",
      "12 / 4 = 3.0\n",
      "\n",
      "Enter your choice : 5\n"
     ]
    }
   ],
   "source": [
    "#Q5. Write a Python Program to Make a Simple Calculator with 4 basic mathematical operations?\n",
    "def calculator():\n",
    "    valid_input=[1,2,3,4,5]\n",
    "    print('Select a Arithmetic Operation: \\\n",
    "        \\n1.Addition(+)\\\n",
    "        \\n2.Subtraction(-)\\\n",
    "        \\n3.Multiplication(*)\\\n",
    "        \\n4.Division(/)\\\n",
    "        \\n5.Stop\\n')\n",
    "   \n",
    "\n",
    "    while True:\n",
    "        choice = int(input('Enter your choice : '))\n",
    "        while choice not in valid_input:\n",
    "            print(\"Invalid Input!!!!\")\n",
    "            choice = int(input('Enter a arithmetic operation : '))\n",
    "        if choice == 1:\n",
    "            num_1 = int(input('\\nEnter 1st Number: '))\n",
    "            num_2 = int(input('Enter 2nd Number: '))\n",
    "            sum=num_1+num_2\n",
    "            print(f'{num_1} + {num_2} = {sum}\\n')\n",
    "        elif choice == 2:\n",
    "            num_1 = int(input('\\nEnter 1st Number: '))\n",
    "            num_2 = int(input('Enter 2nd Number: '))\n",
    "            diff=sum=num_1-num_2\n",
    "            print(f'{num_1} - {num_2} = {diff}\\n')\n",
    "        elif choice == 3:\n",
    "            num_1 = int(input('\\nEnter 1st Number: '))\n",
    "            num_2 = int(input('Enter 2nd Number: '))\n",
    "            prod=sum=num_1*num_2\n",
    "            print(f'{num_1} X {num_2} = {prod}\\n')\n",
    "        elif choice == 4:\n",
    "            try:\n",
    "                num_1 = int(input('\\nEnter 1st Number: '))\n",
    "                num_2 = int(input('Enter 2nd Number: '))\n",
    "                quot=sum=num_1/num_2\n",
    "                print(f'{num_1} / {num_2} = {quot}\\n')\n",
    "            except:\n",
    "                print(\"Some error occured!!!\")\n",
    "        elif choice == 5:\n",
    "            break\n",
    "        \n",
    "calculator()\n"
   ]
  },
  {
   "cell_type": "code",
   "execution_count": null,
   "id": "3d9a015a",
   "metadata": {},
   "outputs": [],
   "source": []
  }
 ],
 "metadata": {
  "kernelspec": {
   "display_name": "Python 3 (ipykernel)",
   "language": "python",
   "name": "python3"
  },
  "language_info": {
   "codemirror_mode": {
    "name": "ipython",
    "version": 3
   },
   "file_extension": ".py",
   "mimetype": "text/x-python",
   "name": "python",
   "nbconvert_exporter": "python",
   "pygments_lexer": "ipython3",
   "version": "3.9.12"
  }
 },
 "nbformat": 4,
 "nbformat_minor": 5
}
