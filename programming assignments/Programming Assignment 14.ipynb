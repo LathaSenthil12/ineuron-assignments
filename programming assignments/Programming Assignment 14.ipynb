{
 "cells": [
  {
   "cell_type": "code",
   "execution_count": 3,
   "id": "a4cb2481",
   "metadata": {},
   "outputs": [
    {
     "name": "stdout",
     "output_type": "stream",
     "text": [
      "0 7 14 21 28 35 42 49 56 63 70 77 84 91 98 "
     ]
    }
   ],
   "source": [
    "#Question 1:\n",
    "#Define a class with a generator which can iterate the numbers, which are divisible by 7, between a given range 0 and n.\n",
    "\n",
    "class seven_generator:\n",
    "    def __init__(self,n):\n",
    "        self.n = n\n",
    "    def get_multiples7(self):\n",
    "        for ele in range(0,self.n+1):\n",
    "            if ele%7 == 0:\n",
    "                yield ele\n",
    "                \n",
    "output = seven_generator(100)\n",
    "for ele in output.get_multiples7():\n",
    "    print(ele,end=' ')\n"
   ]
  },
  {
   "cell_type": "markdown",
   "id": "05bc63c1",
   "metadata": {},
   "source": [
    "Question 2:\n",
    "Write a program to compute the frequency of the words from the input. The output\n",
    "should output after sorting the key alphanumerically.\n",
    "Suppose the following input is supplied to the program:\n",
    "New to Python or choosing between Python 2 and Python 3? Read Python 2 or\n",
    "Python 3.\n",
    "Then, the output should be:\n",
    "2:2\n",
    "3.:1\n",
    "3?:1\n",
    "New:1\n",
    "Python:5\n",
    "Read:1\n",
    "and:1\n",
    "between:1\n",
    "choosing:1\n",
    "or:2\n",
    "to:1"
   ]
  },
  {
   "cell_type": "code",
   "execution_count": 35,
   "id": "9140814e",
   "metadata": {},
   "outputs": [
    {
     "name": "stdout",
     "output_type": "stream",
     "text": [
      "2 : 2\n",
      "3. : 1\n",
      "3? : 1\n",
      "New : 1\n",
      "Python : 5\n",
      "Read : 1\n",
      "and : 1\n",
      "between : 1\n",
      "choosing : 1\n",
      "or : 2\n",
      "to : 1\n"
     ]
    }
   ],
   "source": [
    "import pandas as pd\n",
    "def get_counts(s):\n",
    "    freq={}\n",
    "    s=s.split()\n",
    "    for item in s:\n",
    "        if freq.get(item)==None:\n",
    "            freq[item]=1\n",
    "        else:\n",
    "            freq[item]+=1\n",
    "    for item in sorted(freq):\n",
    "        print(f\"{item} : {freq[item]}\")\n",
    "    \n",
    "    \n",
    "\n",
    "s=\"New to Python or choosing between Python 2 and Python 3? Read Python 2 or Python 3.\"\n",
    "get_counts(s)\n",
    "\n"
   ]
  },
  {
   "cell_type": "code",
   "execution_count": 36,
   "id": "3e40dd1d",
   "metadata": {},
   "outputs": [
    {
     "name": "stdout",
     "output_type": "stream",
     "text": [
      "Male\n",
      "Female\n"
     ]
    }
   ],
   "source": [
    "#Question 3:\n",
    "\n",
    "#Define a class Person and its two child classes: Male and Female. All classes have a method \n",
    "#\"getGender\" which can print \"Male\" for Male class and \"Female\" for Female class.\n",
    "\n",
    "class Person:\n",
    "    def get_gender(self):\n",
    "        pass\n",
    "class Male(Person):\n",
    "    def get_gender(self):\n",
    "        print(\"Male\")\n",
    "class Female(Person):\n",
    "    def get_gender(self):\n",
    "        print(\"Female\")\n",
    "m1=Male()\n",
    "m1.get_gender()\n",
    "f1=Female()\n",
    "f1.get_gender()"
   ]
  },
  {
   "cell_type": "code",
   "execution_count": 39,
   "id": "246763fc",
   "metadata": {},
   "outputs": [
    {
     "name": "stdout",
     "output_type": "stream",
     "text": [
      "I Play Hockey.\n",
      "I Play Football.\n",
      "I Love Hockey.\n",
      "I Love Football.\n",
      "You Play Hockey.\n",
      "You Play Football.\n",
      "You Love Hockey.\n",
      "You Love Football.\n"
     ]
    }
   ],
   "source": [
    "#Question 4:\n",
    "#Please write a program to generate all sentences where subject is in [\"I\",\"You\"] and\n",
    "#verb is in [\"Play\", \"Love\"] and the object is in [\"Hockey\",\"Football\"].\n",
    "sub=['I','You']\n",
    "verb=['Play','Love']\n",
    "obj=['Hockey','Football']\n",
    "for i in sub:\n",
    "    for j in verb:\n",
    "        for k in obj:\n",
    "            print(f\"{i} {j} {k}.\")"
   ]
  },
  {
   "cell_type": "code",
   "execution_count": 42,
   "id": "0e696e05",
   "metadata": {},
   "outputs": [
    {
     "name": "stdout",
     "output_type": "stream",
     "text": [
      "Compressed string : \n",
      " hel2o world!hel2o world!hel2o world!hel2o world!\n",
      "\n",
      "Decompressed String : \n",
      " hello world!hello world!hello world!hello world!\n"
     ]
    }
   ],
   "source": [
    "#Question 5:\n",
    "#Please write a program to compress and decompress the string \"hello world!hello world!hello world!hello world!\".\n",
    "\n",
    "def compress(in_string):\n",
    "    output = in_string[0]\n",
    "    count = 1\n",
    "    for ele in range(len(in_string)-1):\n",
    "        if in_string[ele] == in_string[ele+1]:\n",
    "            count +=1\n",
    "        else:\n",
    "            if count > 1:\n",
    "                output += str(count)\n",
    "            output += in_string[ele+1]\n",
    "            count = 1\n",
    "    if count > 1:\n",
    "        output += str(count)            \n",
    "    return output\n",
    "\n",
    "\n",
    "def decompress(in_string):\n",
    "    output = ''\n",
    "    for ele in range(len(in_string)):\n",
    "        if in_string[ele].isdigit():\n",
    "            output += output[-1]*(int(in_string[ele])-1)\n",
    "        else:\n",
    "            output += in_string[ele]\n",
    "    return output\n",
    "    \n",
    "s=\"hello world!hello world!hello world!hello world!\"    \n",
    "cs=compress(s)\n",
    "print(\"Compressed string : \\n\",cs)\n",
    "print(\"\\nDecompressed String : \\n\",decompress(cs))\n"
   ]
  },
  {
   "cell_type": "code",
   "execution_count": 45,
   "id": "f591ea7f",
   "metadata": {},
   "outputs": [
    {
     "name": "stdout",
     "output_type": "stream",
     "text": [
      "Element is present at index 3\n"
     ]
    }
   ],
   "source": [
    "#Question 6:\n",
    "#Please write a binary search function which searches an item in a sorted list. The\n",
    "#function should return the index of element to be searched in the list.\n",
    "\n",
    "def binary_search(arr, low, high, x):\n",
    "     if high >= low: \n",
    "        mid = (high + low) // 2\n",
    "        if arr[mid] == x:\n",
    "            return mid\n",
    " \n",
    "        elif arr[mid] > x:\n",
    "            return binary_search(arr, low, mid - 1, x)\n",
    " \n",
    "        else:\n",
    "            return binary_search(arr, mid + 1, high, x)\n",
    " \n",
    "     else:\n",
    "        return -1\n",
    " \n",
    "\n",
    "a = [ 12,23,34,45,67,78,89,90 ]\n",
    "result = binary_search(a, 0, len(a)-1, 45)\n",
    " \n",
    "if result != -1:\n",
    "    print(\"Element is present at index\", str(result))\n",
    "else:\n",
    "    print(\"Element is not present in array\")"
   ]
  }
 ],
 "metadata": {
  "kernelspec": {
   "display_name": "Python 3 (ipykernel)",
   "language": "python",
   "name": "python3"
  },
  "language_info": {
   "codemirror_mode": {
    "name": "ipython",
    "version": 3
   },
   "file_extension": ".py",
   "mimetype": "text/x-python",
   "name": "python",
   "nbconvert_exporter": "python",
   "pygments_lexer": "ipython3",
   "version": "3.9.12"
  }
 },
 "nbformat": 4,
 "nbformat_minor": 5
}
