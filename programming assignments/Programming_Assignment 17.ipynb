{
  "nbformat": 4,
  "nbformat_minor": 0,
  "metadata": {
    "colab": {
      "provenance": []
    },
    "kernelspec": {
      "name": "python3",
      "display_name": "Python 3"
    },
    "language_info": {
      "name": "python"
    }
  },
  "cells": [
    {
      "cell_type": "code",
      "execution_count": 15,
      "metadata": {
        "colab": {
          "base_uri": "https://localhost:8080/"
        },
        "id": "sc8rQ3eFP7Bi",
        "outputId": "84e8e0bb-0e8f-43b4-9273-ddc5b79b9c16"
      },
      "outputs": [
        {
          "output_type": "stream",
          "name": "stdout",
          "text": [
            "sum_num(1, 10, 2)==>2 + 4 + 6 + 8 + 10 = 30\n"
          ]
        }
      ],
      "source": [
        "#Question1. Create a function that takes three arguments a, b, c and returns the sum of the\n",
        "#numbers that are evenly divided by c from the range a, b inclusive.\n",
        "import string\n",
        "def sum_num(a,b,c):\n",
        "    sum=0\n",
        "    res=\"\"\n",
        "    for i in range(a,b+1):\n",
        "        if i%c==0:\n",
        "            sum+=i\n",
        "            res+=str(i)+\" + \"\n",
        "    return f\"sum_num{a,b,c}==>\"+res.rstrip(\"+ \")+\" = \"+str(sum)\n",
        "\n",
        "print(sum_num(1,10,2))"
      ]
    },
    {
      "cell_type": "code",
      "source": [
        "#Question2. Create a function that returns True if a given inequality expression is correct and False otherwise.\n",
        "\n",
        "def checkEquality():\n",
        "    in_string = input('Enter the inequality: ')\n",
        "    out_bool = eval(in_string)\n",
        "    print(f'{in_string} ➞ {out_bool}')\n",
        "\n",
        "checkEquality()\n",
        "checkEquality()\n",
        "checkEquality()"
      ],
      "metadata": {
        "colab": {
          "base_uri": "https://localhost:8080/"
        },
        "id": "rPh0UPiWT7CW",
        "outputId": "b98ea286-2009-416c-c367-47b06fbdb1f7"
      },
      "execution_count": 18,
      "outputs": [
        {
          "output_type": "stream",
          "name": "stdout",
          "text": [
            "Enter the inequality: 3<7<11\n",
            "3<7<11 ➞ True\n",
            "Enter the inequality: 13 > 44 > 33 > 1\n",
            "13 > 44 > 33 > 1 ➞ False\n",
            "Enter the inequality: 1 < 2 < 6 < 9 > 3\n",
            "1 < 2 < 6 < 9 > 3 ➞ True\n"
          ]
        }
      ]
    },
    {
      "cell_type": "code",
      "source": [
        "#Question3. Create a function that replaces all the vowels in a string with a specified character.\n",
        "\n",
        "def replace_vowel():\n",
        "    vowels = ['a','e','i','o','u']\n",
        "    input_str = input(\"Enter a string : \")\n",
        "    rep_char = input(\"Enter the replacement character : \")\n",
        "    s=input_str\n",
        "    for letter in input_str:\n",
        "        if letter.lower() in vowels:\n",
        "            input_str=input_str.replace(letter, rep_char)\n",
        "    print(f\"\\n\\nOriginal String     : {s}\\nReplacing character : {rep_char}\\nResultant String    : {input_str}\")\n",
        "\n",
        "    \n",
        "replace_vowel()"
      ],
      "metadata": {
        "colab": {
          "base_uri": "https://localhost:8080/"
        },
        "id": "yFSXbtOQUwxl",
        "outputId": "658e287b-e05c-4fae-bdcf-4ccaae846d07"
      },
      "execution_count": 21,
      "outputs": [
        {
          "output_type": "stream",
          "name": "stdout",
          "text": [
            "Enter a string : minnie mouse\n",
            "Enter the replacement character : ?\n",
            "\n",
            "\n",
            "Original String     : minnie mouse\n",
            "Replacing character : ?\n",
            "Resultant String    : m?nn?? m??s?\n"
          ]
        }
      ]
    },
    {
      "cell_type": "code",
      "source": [
        "#Question4. Write a function that calculates the factorial of a number recursively.\n",
        "\n",
        "def fact(n):\n",
        "    if n==0:\n",
        "        return 1\n",
        "    return n * fact(n-1)\n",
        "fact(5)"
      ],
      "metadata": {
        "colab": {
          "base_uri": "https://localhost:8080/"
        },
        "id": "t019xbl9V9vN",
        "outputId": "63ee3bb4-71bc-4715-973f-847c5bcce17a"
      },
      "execution_count": 22,
      "outputs": [
        {
          "output_type": "execute_result",
          "data": {
            "text/plain": [
              "120"
            ]
          },
          "metadata": {},
          "execution_count": 22
        }
      ]
    },
    {
      "cell_type": "code",
      "source": [
        "#Question 5\n",
        "#Hamming distance is the number of characters that differ between two strings.\n",
        "#To illustrate:\n",
        "#String1: 'abcbba'\n",
        "#String2: 'abcbda'\n",
        "#Hamming Distance: 1 -'b' vs. 'd' is the only difference.\n",
        "#Create a function that computes the hamming distance between two strings.\n",
        "\n",
        "def Hamming(s1,s2):\n",
        "    if len(s1)!=len(s2):\n",
        "        print(\"Strings must be of the same length\")\n",
        "    else:\n",
        "        count=0\n",
        "        for i in range(len(s1)):\n",
        "            if s1[i]!=s2[i]:\n",
        "                count+=1\n",
        "        return count\n",
        "Hamming(\"abcde\",\"abddd\")"
      ],
      "metadata": {
        "colab": {
          "base_uri": "https://localhost:8080/"
        },
        "id": "2piAauOYXh29",
        "outputId": "d4217607-8b05-4fe6-9a07-28e7cbfa3aa1"
      },
      "execution_count": 24,
      "outputs": [
        {
          "output_type": "execute_result",
          "data": {
            "text/plain": [
              "2"
            ]
          },
          "metadata": {},
          "execution_count": 24
        }
      ]
    }
  ]
}