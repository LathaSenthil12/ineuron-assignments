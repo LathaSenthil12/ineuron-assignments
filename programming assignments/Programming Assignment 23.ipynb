{
  "nbformat": 4,
  "nbformat_minor": 0,
  "metadata": {
    "colab": {
      "provenance": []
    },
    "kernelspec": {
      "name": "python3",
      "display_name": "Python 3"
    },
    "language_info": {
      "name": "python"
    }
  },
  "cells": [
    {
      "cell_type": "code",
      "execution_count": 3,
      "metadata": {
        "colab": {
          "base_uri": "https://localhost:8080/"
        },
        "id": "GY8Ovlwn9uzr",
        "outputId": "2f02b35a-9e71-4296-c053-1e82f4e486e5"
      },
      "outputs": [
        {
          "output_type": "stream",
          "name": "stdout",
          "text": [
            "True\n",
            "False\n",
            "True\n",
            "False\n",
            "True\n"
          ]
        }
      ],
      "source": [
        "#Question 1\n",
        "#Create a function that takes a number as an argument and returns True or False depending\n",
        "#on whether the number is symmetrical or not. A number is symmetrical when it is the same as\n",
        "#its reverse.\n",
        "\n",
        "def is_symmetrical(num):\n",
        "    n=num\n",
        "    rev=0\n",
        "    while n>0:\n",
        "        dig=n%10\n",
        "        rev=rev*10+dig\n",
        "        n=n//10\n",
        "    if rev==num:\n",
        "        print(True)\n",
        "    else:\n",
        "        print(False)\n",
        "is_symmetrical(7227) \n",
        "is_symmetrical(12567)\n",
        "is_symmetrical(44444444) \n",
        "is_symmetrical(9939) \n",
        "is_symmetrical(1112111)"
      ]
    },
    {
      "cell_type": "code",
      "source": [
        "#Question 2\n",
        "#Given a string of numbers separated by a comma and space, return the product of the numbers.\n",
        "\n",
        "def multiply_nums(s):\n",
        "    prod=1\n",
        "    s_list= s.split(', ')\n",
        "    for i in s_list:\n",
        "        prod*=int(i)\n",
        "    print(f\"{s} ==> {prod}\")\n",
        "\n",
        "multiply_nums('2, 3') \n",
        "multiply_nums('1, 2, 3, 4') \n",
        "multiply_nums('54, 75, 453, 0')\n",
        "multiply_nums('10, -2')"
      ],
      "metadata": {
        "colab": {
          "base_uri": "https://localhost:8080/"
        },
        "id": "5IxCJtNx_Eeo",
        "outputId": "df57bcf6-efd6-4470-e242-9a60d762c478"
      },
      "execution_count": 5,
      "outputs": [
        {
          "output_type": "stream",
          "name": "stdout",
          "text": [
            "2, 3 ==> 6\n",
            "1, 2, 3, 4 ==> 24\n",
            "54, 75, 453, 0 ==> 0\n",
            "10, -2 ==> -20\n"
          ]
        }
      ]
    },
    {
      "cell_type": "code",
      "source": [
        "#Question 3\n",
        "#Create a function that squares every digit of a number.\n",
        "\n",
        "def square_digits(num):\n",
        "    i_lst = [str(int(digit)**2) for digit in str(num)]\n",
        "    res = ''.join(i_lst)\n",
        "    print(f'{num} ➞ {int(res)}')\n",
        "\n",
        "square_digits(9119)\n",
        "square_digits(2483)\n",
        "square_digits(3212)\n",
        "\n",
        "\n",
        "    "
      ],
      "metadata": {
        "colab": {
          "base_uri": "https://localhost:8080/"
        },
        "id": "lIpHMAp6_8XY",
        "outputId": "a62a4639-48eb-403f-f53d-3c22e601e5b5"
      },
      "execution_count": 10,
      "outputs": [
        {
          "output_type": "stream",
          "name": "stdout",
          "text": [
            "9119 ➞ 811181\n",
            "2483 ➞ 416649\n",
            "3212 ➞ 9414\n"
          ]
        }
      ]
    },
    {
      "cell_type": "code",
      "source": [
        "#Question 4\n",
        "#Create a function that sorts a list and removes all duplicate items from it.\n",
        "\n",
        "def setify(in_list):\n",
        "    out_list = sorted(set(in_list))\n",
        "    print(f'{in_list} ➞ {out_list}')\n",
        "    \n",
        "setify([1, 3, 3, 5, 5]) \n",
        "setify([4, 4, 4, 4])\n",
        "setify([5, 7, 8, 9, 10, 15])\n",
        "setify([3, 3, 3, 2, 1])"
      ],
      "metadata": {
        "colab": {
          "base_uri": "https://localhost:8080/"
        },
        "id": "y4BevyZHDFC_",
        "outputId": "eb027bf9-2ad5-4b72-8ae3-dc04856d1d24"
      },
      "execution_count": 14,
      "outputs": [
        {
          "output_type": "stream",
          "name": "stdout",
          "text": [
            "[1, 3, 3, 5, 5] ➞ [1, 3, 5]\n",
            "[4, 4, 4, 4] ➞ [4]\n",
            "[5, 7, 8, 9, 10, 15] ➞ [5, 7, 8, 9, 10, 15]\n",
            "[3, 3, 3, 2, 1] ➞ [1, 2, 3]\n"
          ]
        }
      ]
    },
    {
      "cell_type": "code",
      "source": [
        "#Question 5\n",
        "#Create a function that returns the mean of all digits.\n",
        "\n",
        "def mean(num):\n",
        "    i_list = [int(d) for d in str(num)]\n",
        "    avg = sum(i_list)/len(str(num))\n",
        "    print(f'Mean of {num}  ➞ {avg:.0f}')\n",
        "    \n",
        "mean(42)\n",
        "mean(12345)\n",
        "mean(666)\n",
        "\n"
      ],
      "metadata": {
        "colab": {
          "base_uri": "https://localhost:8080/"
        },
        "id": "x2usw57KEHW1",
        "outputId": "481d7f67-c4a9-47e6-841f-34384360bcd8"
      },
      "execution_count": 15,
      "outputs": [
        {
          "output_type": "stream",
          "name": "stdout",
          "text": [
            "Mean of 42  ➞ 3\n",
            "Mean of 12345  ➞ 3\n",
            "Mean of 666  ➞ 6\n"
          ]
        }
      ]
    }
  ]
}