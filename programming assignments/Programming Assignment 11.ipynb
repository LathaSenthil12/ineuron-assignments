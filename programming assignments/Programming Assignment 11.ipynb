{
 "cells": [
  {
   "cell_type": "code",
   "execution_count": 3,
   "id": "84dd5ac0",
   "metadata": {},
   "outputs": [
    {
     "name": "stdout",
     "output_type": "stream",
     "text": [
      "['senthilkumaran', 'harinee', 'duruvan', 'lalitha']\n",
      "['senthilkumaran', 'harinee', 'duruvan', 'lalitha']\n",
      "['latha', 'senthilkumaran', 'harinee', 'duruvan', 'amala', 'padma', 'lalitha']\n"
     ]
    }
   ],
   "source": [
    "#Q1. Write a Python program to find words which are greater than given length k?\n",
    "def find_words(lst,k):\n",
    "    result=[]\n",
    "    for words in lst:\n",
    "        if len(words)>k:\n",
    "            result.append(words)\n",
    "    return result\n",
    "\n",
    "words_list=['latha','senthilkumaran','harinee','duruvan','anu','amala','padma','lalitha']\n",
    "\n",
    "print(find_words(words_list,6))\n",
    "print(find_words(words_list,5))\n",
    "print(find_words(words_list,4))\n",
    "            \n",
    "    \n",
    "\n",
    "\n",
    "\n"
   ]
  },
  {
   "cell_type": "code",
   "execution_count": 9,
   "id": "3dc9d432",
   "metadata": {},
   "outputs": [
    {
     "name": "stdout",
     "output_type": "stream",
     "text": [
      "Please enter a word : latha\n",
      "Please enter the index at which the character 2\n",
      "laha\n"
     ]
    }
   ],
   "source": [
    "#Q2. Write a Python program for removing i-th character from a string?\n",
    "def remove_char_from_index(word,i):\n",
    "    word=list(word)\n",
    "    word.pop(i)\n",
    "    return \"\".join(word)\n",
    "\n",
    "try:\n",
    "    word=input(\"Please enter a word : \")\n",
    "    index=int(input(\"Please enter the index at which the character \"))\n",
    "    print(remove_char_from_index(word,index))\n",
    "except:\n",
    "    print(\"Some error occured!!!\")"
   ]
  },
  {
   "cell_type": "code",
   "execution_count": 11,
   "id": "afae07a5",
   "metadata": {},
   "outputs": [
    {
     "name": "stdout",
     "output_type": "stream",
     "text": [
      "Enter a string : my name is latha senthil\n",
      "After splitting the input string : \n",
      " ['my', 'name', 'is', 'latha', 'senthil']\n",
      "After joining with the join character -- : \n",
      " my--name--is--latha--senthil\n"
     ]
    }
   ],
   "source": [
    "#Q3. Write a Python program to split and join a string?\n",
    "def split_join(string):\n",
    "    split=string.split(\" \")\n",
    "    print(\"After splitting the input string : \\n\",split)\n",
    "    res=\"--\".join(split)\n",
    "    print(\"After joining with the join character -- : \\n\",res)\n",
    "    \n",
    "string=input(\"Enter a string : \")\n",
    "split_join(string)"
   ]
  },
  {
   "cell_type": "code",
   "execution_count": 14,
   "id": "bf366b75",
   "metadata": {},
   "outputs": [
    {
     "name": "stdout",
     "output_type": "stream",
     "text": [
      "string is a binary string\n",
      "string is not a binary string\n"
     ]
    }
   ],
   "source": [
    "#Q4. Write a Python to check if a given string is binary string or not?\n",
    "def check_binary_string(string):\n",
    "    binary=['0','1']\n",
    "    flag=0\n",
    "    for char in string:\n",
    "        if char not in binary:\n",
    "            flag=1\n",
    "        else:\n",
    "            pass\n",
    "    if flag==1:\n",
    "        return \"string is not a binary string\"\n",
    "    else:\n",
    "        return \"string is a binary string\"\n",
    "            \n",
    "print(check_binary_string(\"1010101000111000\"))\n",
    "print(check_binary_string(\"12000101010110101\"))"
   ]
  },
  {
   "cell_type": "code",
   "execution_count": 15,
   "id": "58ca7c90",
   "metadata": {},
   "outputs": [
    {
     "name": "stdout",
     "output_type": "stream",
     "text": [
      "The uncommon words from both the strings are : \n",
      "\n",
      " ['sons', 'duruvan', 'daughters', 'harinee']\n"
     ]
    }
   ],
   "source": [
    "#Q5. Write a Python program to find uncommon words from two Strings?\n",
    "def get_uncommon_words(string1, string2):\n",
    "    list1=string1.split()\n",
    "    list2=string2.split()\n",
    "    result=[]\n",
    "    for word in list1:\n",
    "        if word not in list2:\n",
    "            result.append(word)\n",
    "    for word in list2:\n",
    "        if word not in list1:\n",
    "            result.append(word)\n",
    "    return result\n",
    "\n",
    "string1=\"My sons name is duruvan\"\n",
    "string2=\"My daughters name is harinee\"\n",
    "print(\"The uncommon words from both the strings are : \\n\\n\", get_uncommon_words(string1,string2))"
   ]
  },
  {
   "cell_type": "code",
   "execution_count": 18,
   "id": "19dcfd31",
   "metadata": {},
   "outputs": [
    {
     "name": "stdout",
     "output_type": "stream",
     "text": [
      "Please enter a string : string to check for duplicates\n",
      "The duplicate characters in the string are : \n",
      "['s', 't', 'r', 'i', ' ', 'o', 'c', 'e']\n"
     ]
    }
   ],
   "source": [
    "#Q6. Write a Python to find all duplicate characters in string?\n",
    "def check_duplicates(string):\n",
    "    duplicates = []\n",
    "    for char in string:\n",
    "        if string.count(char) > 1:\n",
    "            if char not in duplicates:\n",
    "                duplicates.append(char)\n",
    "    return duplicates\n",
    "\n",
    "string=input(\"Please enter a string : \")\n",
    "print(f\"The duplicate characters in the string are : \\n{check_duplicates(string)}\")\n"
   ]
  },
  {
   "cell_type": "code",
   "execution_count": 24,
   "id": "1e53a1de",
   "metadata": {},
   "outputs": [
    {
     "name": "stdout",
     "output_type": "stream",
     "text": [
      "String has special characters. The special character are : \n",
      "['@', '.', ',', '#']\n",
      "The string does not contain special characters\n"
     ]
    }
   ],
   "source": [
    "#Q7. Write a Python Program to check if a string contains any special character?\n",
    "import string\n",
    "def check_specialchar(s):\n",
    "    spec=list(string.punctuation)\n",
    "    \n",
    "    chars=[]\n",
    "    flag=0\n",
    "    for c in s:\n",
    "        if c in spec:\n",
    "            flag=1\n",
    "            chars.append(c)\n",
    "    if flag==1:\n",
    "        return f\"String has special characters. The special character are : \\n{chars}\"\n",
    "    else:\n",
    "        return \"The string does not contain special characters\"\n",
    "    \n",
    "print(check_specialchar(\"lathasenthil12@gmail.com, password#123\"))\n",
    "print(check_specialchar(\"my name is latha\"))\n",
    "            "
   ]
  }
 ],
 "metadata": {
  "kernelspec": {
   "display_name": "Python 3 (ipykernel)",
   "language": "python",
   "name": "python3"
  },
  "language_info": {
   "codemirror_mode": {
    "name": "ipython",
    "version": 3
   },
   "file_extension": ".py",
   "mimetype": "text/x-python",
   "name": "python",
   "nbconvert_exporter": "python",
   "pygments_lexer": "ipython3",
   "version": "3.9.12"
  }
 },
 "nbformat": 4,
 "nbformat_minor": 5
}
