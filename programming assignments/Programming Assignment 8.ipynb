{
 "cells": [
  {
   "cell_type": "code",
   "execution_count": 1,
   "id": "f09c7488",
   "metadata": {},
   "outputs": [
    {
     "data": {
      "text/plain": [
       "matrix([[10, 10, 10],\n",
       "        [10, 10, 10],\n",
       "        [10, 10, 10]])"
      ]
     },
     "execution_count": 1,
     "metadata": {},
     "output_type": "execute_result"
    }
   ],
   "source": [
    "#Q1. Write a Python Program to Add Two Matrices?\n",
    "import numpy as np\n",
    "\n",
    "X = np.matrix([[1,2,3], [4 ,5,6], [7 ,8,9]])\n",
    "\n",
    "Y = np.matrix([[9,8,7], [6,5,4], [3,2,1]])\n",
    "\n",
    "result =np.matrix([[0,0,0],[0,0,0],[0,0,0]])\n",
    "\n",
    "\n",
    "def mat_add(a,b):\n",
    "    for i in range(len(a)):\n",
    "   # iterate through columns\n",
    "       for j in range(len(a[0])):\n",
    "           result[i][j] = a[i][j] + b[i][j]\n",
    "    return result\n",
    "\n",
    "mat_add(X,Y)\n",
    "\n",
    "\n"
   ]
  },
  {
   "cell_type": "code",
   "execution_count": 2,
   "id": "7aecb3b8",
   "metadata": {},
   "outputs": [
    {
     "name": "stdout",
     "output_type": "stream",
     "text": [
      "[[ 30  24  18]\n",
      " [ 84  69  54]\n",
      " [138 114  90]]\n"
     ]
    }
   ],
   "source": [
    "#Q2. Write a Python Program to Multiply Two Matrices?\n",
    "X = np.matrix([[1,2,3], [4 ,5,6], [7 ,8,9]])\n",
    "\n",
    "Y = np.matrix([[9,8,7], [6,5,4], [3,2,1]])\n",
    "def mat_mul(a,b):\n",
    "    c=np.matmul(a,b)\n",
    "    return c\n",
    "\n",
    "print(mat_mul(X,Y))\n"
   ]
  },
  {
   "cell_type": "code",
   "execution_count": 3,
   "id": "1f764bf5",
   "metadata": {},
   "outputs": [
    {
     "name": "stdout",
     "output_type": "stream",
     "text": [
      "Original matrix : \n",
      "\n",
      "\n",
      "[[1, 2, 3], [4, 5, 6], [7, 8, 9]]\n",
      "\n",
      "\n",
      "Transpose of matrix : \n",
      "\n",
      "[1, 4, 7]\n",
      "[2, 5, 8]\n",
      "[3, 6, 9]\n"
     ]
    }
   ],
   "source": [
    "#Q3. Write a Python Program to Transpose a Matrix?\n",
    "def transpose(X):\n",
    "    result = [[X[j][i] for j in range(len(X))] for i in range(len(X[0]))]\n",
    "    for r in result:\n",
    "        print(r)\n",
    "\n",
    "X = [[1,2,3], [4 ,5,6], [7 ,8,9]]\n",
    "\n",
    "print(\"Original matrix : \\n\\n\")\n",
    "print(X)\n",
    "\n",
    "print(\"\\n\\nTranspose of matrix : \\n\")\n",
    "transpose(X)"
   ]
  },
  {
   "cell_type": "code",
   "execution_count": 9,
   "id": "1137672b",
   "metadata": {},
   "outputs": [
    {
     "name": "stdout",
     "output_type": "stream",
     "text": [
      "Original list of words : \n",
      "\n",
      "['ball', 'apple', 'beast', 'zomato', 'swiggy', 'amazon']\n",
      "\n",
      "\n",
      "Sorted list of words : \n",
      "\n",
      "['amazon', 'apple', 'ball', 'beast', 'swiggy', 'zomato']\n"
     ]
    }
   ],
   "source": [
    "#Q4. Write a Python Program to Sort Words in Alphabetic Order?\n",
    "list_of_words=['ball','apple','beast','zomato','swiggy','amazon']\n",
    "\n",
    "def sort_words(lst):\n",
    "    lst.sort()\n",
    "    return lst\n",
    "\n",
    "print(f\"Original list of words : \\n\\n{list_of_words}\")\n",
    "print(f\"\\n\\nSorted list of words : \\n\\n{sort_words(list_of_words)}\")"
   ]
  },
  {
   "cell_type": "code",
   "execution_count": 13,
   "id": "f219273a",
   "metadata": {},
   "outputs": [
    {
     "name": "stdout",
     "output_type": "stream",
     "text": [
      "Original string : \n",
      "\n",
      "My name is Latha. I'd love to meet up with my friends. The username is La1@se#. Let's see if this works....\n",
      "\n",
      "After removing the punctuations : \n",
      "\n",
      "My name is Latha Id love to meet up with my friends The username is La1se Lets see if this works\n"
     ]
    }
   ],
   "source": [
    "#Q5. Write a Python Program to Remove Punctuation From a String?\n",
    "import string\n",
    "\n",
    "def remove_punc(strings):\n",
    "    result=strings.translate(str.maketrans('', '', string.punctuation))\n",
    "    return result\n",
    "\n",
    "\n",
    "sample=\"My name is Latha. I'd love to meet up with my friends. The username is La1@se#. Let's see if this works....\"\n",
    "print(f\"Original string : \\n\\n{sample}\")\n",
    "print(f\"\\nAfter removing the punctuations : \\n\\n{remove_punc(sample)}\")"
   ]
  },
  {
   "cell_type": "code",
   "execution_count": null,
   "id": "29308330",
   "metadata": {},
   "outputs": [],
   "source": []
  }
 ],
 "metadata": {
  "kernelspec": {
   "display_name": "Python 3 (ipykernel)",
   "language": "python",
   "name": "python3"
  },
  "language_info": {
   "codemirror_mode": {
    "name": "ipython",
    "version": 3
   },
   "file_extension": ".py",
   "mimetype": "text/x-python",
   "name": "python",
   "nbconvert_exporter": "python",
   "pygments_lexer": "ipython3",
   "version": "3.9.12"
  }
 },
 "nbformat": 4,
 "nbformat_minor": 5
}
