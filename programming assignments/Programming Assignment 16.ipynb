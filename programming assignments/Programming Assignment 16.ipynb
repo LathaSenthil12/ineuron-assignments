{
 "cells": [
  {
   "cell_type": "markdown",
   "id": "b91c58d2",
   "metadata": {},
   "source": [
    "Question1. Write a function that stutters a word as if someone is struggling to read it. The\n",
    "first two letters are repeated twice with an ellipsis ... and space after each, and then the\n",
    "word is pronounced with a question mark ?.\n",
    "Examples\n",
    "stutter(\"incredible\") ➞ \"in... in... incredible?\"\n",
    "stutter(\"enthusiastic\") ➞ \"en... en... enthusiastic?\"\n",
    "stutter(\"outstanding\") ➞\"ou... ou... outstanding?\"\n",
    "\n",
    "Hint :- Assume all input is in lower case and at least two characters long."
   ]
  },
  {
   "cell_type": "code",
   "execution_count": 4,
   "id": "b2d99068",
   "metadata": {},
   "outputs": [
    {
     "name": "stdout",
     "output_type": "stream",
     "text": [
      "\"in... in... incredible?\"\n",
      "\"en... en... enthusiastic?\"\n",
      "\"ou... ou... outstanding?\"\n"
     ]
    }
   ],
   "source": [
    "def stutter(s):\n",
    "    substr=s[:2]\n",
    "    return f'\\\"{substr}... {substr}... {s}?\\\"'\n",
    "print(stutter(\"incredible\"))\n",
    "print(stutter(\"enthusiastic\"))\n",
    "print(stutter(\"outstanding\"))"
   ]
  },
  {
   "cell_type": "markdown",
   "id": "b9a9610f",
   "metadata": {},
   "source": [
    "Question 2.Create a function that takes an angle in radians and returns the corresponding\n",
    "angle in degrees rounded to one decimal place.\n",
    "Examples\n",
    "radians_to_degrees(1) ➞ 57.3\n",
    "radians_to_degrees(20) ➞ 1145.9\n",
    "radians_to_degrees(50) ➞ 2864.8"
   ]
  },
  {
   "cell_type": "code",
   "execution_count": 10,
   "id": "7e50a3e3",
   "metadata": {},
   "outputs": [
    {
     "name": "stdout",
     "output_type": "stream",
     "text": [
      "57.3\n",
      "1145.9\n",
      "2864.8\n"
     ]
    }
   ],
   "source": [
    "def radians_to_degrees(rad):\n",
    "    return rad * 57.2957795\n",
    "\n",
    "print(round(radians_to_degrees(1),1))\n",
    "print(round(radians_to_degrees(20),1) )\n",
    "print(round(radians_to_degrees(50),1) )"
   ]
  },
  {
   "cell_type": "markdown",
   "id": "b51288c5",
   "metadata": {},
   "source": [
    "Question 3. In this challenge, establish if a given integer num is a Curzon number. If 1 plus\n",
    "2 elevated to num is exactly divisible by 1 plus 2 multiplied by num, then num is a Curzon\n",
    "number.\n",
    "Given a non-negative integer num, implement a function that returns True if num is a Curzon\n",
    "number, or False otherwise.\n",
    "Examples\n",
    "is_curzon(5) ➞ True\n",
    "2 ** 5 + 1 = 33\n",
    "2 * 5 + 1 = 11\n",
    "33 is a multiple of 11\n",
    "\n",
    "is_curzon(10) ➞ False\n",
    "2 ** 10 + 1 = 1025\n",
    "2 * 10 + 1 = 21\n",
    "1025 is not a multiple of 21\n",
    "\n",
    "is_curzon(14) ➞ True\n",
    "2 ** 14 + 1 = 16385\n",
    "2 * 14 + 1 = 29\n",
    "16385 is a multiple of 29\n",
    "2N+1 divides (2^N)+1"
   ]
  },
  {
   "cell_type": "code",
   "execution_count": 14,
   "id": "1212bc0d",
   "metadata": {},
   "outputs": [
    {
     "name": "stdout",
     "output_type": "stream",
     "text": [
      "2**5 + 1 = 33\n",
      "2 * 5 + 1 = 11\n",
      "33 is a multiple of 11\n",
      "5 is a Curzon Number\n",
      "\n",
      "2**10 + 1 = 1025\n",
      "2 * 10 + 1 = 21\n",
      "1025 is a not multiple of 21\n",
      "10 is not a Curzon Number\n",
      "\n",
      "2**14 + 1 = 16385\n",
      "2 * 14 + 1 = 29\n",
      "16385 is a multiple of 29\n",
      "14 is a Curzon Number\n",
      "\n"
     ]
    }
   ],
   "source": [
    "def check_curzon(N):\n",
    "    print(f\"2**{N} + 1 = {((2**N)+1)}\")\n",
    "    print(f\"2 * {N} + 1 = {((2*N)+1)}\")\n",
    "    if ((2**N)+1)%((2*N)+1)==0:\n",
    "        print(f\"{((2**N)+1)} is a multiple of {((2*N)+1)}\")\n",
    "        print(f\"{N} is a Curzon Number\\n\")\n",
    "    else:\n",
    "        print(f\"{((2**N)+1)} is a not multiple of {((2*N)+1)}\")\n",
    "        print(f\"{N} is not a Curzon Number\\n\")\n",
    "        \n",
    "check_curzon(5)\n",
    "check_curzon(10)\n",
    "check_curzon(14)\n",
    "        "
   ]
  },
  {
   "cell_type": "markdown",
   "id": "b934339c",
   "metadata": {},
   "source": [
    "Question 4.Given the side length x find the area of a hexagon.\n",
    "\n",
    "Examples\n",
    "area_of_hexagon(1) ➞ 2.6\n",
    "area_of_hexagon(2) ➞ 10.4\n",
    "area_of_hexagon(3) ➞ 23.4"
   ]
  },
  {
   "cell_type": "code",
   "execution_count": 16,
   "id": "76e4d28f",
   "metadata": {},
   "outputs": [
    {
     "name": "stdout",
     "output_type": "stream",
     "text": [
      "Area of hexagon with side 1 unit is 2.6 sq units.\n",
      "Area of hexagon with side 2 unit is 10.4 sq units.\n",
      "Area of hexagon with side 3 unit is 23.4 sq units.\n"
     ]
    }
   ],
   "source": [
    "import numpy as np\n",
    "def area_of_hexagon(s):\n",
    "    return (3*np.sqrt(3)*(s**2))/2\n",
    "\n",
    "print(f\"Area of hexagon with side 1 unit is {round(area_of_hexagon(1),1)} sq units.\")\n",
    "print(f\"Area of hexagon with side 2 unit is {round(area_of_hexagon(2),1)} sq units.\")\n",
    "print(f\"Area of hexagon with side 3 unit is {round(area_of_hexagon(3),1)} sq units.\")"
   ]
  },
  {
   "cell_type": "markdown",
   "id": "c24a4cfe",
   "metadata": {},
   "source": [
    "Question 5. Create a function that returns a base-2 (binary) representation of a base-10\n",
    "(decimal) string number. To convert is simple: ((2) means base-2 and (10) means base-10)\n",
    "010101001(2) = 1 + 8 + 32 + 128.\n",
    "Going from right to left, the value of the most right bit is 1, now from that every bit to the left\n",
    "will be x2 the value, value of an 8 bit binary numbers are (256, 128, 64, 32, 16, 8, 4, 2, 1).\n",
    "Examples\n",
    "binary(1) ➞ \"1\"\n",
    "1*1 = 1\n",
    "binary(5) ➞ \"101\"\n",
    "1*1 + 1*4 = 5\n",
    "binary(10) ➞ \"1010\"\n",
    "1*2 + 1*8 = 10"
   ]
  },
  {
   "cell_type": "code",
   "execution_count": 26,
   "id": "7f239c8c",
   "metadata": {},
   "outputs": [
    {
     "name": "stdout",
     "output_type": "stream",
     "text": [
      "1\n",
      "5\n",
      "10\n"
     ]
    }
   ],
   "source": [
    "def binary(n):\n",
    "    dec=0\n",
    "    for i in range(1,len(n)+1):\n",
    "        dec+=int(n[-i])*2**(i-1)\n",
    "       \n",
    "    return dec\n",
    "\n",
    "print(binary(\"1\"))\n",
    "print(binary(\"101\"))\n",
    "print(binary(\"1010\"))\n",
    "        \n",
    "        "
   ]
  }
 ],
 "metadata": {
  "kernelspec": {
   "display_name": "Python 3 (ipykernel)",
   "language": "python",
   "name": "python3"
  },
  "language_info": {
   "codemirror_mode": {
    "name": "ipython",
    "version": 3
   },
   "file_extension": ".py",
   "mimetype": "text/x-python",
   "name": "python",
   "nbconvert_exporter": "python",
   "pygments_lexer": "ipython3",
   "version": "3.9.12"
  }
 },
 "nbformat": 4,
 "nbformat_minor": 5
}
