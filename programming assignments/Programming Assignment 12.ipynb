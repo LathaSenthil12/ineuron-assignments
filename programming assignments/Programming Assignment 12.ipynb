{
 "cells": [
  {
   "cell_type": "code",
   "execution_count": 1,
   "id": "63eac04c",
   "metadata": {},
   "outputs": [
    {
     "name": "stdout",
     "output_type": "stream",
     "text": [
      "The values of the dictionary are : \n",
      "\n",
      " ['man', 'man', 'woman', 'widow']\n",
      "\n",
      "\n",
      "The extracted unique values from the dictionary are : \n",
      "\n",
      " ['man', 'woman', 'widow']\n"
     ]
    }
   ],
   "source": [
    "#Q1. Write a Python program to Extract Unique values dictionary values?\n",
    "\n",
    "def unique_values(d):\n",
    "    result=[]\n",
    "    for value in d.values():\n",
    "        if value not in result:\n",
    "            result.append(value)\n",
    "    return result\n",
    "\n",
    "d={\"super\":\"man\", \"bat\":\"man\",\"wonder\":\"woman\",\"black\":\"widow\"}\n",
    "print(\"The values of the dictionary are : \\n\\n\",list(d.values()))\n",
    "print(\"\\n\\nThe extracted unique values from the dictionary are : \\n\\n\",unique_values(d))\n"
   ]
  },
  {
   "cell_type": "code",
   "execution_count": 2,
   "id": "21ec31d7",
   "metadata": {},
   "outputs": [
    {
     "name": "stdout",
     "output_type": "stream",
     "text": [
      "The sum of all the numeric info in the given dictionary is :  8\n"
     ]
    }
   ],
   "source": [
    "#Q2. Write a Python program to find the sum of all items in a dictionary?\n",
    "\n",
    "def sum_items(d):\n",
    "    sum=0\n",
    "    for key in d.keys():\n",
    "        if (type(key)==int) or (type(key)==float):\n",
    "            sum+=key\n",
    "    for value in d.values():\n",
    "        if (type(value)==int) or (type(value)==float):\n",
    "            sum+=value\n",
    "    return sum\n",
    "\n",
    "d={1:2,\"2\":2,\"name\":\"latha\",2:1}\n",
    "print(\"The sum of all the numeric info in the given dictionary is : \",sum_items(d))\n",
    "            \n",
    "            "
   ]
  },
  {
   "cell_type": "code",
   "execution_count": 3,
   "id": "51a30cbf",
   "metadata": {},
   "outputs": [
    {
     "name": "stdout",
     "output_type": "stream",
     "text": [
      "{'name': 'latha', 'city': 'Bengaluru', 'hubby': 'Senthil', 'Bike': 'Royal Enfield Classic 350'}\n"
     ]
    }
   ],
   "source": [
    "#Q3. Write a Python program to Merging two Dictionaries?\n",
    "def merge_dict(d1,d2):\n",
    "    d1.update(d2)\n",
    "    return d1\n",
    "\n",
    "d1={\"name\":\"latha\",\"city\":\"Bengaluru\"}\n",
    "d2={\"hubby\":\"Senthil\",\"Bike\":\"Royal Enfield Classic 350\"}\n",
    "\n",
    "print(merge_dict(d1,d2))"
   ]
  },
  {
   "cell_type": "code",
   "execution_count": 4,
   "id": "0eb8d60d",
   "metadata": {},
   "outputs": [
    {
     "name": "stdout",
     "output_type": "stream",
     "text": [
      "Requirement already satisfied: flatdict==2.0.0 in c:\\users\\latha\\anaconda3\\lib\\site-packages (2.0.0)\n",
      "Original dictionary : \n",
      "\n",
      " {'a': 'b', 'c': {'d': 'e', 'e': 'f'}, '1': '2'}\n",
      "\n",
      "\n",
      " Flat Dictionary Representation : \n",
      "\n",
      " {'1': '2', 'a': 'b', 'c.d': 'e', 'c.e': 'f'}\n"
     ]
    }
   ],
   "source": [
    "#Q4. Write a Python program to convert key-values list to flat dictionary?\n",
    "!pip install flatdict==2.0.0\n",
    "import flatdict\n",
    "\n",
    "def flat_dict(d):\n",
    "    return flatdict.FlatDict(d,delimiter='.')\n",
    "\n",
    "nested_dict={\"a\":\"b\",\"c\":{\"d\":\"e\",\"e\":\"f\"},\"1\":\"2\"}\n",
    "print(\"Original dictionary : \\n\\n\",nested_dict)\n",
    "print(\"\\n\\n Flat Dictionary Representation : \\n\\n\",flat_dict(nested_dict))"
   ]
  },
  {
   "cell_type": "code",
   "execution_count": 5,
   "id": "375f7abc",
   "metadata": {},
   "outputs": [
    {
     "name": "stdout",
     "output_type": "stream",
     "text": [
      "The dictionary is :\n",
      "OrderedDict([('LastName', 'Senthil'), ('Lang', 'Tamil'), ('City', 'Bengaluru')])\n",
      "The resultant dictionary is : \n",
      "OrderedDict([('FirstName', 'Latha'), ('LastName', 'Senthil'), ('Lang', 'Tamil'), ('City', 'Bengaluru')])\n"
     ]
    }
   ],
   "source": [
    "#Q5. Write a Python program to insertion at the beginning in OrderedDict?\n",
    "from collections import OrderedDict\n",
    "\n",
    "my_ordered_dict = OrderedDict([('LastName', 'Senthil'), ('Lang', 'Tamil'), ('City', 'Bengaluru')])\n",
    "print(\"The dictionary is :\")\n",
    "print(my_ordered_dict)\n",
    "my_ordered_dict.update({'FirstName':'Latha'})\n",
    "my_ordered_dict.move_to_end('FirstName', last = False)\n",
    "\n",
    "print(\"The resultant dictionary is : \")\n",
    "print(my_ordered_dict)"
   ]
  },
  {
   "cell_type": "code",
   "execution_count": 6,
   "id": "e8af3fac",
   "metadata": {},
   "outputs": [
    {
     "name": "stdout",
     "output_type": "stream",
     "text": [
      "The string is \n",
      "Latha Senthil\n",
      "The input pattern is \n",
      "th\n",
      "The order of pattern is correct\n"
     ]
    }
   ],
   "source": [
    "#Q6. Write a Python program to check order of character in string using OrderedDict()?\n",
    "from collections import OrderedDict\n",
    "\n",
    "def check_order(inp, pattern):\n",
    "    d = OrderedDict.fromkeys(inp)\n",
    "    #print(d)\n",
    "    pattern_length = 0\n",
    "    for key,value in d.items():\n",
    "        if (key == pattern[pattern_length]):\n",
    "            pattern_length = pattern_length +1\n",
    "\n",
    "        if (pattern_length == (len(pattern))):\n",
    "            return 'The order of pattern is correct'\n",
    "\n",
    "    return 'The order of pattern is incorrect'\n",
    "\n",
    "inp = 'Latha Senthil'\n",
    "pattern = 'th'\n",
    "print(\"The string is \")\n",
    "print(inp)\n",
    "print(\"The input pattern is \")\n",
    "print(pattern)\n",
    "print(check_order(inp,pattern))"
   ]
  },
  {
   "cell_type": "code",
   "execution_count": 7,
   "id": "fb3ea6f2",
   "metadata": {},
   "outputs": [
    {
     "name": "stdout",
     "output_type": "stream",
     "text": [
      "Please select :\n",
      "1.Sort by keys\n",
      "2.Sort by values\n",
      "3.Exit\n",
      "\n",
      "1\n",
      "Dictionary : \n",
      " {21: 1, 34: 5, 12: 2, 1: 3}\n",
      "\n",
      "\n",
      "Sorting by the keys : \n",
      "\n",
      "\n",
      "(1, 3) (12, 2) (21, 1) (34, 5) Please select :\n",
      "1.Sort by keys\n",
      "2.Sort by values\n",
      "3.Exit\n",
      "\n",
      "2\n",
      "\n",
      "\n",
      "Dictionary : \n",
      "\n",
      " {21: 1, 34: 5, 12: 2, 1: 3}\n",
      "\n",
      "\n",
      "Sorting dictionary by the values : \n",
      "\n",
      "\n",
      "[(21, 1), (12, 2), (1, 3), (34, 5)]\n",
      "Please select :\n",
      "1.Sort by keys\n",
      "2.Sort by values\n",
      "3.Exit\n",
      "\n",
      "3\n"
     ]
    }
   ],
   "source": [
    "#Q7. Write a Python program to sort Python Dictionaries by Key or Value?\n",
    "\n",
    "def sort_dict(d):\n",
    "    \n",
    "    try:\n",
    "        while True:\n",
    "            choice=int(input(\"Please select :\\n1.Sort by keys\\n2.Sort by values\\n3.Exit\\n\\n\"))\n",
    "            if choice==1:\n",
    "                print(\"Dictionary : \\n\",d)\n",
    "                print(\"\\n\\nSorting by the keys : \\n\\n\")\n",
    "                for i in sorted(d):\n",
    "                    print((i, d[i]), end=\" \")\n",
    "                \n",
    "            elif choice==2:\n",
    "                print(\"\\n\\nDictionary : \\n\\n\",d)\n",
    "\n",
    "                print(\"\\n\\nSorting dictionary by the values : \\n\\n\")\n",
    "                print(sorted(d.items(), key=lambda kv:(kv[1], kv[0])))\n",
    "                \n",
    "            elif choice==3:\n",
    "                break\n",
    "            else:\n",
    "                print(\"Invalid choice\")\n",
    "                break\n",
    "           \n",
    "    except:\n",
    "        print(\"Some error occured\")\n",
    "        \n",
    "            \n",
    "\n",
    "            \n",
    "d={21:1,34:5,12:2,1:3}\n",
    "sort_dict(d)\n",
    "        \n"
   ]
  },
  {
   "cell_type": "code",
   "execution_count": null,
   "id": "0114c539",
   "metadata": {},
   "outputs": [],
   "source": [
    "\n"
   ]
  },
  {
   "cell_type": "code",
   "execution_count": null,
   "id": "b0645018",
   "metadata": {},
   "outputs": [],
   "source": []
  }
 ],
 "metadata": {
  "kernelspec": {
   "display_name": "Python 3 (ipykernel)",
   "language": "python",
   "name": "python3"
  },
  "language_info": {
   "codemirror_mode": {
    "name": "ipython",
    "version": 3
   },
   "file_extension": ".py",
   "mimetype": "text/x-python",
   "name": "python",
   "nbconvert_exporter": "python",
   "pygments_lexer": "ipython3",
   "version": "3.9.12"
  }
 },
 "nbformat": 4,
 "nbformat_minor": 5
}
