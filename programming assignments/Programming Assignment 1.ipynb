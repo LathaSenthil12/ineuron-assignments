{
 "cells": [
  {
   "cell_type": "code",
   "execution_count": 1,
   "id": "fdcf69d9",
   "metadata": {},
   "outputs": [
    {
     "name": "stdout",
     "output_type": "stream",
     "text": [
      "Hello Python\n"
     ]
    }
   ],
   "source": [
    "# 1. Write a Python program to print \"Hello Python\"?\n",
    "print(\"Hello Python\")"
   ]
  },
  {
   "cell_type": "code",
   "execution_count": 3,
   "id": "2d32051f",
   "metadata": {},
   "outputs": [
    {
     "name": "stdout",
     "output_type": "stream",
     "text": [
      "Addition :  30\n",
      "Division :  2\n"
     ]
    }
   ],
   "source": [
    "#2. Write a Python program to do arithmetical operations addition and division.?\n",
    "\n",
    "num1=10\n",
    "num2=20\n",
    "print(\"Addition : \",num1+num2)\n",
    "print(\"Division : \",num2//num1)"
   ]
  },
  {
   "cell_type": "code",
   "execution_count": 4,
   "id": "d69d6110",
   "metadata": {},
   "outputs": [
    {
     "name": "stdout",
     "output_type": "stream",
     "text": [
      "Enter the value for base b :  4\n",
      "Enter the value for the height h :  5\n",
      "The area of a triangle with base : 4 units and height : 5 units is 10.0 sq units.\n"
     ]
    }
   ],
   "source": [
    "#3. Write a Python program to find the area of a triangle?\n",
    "\n",
    "base = int(input(\"Enter the value for base b :  \"))\n",
    "height = int(input(\"Enter the value for the height h :  \"))\n",
    "area = 0.5 * base * height\n",
    "print(f\"The area of a triangle with base : {base} units and height : {height} units is {area} sq units.\")"
   ]
  },
  {
   "cell_type": "code",
   "execution_count": 6,
   "id": "5ced2623",
   "metadata": {},
   "outputs": [
    {
     "name": "stdout",
     "output_type": "stream",
     "text": [
      "The values before swapping num1 : 10\tnum2 : 20\n",
      "The values after swapping num1 : 20\tnum2 : 10\n"
     ]
    }
   ],
   "source": [
    "#4. Write a Python program to swap two variables?\n",
    "\n",
    "num1 = 10\n",
    "num2 = 20\n",
    "temp=0\n",
    "\n",
    "print(f\"The values before swapping num1 : {num1}\\tnum2 : {num2}\")\n",
    "temp=num2\n",
    "num2=num1\n",
    "num1=temp\n",
    "print(f\"The values after swapping num1 : {num1}\\tnum2 : {num2}\")"
   ]
  },
  {
   "cell_type": "code",
   "execution_count": 7,
   "id": "9d28b990",
   "metadata": {},
   "outputs": [
    {
     "name": "stdout",
     "output_type": "stream",
     "text": [
      "63\n"
     ]
    }
   ],
   "source": [
    "#5. Write a Python program to generate a random number?\n",
    "import random\n",
    "\n",
    "print(random.randint(1,100))"
   ]
  }
 ],
 "metadata": {
  "kernelspec": {
   "display_name": "Python 3 (ipykernel)",
   "language": "python",
   "name": "python3"
  },
  "language_info": {
   "codemirror_mode": {
    "name": "ipython",
    "version": 3
   },
   "file_extension": ".py",
   "mimetype": "text/x-python",
   "name": "python",
   "nbconvert_exporter": "python",
   "pygments_lexer": "ipython3",
   "version": "3.9.12"
  }
 },
 "nbformat": 4,
 "nbformat_minor": 5
}
