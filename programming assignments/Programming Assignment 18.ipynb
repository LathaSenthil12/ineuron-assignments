{
  "nbformat": 4,
  "nbformat_minor": 0,
  "metadata": {
    "colab": {
      "provenance": []
    },
    "kernelspec": {
      "name": "python3",
      "display_name": "Python 3"
    },
    "language_info": {
      "name": "python"
    }
  },
  "cells": [
    {
      "cell_type": "code",
      "execution_count": 1,
      "metadata": {
        "colab": {
          "base_uri": "https://localhost:8080/"
        },
        "id": "cQF4aViDZKE3",
        "outputId": "3fb4f567-44c0-4964-87f9-97985780388f"
      },
      "outputs": [
        {
          "output_type": "execute_result",
          "data": {
            "text/plain": [
              "[1, 2]"
            ]
          },
          "metadata": {},
          "execution_count": 1
        }
      ],
      "source": [
        "#Question 1\n",
        "#Create a function that takes a list of non-negative integers and strings and return a new list\n",
        "#without the strings.\n",
        "\n",
        "def filter(lst):\n",
        "    res=[]\n",
        "    for i in lst:\n",
        "        if type(i)==int:\n",
        "            res.append(i)\n",
        "    return res\n",
        "\n",
        "filter([1,2,\"a\",\"b\"])"
      ]
    },
    {
      "cell_type": "code",
      "source": [
        "#Question 2\n",
        "#The 'Reverser' takes a string as input and returns that string in reverse order, with the\n",
        "#opposite case.\n",
        "\n",
        "def reverser(s):\n",
        "     print(f'{s} ➞ {s[::-1].swapcase()}')\n",
        "\n",
        "reverser(\"Hello World\")"
      ],
      "metadata": {
        "colab": {
          "base_uri": "https://localhost:8080/"
        },
        "id": "aVWCkAgOfVp8",
        "outputId": "3a4daed3-2f2b-4ce4-cc9b-e5b7fba5409b"
      },
      "execution_count": 2,
      "outputs": [
        {
          "output_type": "stream",
          "name": "stdout",
          "text": [
            "Hello World ➞ DLROw OLLEh\n"
          ]
        }
      ]
    },
    {
      "cell_type": "markdown",
      "source": [
        "3.You can assign variables from lists like this:\n",
        "\n",
        "    lst = [1, 2, 3, 4, 5, 6] \n",
        "    first = lst[0]\n",
        "    middle = lst[1:-1]\n",
        "    last = lst[-1] \n",
        "    print(first) ➞ outputs 1 \n",
        "    print(middle) ➞ outputs [2, 3, 4, 5]\n",
        "    print(last) ➞ outputs 6\n",
        "\n",
        "With Python 3, you can assign variables from lists in a much more succinct way. Create variables first, middle and last from the given list using destructuring assignment\n",
        "(check the Resources tab for some examples), where:\n",
        "\n",
        "    first ➞ 1 \n",
        "    middle ➞ [2, 3, 4, 5]\n",
        "    last ➞ 6\n",
        "Your task is to unpack the list writeyourcodehere into three variables, being first, middle, and last, with middle being everything in between the first and last element. Then print all three variables."
      ],
      "metadata": {
        "id": "6yqWhHangPK5"
      }
    },
    {
      "cell_type": "code",
      "source": [
        "first, *middle, last = [1,2,3,4,5,6]\n",
        "print(f'first ➞ {first}')\n",
        "print(f'middle ➞ {middle}')\n",
        "print(f'last ➞ {last}')"
      ],
      "metadata": {
        "colab": {
          "base_uri": "https://localhost:8080/"
        },
        "id": "EHbt1HH-f8vp",
        "outputId": "c442fa52-a0a4-4897-a871-51afa917282b"
      },
      "execution_count": 3,
      "outputs": [
        {
          "output_type": "stream",
          "name": "stdout",
          "text": [
            "first ➞ 1\n",
            "middle ➞ [2, 3, 4, 5]\n",
            "last ➞ 6\n"
          ]
        }
      ]
    },
    {
      "cell_type": "code",
      "source": [
        "#Question 4\n",
        "#Write a function that calculates the factorial of a number recursively.\n",
        "\n",
        "def factorial(n):\n",
        "    if n==0:\n",
        "        return 1\n",
        "    return n * factorial(n-1)\n",
        "\n",
        "factorial(5)"
      ],
      "metadata": {
        "colab": {
          "base_uri": "https://localhost:8080/"
        },
        "id": "cEKKqFmyg1JZ",
        "outputId": "eeeb740b-597e-4d73-adb7-93cee8b157c4"
      },
      "execution_count": 4,
      "outputs": [
        {
          "output_type": "execute_result",
          "data": {
            "text/plain": [
              "120"
            ]
          },
          "metadata": {},
          "execution_count": 4
        }
      ]
    },
    {
      "cell_type": "code",
      "source": [
        "#Question 5\n",
        "#Write a function that moves all elements of one type to the end of the list.\n",
        "\n",
        "def move_to_end(list,num):\n",
        "    first = []\n",
        "    last = []\n",
        "    for ele in list:\n",
        "        if ele == num:\n",
        "            last.append(ele)\n",
        "        else:\n",
        "            first.append(ele)\n",
        "    first.extend(last)\n",
        "    return first\n",
        "    \n",
        "print(f'move_to_end([1, 3, 2, 4, 4, 1], 1) ➞ {move_to_end([1, 3, 2, 4, 4, 1], 1)}')\n",
        "print(f'move_to_end([7, 8, 9, 1, 2, 3, 4], 9) ➞ {move_to_end([7, 8, 9, 1, 2, 3, 4], 9)}')\n",
        "print(f'move_to_end([\"a\", \"a\", \"a\", \"b\"], \"a\") ➞ {move_to_end([\"a\", \"a\", \"a\", \"b\"], \"a\")}')"
      ],
      "metadata": {
        "colab": {
          "base_uri": "https://localhost:8080/"
        },
        "id": "Vvv7KxaahJS1",
        "outputId": "4e2f7a6f-5894-44fc-bddd-65522215fe82"
      },
      "execution_count": 5,
      "outputs": [
        {
          "output_type": "stream",
          "name": "stdout",
          "text": [
            "move_to_end([1, 3, 2, 4, 4, 1], 1) ➞ [3, 2, 4, 4, 1, 1]\n",
            "move_to_end([7, 8, 9, 1, 2, 3, 4], 9) ➞ [7, 8, 1, 2, 3, 4, 9]\n",
            "move_to_end([\"a\", \"a\", \"a\", \"b\"], \"a\") ➞ ['b', 'a', 'a', 'a']\n"
          ]
        }
      ]
    }
  ]
}