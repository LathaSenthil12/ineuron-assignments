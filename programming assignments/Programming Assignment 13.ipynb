{
 "cells": [
  {
   "cell_type": "markdown",
   "id": "1dbe84fb",
   "metadata": {},
   "source": [
    "Question 1:\n",
    "Write a program that calculates and prints the value according to the given formula:\n",
    "Q = Square root of [(2 * C * D)/H]\n",
    "Following are the fixed values of C and H:\n",
    "C is 50. H is 30.\n",
    "D is the variable whose values should be input to your program in a comma-separated\n",
    "sequence.\n",
    "Example\n",
    "Let us assume the following comma separated input sequence is given to the program:\n",
    "100,150,180\n",
    "The output of the program should be:\n",
    "18,22,24"
   ]
  },
  {
   "cell_type": "code",
   "execution_count": 8,
   "id": "e3591b8b",
   "metadata": {},
   "outputs": [
    {
     "data": {
      "text/plain": [
       "[18, 22, 24]"
      ]
     },
     "execution_count": 8,
     "metadata": {},
     "output_type": "execute_result"
    }
   ],
   "source": [
    "#Q1\n",
    "import numpy as np\n",
    "def calculate_Q(*D,C=50,H=30):\n",
    "    Q=[]\n",
    "    q=0\n",
    "    for value in D:\n",
    "        q=round(np.sqrt((2*C*value)/H))\n",
    "        Q.append(q)\n",
    "    return Q\n",
    "\n",
    "calculate_Q(100,150,180)"
   ]
  },
  {
   "cell_type": "markdown",
   "id": "5b2ebe5b",
   "metadata": {},
   "source": [
    "Question 2:\n",
    "Write a program which takes 2 digits, X,Y as input and generates a 2-dimensional array. The\n",
    "element value in the i-th row and j-th column of the array should be i*j.\n",
    "Note: i=0,1.., X-1; j=0,1,¡Y-1.\n",
    "Example\n",
    "Suppose the following inputs are given to the program:\n",
    "3,5\n",
    "Then, the output of the program should be:\n",
    "[[0, 0, 0, 0, 0], [0, 1, 2, 3, 4], [0, 2, 4, 6, 8]]"
   ]
  },
  {
   "cell_type": "code",
   "execution_count": 12,
   "id": "a01241ca",
   "metadata": {},
   "outputs": [
    {
     "name": "stdout",
     "output_type": "stream",
     "text": [
      "Input the value of X : 3\n",
      "Input the value of Y : 5\n",
      "[[0 0 0 0 0]\n",
      " [0 1 2 3 4]\n",
      " [0 2 4 6 8]]\n"
     ]
    }
   ],
   "source": [
    "def gen_array(X,Y):\n",
    "    arr=np.zeros((X,Y),dtype=int)\n",
    "    for i in range(X):\n",
    "        for j in range(Y):\n",
    "            arr[i][j]=i*j\n",
    "    return arr\n",
    "\n",
    "X=int(input(\"Input the value of X : \"))\n",
    "Y=int(input(\"Input the value of Y : \"))\n",
    "print(gen_array(X,Y))"
   ]
  },
  {
   "cell_type": "markdown",
   "id": "f25e4ccf",
   "metadata": {},
   "source": [
    "Question 3:\n",
    "Write a program that accepts a comma separated sequence of words as input and prints the\n",
    "words in a comma-separated sequence after sorting them alphabetically.\n",
    "Suppose the following input is supplied to the program:\n",
    "without,hello,bag,world\n",
    "Then, the output should be:\n",
    "bag,hello,without,world"
   ]
  },
  {
   "cell_type": "code",
   "execution_count": 13,
   "id": "d12e2533",
   "metadata": {},
   "outputs": [
    {
     "data": {
      "text/plain": [
       "['bag', 'hello', 'without', 'world']"
      ]
     },
     "execution_count": 13,
     "metadata": {},
     "output_type": "execute_result"
    }
   ],
   "source": [
    "def sort_words(words):\n",
    "    return sorted(words)\n",
    "\n",
    "words=[\"without\",\"hello\",\"bag\",\"world\"]\n",
    "sort_words(words)"
   ]
  },
  {
   "cell_type": "markdown",
   "id": "eb60d11e",
   "metadata": {},
   "source": [
    "Question 4:\n",
    "Write a program that accepts a sequence of whitespace separated words as input and prints\n",
    "the words after removing all duplicate words and sorting them alphanumerically.\n",
    "Suppose the following input is supplied to the program:\n",
    "hello world and practice makes perfect and hello world again\n",
    "Then, the output should be:\n",
    "again and hello makes perfect practice world"
   ]
  },
  {
   "cell_type": "code",
   "execution_count": 18,
   "id": "08430131",
   "metadata": {},
   "outputs": [
    {
     "name": "stdout",
     "output_type": "stream",
     "text": [
      "again and hello makes perfect practice world\n"
     ]
    }
   ],
   "source": [
    "def sort_and_unique(string):\n",
    "    words=string.split()\n",
    "   \n",
    "    result=[]\n",
    "    for word in words:\n",
    "        if word not in result:\n",
    "            result.append(word)\n",
    "    \n",
    "    return \" \".join(sorted(result))\n",
    "\n",
    "string=\"hello world and practice makes perfect and hello world again\"\n",
    "print(sort_and_unique(string))"
   ]
  },
  {
   "cell_type": "markdown",
   "id": "a87f8349",
   "metadata": {},
   "source": [
    "Question 5:\n",
    "Write a program that accepts a sentence and calculate the number of letters and digits.\n",
    "Suppose the following input is supplied to the program:\n",
    "hello world! 123\n",
    "Then, the output should be:\n",
    "LETTERS 10\n",
    "\n",
    "DIGITS 3"
   ]
  },
  {
   "cell_type": "code",
   "execution_count": 21,
   "id": "734e93e6",
   "metadata": {},
   "outputs": [
    {
     "name": "stdout",
     "output_type": "stream",
     "text": [
      "LETTERS 10\n",
      "\n",
      "DIGITS 3\n"
     ]
    }
   ],
   "source": [
    "import string\n",
    "\n",
    "def count_letters_digits(s):\n",
    "    digits=list(string.digits)\n",
    "    letters=list(string.ascii_letters)\n",
    "    letter_count=0\n",
    "    digit_count=0\n",
    "    for l in s:\n",
    "        if l in digits:\n",
    "            digit_count+=1\n",
    "        elif l in letters:\n",
    "            letter_count+=1\n",
    "    return letter_count,digit_count\n",
    "\n",
    "s=\"hello world! 123\"\n",
    "l,d=count_letters_digits(s)\n",
    "print(f\"LETTERS {l}\\n\\nDIGITS {d}\")    \n"
   ]
  },
  {
   "cell_type": "markdown",
   "id": "8b5a8b81",
   "metadata": {},
   "source": [
    "Question 6:\n",
    "A website requires the users to input username and password to register. Write a program to\n",
    "check the validity of password input by users.\n",
    "Following are the criteria for checking the password:\n",
    "1. At least 1 letter between [a-z]\n",
    "2. At least 1 number between [0-9]\n",
    "1. At least 1 letter between [A-Z]\n",
    "3. At least 1 character from [$#@]\n",
    "4. Minimum length of transaction password: 6\n",
    "5. Maximum length of transaction password: 12\n",
    "Your program should accept a sequence of comma separated passwords and will check them\n",
    "according to the above criteria. Passwords that match the criteria are to be printed, each\n",
    "separated by a comma.\n",
    "Example\n",
    "If the following passwords are given as input to the program:\n",
    "ABd1234@1,a F1#,2w3E*,2We3345\n",
    "Then, the output of the program should be:\n",
    "ABd1234@1"
   ]
  },
  {
   "cell_type": "code",
   "execution_count": 23,
   "id": "95a48259",
   "metadata": {},
   "outputs": [
    {
     "name": "stdout",
     "output_type": "stream",
     "text": [
      "ABd1234@1\n"
     ]
    }
   ],
   "source": [
    "def checkPassword(passwords):\n",
    "    special_char = \"$#@\"\n",
    "    for pwd in passwords:\n",
    "        if len(pwd) <= 12 and len(pwd) >=6 :\n",
    "            if any(i.isupper() for i in pwd):\n",
    "                if any(i.islower() for i in pwd):\n",
    "                    if any(i for i in pwd if i in special_char):\n",
    "                        print(pwd)\n",
    "passwords=[\"ABd1234@1\",\"a F1#\",\"2w3E*\",\"2We3345\"]\n",
    "checkPassword(passwords)"
   ]
  }
 ],
 "metadata": {
  "kernelspec": {
   "display_name": "Python 3 (ipykernel)",
   "language": "python",
   "name": "python3"
  },
  "language_info": {
   "codemirror_mode": {
    "name": "ipython",
    "version": 3
   },
   "file_extension": ".py",
   "mimetype": "text/x-python",
   "name": "python",
   "nbconvert_exporter": "python",
   "pygments_lexer": "ipython3",
   "version": "3.9.12"
  }
 },
 "nbformat": 4,
 "nbformat_minor": 5
}
