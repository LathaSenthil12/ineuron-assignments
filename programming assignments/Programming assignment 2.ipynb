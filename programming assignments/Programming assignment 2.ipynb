{
 "cells": [
  {
   "cell_type": "code",
   "execution_count": 2,
   "id": "ac9b2f7a",
   "metadata": {},
   "outputs": [
    {
     "name": "stdout",
     "output_type": "stream",
     "text": [
      "Enter the disctance in kilometers to be converted to miles : 2\n",
      "2.0 kilometers is 1.24 miles.\n"
     ]
    }
   ],
   "source": [
    "#1. Write a Python program to convert kilometers to miles?\n",
    "\n",
    "km=float(input(\"Enter the disctance in kilometers to be converted to miles : \"))\n",
    "miles = km /1.61\n",
    "print(f\"{km} kilometers is {round(miles,2)} miles.\")"
   ]
  },
  {
   "cell_type": "code",
   "execution_count": 5,
   "id": "4b161e98",
   "metadata": {},
   "outputs": [
    {
     "name": "stdout",
     "output_type": "stream",
     "text": [
      "Enter the temp in Centigrade to be converted to Fahrenheit : 37\n",
      "37.0 deg Celcius is 98.6 deg Fahrenheit.\n"
     ]
    }
   ],
   "source": [
    "#2. Write a Python program to convert Celsius to Fahrenheit?\n",
    "\n",
    "\n",
    "celcius=float(input(\"Enter the temp in Centigrade to be converted to Fahrenheit : \"))\n",
    "F= (celcius * 1.8) + 32\n",
    "print(f\"{celcius} deg Celcius is {round(F,2)} deg Fahrenheit.\")"
   ]
  },
  {
   "cell_type": "code",
   "execution_count": 6,
   "id": "1ed67914",
   "metadata": {},
   "outputs": [
    {
     "name": "stdout",
     "output_type": "stream",
     "text": [
      "Enter the year2022\n",
      "Enter the month8\n",
      "    August 2022\n",
      "Mo Tu We Th Fr Sa Su\n",
      " 1  2  3  4  5  6  7\n",
      " 8  9 10 11 12 13 14\n",
      "15 16 17 18 19 20 21\n",
      "22 23 24 25 26 27 28\n",
      "29 30 31\n",
      "\n"
     ]
    }
   ],
   "source": [
    "#3. Write a Python program to display calendar?\n",
    "import calendar\n",
    "year = int(input(\"Enter the year\"))\n",
    "month = int(input(\"Enter the month\"))\n",
    "print(calendar.month(year, month))"
   ]
  },
  {
   "cell_type": "code",
   "execution_count": 13,
   "id": "74c96a22",
   "metadata": {},
   "outputs": [
    {
     "name": "stdout",
     "output_type": "stream",
     "text": [
      "Please enter the a, b, c coefficients of your quadratic equation: 2,1,-1\n",
      "The roots of the equation are: 0.5 -1.0\n"
     ]
    }
   ],
   "source": [
    "#4. Write a Python program to solve quadratic equation?\n",
    "import numpy as np\n",
    "valid_input = True\n",
    "while valid_input:\n",
    "    a, b, c = eval(input(\"Please enter the a, b, c coefficients of your quadratic equation: \"))\n",
    "    try: \n",
    "        float(a), float(b), float(c)\n",
    "        valid_input = False\n",
    "    except ValueError:\n",
    "        print(\"Please make sure the coefficients are real numbers and try again\")\n",
    "        valid_input = True\n",
    "disc = np.sqrt(b*b-4*a*c)\n",
    "if disc >=0:\n",
    "    x1 = (-b+disc)/(2*a)\n",
    "    x2 = (-b-disc)/(2*a)\n",
    "    print(\"The roots of the equation are:\", x1, x2)\n",
    "else:\n",
    "    print(\"The equation has no solutions\")"
   ]
  },
  {
   "cell_type": "code",
   "execution_count": 14,
   "id": "da8a3a4e",
   "metadata": {},
   "outputs": [
    {
     "name": "stdout",
     "output_type": "stream",
     "text": [
      "Enter value of x: 10\n",
      "Enter value of y: 12\n",
      "Before swapping x : 10\ty : 12\n",
      "After swapping x : 12\ty : 10\n"
     ]
    }
   ],
   "source": [
    "#5. Write a Python program to swap two variables without temp variable?\n",
    "# Python program to swap two variables\n",
    "x = input('Enter value of x: ')\n",
    "y = input('Enter value of y: ')\n",
    "print(f\"Before swapping x : {x}\\ty : {y}\")\n",
    "x,y=y,x\n",
    "print(f\"After swapping x : {x}\\ty : {y}\")\n"
   ]
  }
 ],
 "metadata": {
  "kernelspec": {
   "display_name": "Python 3 (ipykernel)",
   "language": "python",
   "name": "python3"
  },
  "language_info": {
   "codemirror_mode": {
    "name": "ipython",
    "version": 3
   },
   "file_extension": ".py",
   "mimetype": "text/x-python",
   "name": "python",
   "nbconvert_exporter": "python",
   "pygments_lexer": "ipython3",
   "version": "3.9.12"
  }
 },
 "nbformat": 4,
 "nbformat_minor": 5
}
