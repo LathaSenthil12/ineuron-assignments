{
 "cells": [
  {
   "cell_type": "code",
   "execution_count": 2,
   "id": "9679307e",
   "metadata": {},
   "outputs": [
    {
     "name": "stdout",
     "output_type": "stream",
     "text": [
      "Enter number of terms:8\n",
      "Fibonacci sequence using Recursion :\n",
      "0\n",
      "1\n",
      "1\n",
      "2\n",
      "3\n",
      "5\n",
      "8\n",
      "13\n"
     ]
    }
   ],
   "source": [
    "#Q1. Write a Python Program to Display Fibonacci Sequence Using Recursion?\n",
    "def fib_seq(length):\n",
    "    if(length <= 1):\n",
    "        return length\n",
    "    else:\n",
    "        return (fib_seq(length-1) + fib_seq(length-2))\n",
    "\n",
    "length = int(input(\"Enter number of terms:\"))\n",
    "\n",
    "print(\"Fibonacci sequence using Recursion :\")\n",
    "for iter in range(length):\n",
    "    print(fib_seq(iter))"
   ]
  },
  {
   "cell_type": "code",
   "execution_count": 3,
   "id": "269924ef",
   "metadata": {},
   "outputs": [
    {
     "name": "stdout",
     "output_type": "stream",
     "text": [
      "Please enter the number whose factorial is to be found : 5\n",
      "The factorial of 5 is : 120\n"
     ]
    }
   ],
   "source": [
    "#Q2. Write a Python Program to Find Factorial of Number Using Recursion?\n",
    "def factorial(n):\n",
    "    if n==1:\n",
    "        return 1\n",
    "    else:\n",
    "        return n * factorial(n-1)\n",
    "num=int(input(\"Please enter the number whose factorial is to be found : \"))\n",
    "print(f\"The factorial of {num} is : {factorial(num)}\")"
   ]
  },
  {
   "cell_type": "code",
   "execution_count": 10,
   "id": "8f9ae77e",
   "metadata": {},
   "outputs": [
    {
     "name": "stdout",
     "output_type": "stream",
     "text": [
      "Input your height in meters: 1.65\n",
      "Input your weight in Kilogram: 70\n",
      "Your body mass index is:  25.71\n"
     ]
    }
   ],
   "source": [
    "#Q3. Write a Python Program to calculate your Body Mass Index?\n",
    "height = float(input(\"Input your height in meters: \"))\n",
    "weight = float(input(\"Input your weight in Kilogram: \"))\n",
    "print(\"Your body mass index is: \", round((weight / (height * height)), 2))"
   ]
  },
  {
   "cell_type": "code",
   "execution_count": 11,
   "id": "c634459e",
   "metadata": {},
   "outputs": [
    {
     "name": "stdout",
     "output_type": "stream",
     "text": [
      "Enter a number to find its natural logarithm : 12\n",
      "The natural logarithm of 12 is 2.48\n"
     ]
    }
   ],
   "source": [
    "#Q4. Write a Python Program to calculate the natural logarithm of any number?\n",
    "import numpy as np\n",
    "\n",
    "def natural_log(num):\n",
    "    return np.log(num)\n",
    "\n",
    "num=int(input(\"Enter a number to find its natural logarithm : \"))\n",
    "print(f\"The natural logarithm of {num} is {round(natural_log(num),2)}\")"
   ]
  },
  {
   "cell_type": "code",
   "execution_count": 13,
   "id": "47dcd271",
   "metadata": {},
   "outputs": [
    {
     "name": "stdout",
     "output_type": "stream",
     "text": [
      "Input the value of n : 10\n",
      "[1, 8, 27, 64, 125, 216, 343, 512, 729, 1000]\n"
     ]
    }
   ],
   "source": [
    "#Q5. Write a Python Program for cube sum of first n natural numbers?\n",
    "def cube_n(n):\n",
    "    cubes=[i**3 for i in range(1,n+1)]\n",
    "    return cubes\n",
    "\n",
    "n=int(input(\"Input the value of n : \"))\n",
    "print(cube_n(n))"
   ]
  }
 ],
 "metadata": {
  "kernelspec": {
   "display_name": "Python 3 (ipykernel)",
   "language": "python",
   "name": "python3"
  },
  "language_info": {
   "codemirror_mode": {
    "name": "ipython",
    "version": 3
   },
   "file_extension": ".py",
   "mimetype": "text/x-python",
   "name": "python",
   "nbconvert_exporter": "python",
   "pygments_lexer": "ipython3",
   "version": "3.9.12"
  }
 },
 "nbformat": 4,
 "nbformat_minor": 5
}
