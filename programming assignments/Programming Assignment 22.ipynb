{
  "nbformat": 4,
  "nbformat_minor": 0,
  "metadata": {
    "colab": {
      "provenance": []
    },
    "kernelspec": {
      "name": "python3",
      "display_name": "Python 3"
    },
    "language_info": {
      "name": "python"
    }
  },
  "cells": [
    {
      "cell_type": "markdown",
      "source": [],
      "metadata": {
        "id": "7gh2HuQm0KJV"
      }
    },
    {
      "cell_type": "code",
      "execution_count": 2,
      "metadata": {
        "colab": {
          "base_uri": "https://localhost:8080/"
        },
        "id": "RhCMcmD1zzIA",
        "outputId": "e554bdc0-5c7f-4328-ec37-3d56cf97426b"
      },
      "outputs": [
        {
          "output_type": "stream",
          "name": "stdout",
          "text": [
            "[3, 6, 9]\n",
            "[8]\n",
            "[]\n"
          ]
        }
      ],
      "source": [
        "#Question1\n",
        "#Create a function that takes three parameters where:\n",
        "# x is the start of the range (inclusive).\n",
        "# y is the end of the range (inclusive).\n",
        "# n is the divisor to be checked against.\n",
        "#Return an ordered list with numbers in the range that are divisible by the third parameter n.\n",
        "#Return an empty list if there are no numbers that are divisible by n.\n",
        "\n",
        "def list_operations(x ,y ,n):\n",
        "    result=[]\n",
        "    for i in range(x,y+1):\n",
        "        if i%n==0:\n",
        "            result.append(i)\n",
        "    return result\n",
        "\n",
        "print(list_operations(1,10,3))\n",
        "print(list_operations(7,9,2))\n",
        "print(list_operations(15,20,7))"
      ]
    },
    {
      "cell_type": "code",
      "source": [
        "#Question2\n",
        "#Create a function that takes in two lists and returns True if the second list follows the first list\n",
        "#by one element, and False otherwise. In other words, determine if the second list is the first\n",
        "#list shifted to the right by 1.\n",
        "\n",
        "def simon_says(in_list_1,in_list_2):\n",
        "    if len(in_list_1) == len(in_list_1) and len(in_list_1) >=2 and len(in_list_1) >=2:\n",
        "        if(in_list_1[:-1] == in_list_2[1:]):\n",
        "            print(f'{in_list_1,in_list_2} ➞ {True}')\n",
        "        else:\n",
        "            print(f'{in_list_1,in_list_2} ➞ {False}')\n",
        "            \n",
        "simon_says([1, 2], [5, 1])\n",
        "simon_says([1, 2], [5, 5])\n",
        "simon_says([1, 2, 3, 4, 5], [0, 1, 2, 3, 4])\n",
        "simon_says([1, 2, 3, 4, 5], [5, 5, 1, 2, 3])"
      ],
      "metadata": {
        "colab": {
          "base_uri": "https://localhost:8080/"
        },
        "id": "_zj3gmM-4IJU",
        "outputId": "58f9a812-a442-4a64-c453-f554bc76e174"
      },
      "execution_count": 5,
      "outputs": [
        {
          "output_type": "stream",
          "name": "stdout",
          "text": [
            "([1, 2], [5, 1]) ➞ True\n",
            "([1, 2], [5, 5]) ➞ False\n",
            "([1, 2, 3, 4, 5], [0, 1, 2, 3, 4]) ➞ True\n",
            "([1, 2, 3, 4, 5], [5, 5, 1, 2, 3]) ➞ False\n"
          ]
        }
      ]
    },
    {
      "cell_type": "code",
      "source": [
        "#Question3\n",
        "#A group of friends have decided to start a secret society. The name will be the first letter of\n",
        "#each of their names, sorted in alphabetical order.\n",
        "#Create a function that takes in a list of names and returns the name of the secret society.\n",
        "\n",
        "def society_name(names):\n",
        "    lst=[]\n",
        "    res=\"\"\n",
        "    for name in names:\n",
        "        lst.append(name[0])\n",
        "    res = \"\".join(sorted(lst))\n",
        "    print(f'{names} ==> {res}')\n",
        "\n",
        "society_name(['Adam', 'Sarah', 'Malcolm'])\n",
        "society_name(['Harry', 'Newt', 'Luna', 'Cho'])\n",
        "society_name(['Phoebe', 'Chandler', 'Rachel', 'Ross', 'Monica', 'Joey'])"
      ],
      "metadata": {
        "colab": {
          "base_uri": "https://localhost:8080/"
        },
        "id": "2n1n5qMy5xO6",
        "outputId": "ef593b2b-1be3-4704-f994-7e85e78b2c22"
      },
      "execution_count": 8,
      "outputs": [
        {
          "output_type": "stream",
          "name": "stdout",
          "text": [
            "['Adam', 'Sarah', 'Malcolm'] ==> AMS\n",
            "['Harry', 'Newt', 'Luna', 'Cho'] ==> CHLN\n",
            "['Phoebe', 'Chandler', 'Rachel', 'Ross', 'Monica', 'Joey'] ==> CJMPRR\n"
          ]
        }
      ]
    },
    {
      "cell_type": "code",
      "source": [
        "#Question4\n",
        "#An isogram is a word that has no duplicate letters. Create a function that takes a string and\n",
        "#returns either True or False depending on whether or not it's an 'isogram'.\n",
        "\n",
        "def is_isogram(s):\n",
        "    lower_s = s.lower()\n",
        "    if len(lower_s) == len(set(lower_s)):\n",
        "        print(f'{s} ➞ {True}')\n",
        "    else:\n",
        "        print(f'{s} ➞ {False}')\n",
        "    \n",
        "is_isogram(\"Algorism\")\n",
        "is_isogram(\"PasSword\")\n",
        "is_isogram(\"Consecutive\")\n"
      ],
      "metadata": {
        "colab": {
          "base_uri": "https://localhost:8080/"
        },
        "id": "FWFViFJS7StB",
        "outputId": "b8a57a11-ed0d-4719-c120-d10c545647aa"
      },
      "execution_count": 9,
      "outputs": [
        {
          "output_type": "stream",
          "name": "stdout",
          "text": [
            "Algorism ➞ True\n",
            "PasSword ➞ False\n",
            "Consecutive ➞ False\n"
          ]
        }
      ]
    },
    {
      "cell_type": "code",
      "source": [
        "#Question5\n",
        "#Create a function that takes a string and returns True or False, depending on whether the\n",
        "#characters are in order or not.\n",
        "def is_in_order(s):\n",
        "    if s==\"\".join(sorted(s)):\n",
        "        print(True)\n",
        "    else:\n",
        "        print(False)\n",
        "\n",
        "is_in_order('abc')\n",
        "is_in_order('edabit')\n",
        "is_in_order('123')\n",
        "is_in_order('xyzz') \n",
        "\n"
      ],
      "metadata": {
        "colab": {
          "base_uri": "https://localhost:8080/"
        },
        "id": "_u4hO9Pi8MIY",
        "outputId": "03722f12-2c65-4b47-d758-6005fa491939"
      },
      "execution_count": 14,
      "outputs": [
        {
          "output_type": "stream",
          "name": "stdout",
          "text": [
            "True\n",
            "False\n",
            "True\n",
            "True\n"
          ]
        }
      ]
    }
  ]
}