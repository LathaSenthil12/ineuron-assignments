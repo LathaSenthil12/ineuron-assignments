{
 "cells": [
  {
   "cell_type": "code",
   "execution_count": 21,
   "id": "7e9ad3b5",
   "metadata": {},
   "outputs": [
    {
     "name": "stdout",
     "output_type": "stream",
     "text": [
      "Enter the number to check for Disarium NUmber : 156\n",
      "156 is not a Disarium Number\n",
      "175 is a Disarium Number\n"
     ]
    }
   ],
   "source": [
    "#Q1. Write a Python program to check if the given number is a Disarium Number?\n",
    "import math\n",
    "\n",
    "def check_disarium(n):\n",
    "    num_digits=len(str(n))\n",
    "    sum=0\n",
    "    num=n\n",
    "    while n!=0:\n",
    "        digit=n%10\n",
    "        sum+=int(math.pow(digit, num_digits))\n",
    "        n=n//10\n",
    "        num_digits-=1\n",
    "       \n",
    "    \n",
    "    if sum==num:\n",
    "        print(f\"{num} is a Disarium Number\")\n",
    "    else:\n",
    "        print(f\"{num} is not a Disarium Number\")\n",
    "\n",
    "num=int(input(\"Enter the number to check for Disarium NUmber : \"))\n",
    "check_disarium(num)\n",
    "check_disarium(175)\n",
    "   \n",
    "\n",
    "\n",
    "\n"
   ]
  },
  {
   "cell_type": "code",
   "execution_count": 22,
   "id": "869870c4",
   "metadata": {},
   "outputs": [
    {
     "name": "stdout",
     "output_type": "stream",
     "text": [
      "1\n",
      "2\n",
      "3\n",
      "4\n",
      "5\n",
      "6\n",
      "7\n",
      "8\n",
      "9\n",
      "89\n"
     ]
    }
   ],
   "source": [
    "#Q2. Write a Python program to print all disarium numbers between 1 to 100?\n",
    "def check_disarium(n):\n",
    "    num_digits=len(str(n))\n",
    "    sum=0\n",
    "    num=n\n",
    "    while n!=0:\n",
    "        digit=n%10\n",
    "        sum+=int(math.pow(digit, num_digits))\n",
    "        n=n//10\n",
    "        num_digits-=1\n",
    "       \n",
    "    \n",
    "    if sum==num:\n",
    "        return 0\n",
    "    else:\n",
    "        return 1\n",
    "for i in range(1,100):\n",
    "    if check_disarium(i)==0:\n",
    "        print(i)"
   ]
  },
  {
   "cell_type": "code",
   "execution_count": 27,
   "id": "9dae057b",
   "metadata": {},
   "outputs": [
    {
     "name": "stdout",
     "output_type": "stream",
     "text": [
      "Enter the Number to Check Happy Number = 45\n",
      "45is Not an Unhappy Number.\n"
     ]
    }
   ],
   "source": [
    "#Q3. Write a Python program to check if the given number is Happy Number?\n",
    "import math\n",
    "\n",
    "def digitsSquareSum(num):\n",
    "    sum = rem = 0\n",
    "    while num > 0:\n",
    "        rem = num % 10\n",
    "        sum = sum + math.pow(rem, 2)\n",
    "        num = num // 10\n",
    "    return sum\n",
    "\n",
    "\n",
    "num = int(input(\"Enter the Number to Check Happy Number = \"))\n",
    "n = num\n",
    "\n",
    "while n != 1 and n != 4:\n",
    "    n = digitsSquareSum(n)\n",
    "\n",
    "if n == 1:\n",
    "    print(f\"{num} is a Happy Number.\")\n",
    "else:\n",
    "    print(f\"{num} is Not an Unhappy Number.\")"
   ]
  },
  {
   "cell_type": "code",
   "execution_count": 28,
   "id": "d8901420",
   "metadata": {},
   "outputs": [
    {
     "name": "stdout",
     "output_type": "stream",
     "text": [
      "1\n",
      "7\n",
      "10\n",
      "13\n",
      "19\n",
      "23\n",
      "28\n",
      "31\n",
      "32\n",
      "44\n",
      "49\n",
      "68\n",
      "70\n",
      "79\n",
      "82\n",
      "86\n",
      "91\n",
      "94\n",
      "97\n"
     ]
    }
   ],
   "source": [
    "#Q4. Write a Python program to print all happy numbers between 1 and 100?\n",
    "import math\n",
    "\n",
    "def digitsSquareSum(num):\n",
    "    sum = rem = 0\n",
    "    while num > 0:\n",
    "        rem = num % 10\n",
    "        sum = sum + math.pow(rem, 2)\n",
    "        num = num // 10\n",
    "    return sum\n",
    "\n",
    "for i in range(1,100):\n",
    "    n = i\n",
    "\n",
    "    while n != 1 and n != 4:\n",
    "        n = digitsSquareSum(n)\n",
    "\n",
    "    if n == 1:\n",
    "        print(i)\n",
    "    \n"
   ]
  },
  {
   "cell_type": "code",
   "execution_count": 31,
   "id": "1f375d6d",
   "metadata": {},
   "outputs": [
    {
     "name": "stdout",
     "output_type": "stream",
     "text": [
      "Enter a number to determine if its a Harshad Number : 156\n",
      "156 is a Harshad Number\n"
     ]
    }
   ],
   "source": [
    "#Q5. Write a Python program to determine whether the given number is a Harshad Number?\n",
    "\n",
    "def check_harshad(num):\n",
    "    n=num\n",
    "    sum=0\n",
    "    while n!=0:\n",
    "        digit=n%10\n",
    "        sum+=digit\n",
    "        n=n//10\n",
    "    if num%sum==0:\n",
    "        return 0\n",
    "    else:\n",
    "        return 1\n",
    "num=int(input(\"Enter a number to determine if its a Harshad Number : \"))\n",
    "if check_harshad(num)==0:\n",
    "    print(f\"{num} is a Harshad Number\")\n",
    "else:\n",
    "    print(f\"{num} is not a Harshad Number\")"
   ]
  },
  {
   "cell_type": "code",
   "execution_count": 51,
   "id": "a2ae6c71",
   "metadata": {},
   "outputs": [
    {
     "name": "stdout",
     "output_type": "stream",
     "text": [
      "0 2 6 12 20 30 42 56 72 90 "
     ]
    }
   ],
   "source": [
    "#Q6. Write a Python program to print all pronic numbers between 1 and 100?\n",
    "import math\n",
    " \n",
    "def checkPronic (x) :\n",
    "    for i in range(round(math.sqrt(x))+1):\n",
    "        if ( x == i * (i + 1)) :\n",
    "            return True\n",
    "        i = i + 1\n",
    " \n",
    "    return False\n",
    " \n",
    "\n",
    "for i in range(100):\n",
    "    if checkPronic(i) :\n",
    "        print(i,end=\" \")\n",
    "    i = i + 1\n",
    " "
   ]
  },
  {
   "cell_type": "code",
   "execution_count": 50,
   "id": "bcdabc16",
   "metadata": {},
   "outputs": [],
   "source": []
  }
 ],
 "metadata": {
  "kernelspec": {
   "display_name": "Python 3 (ipykernel)",
   "language": "python",
   "name": "python3"
  },
  "language_info": {
   "codemirror_mode": {
    "name": "ipython",
    "version": 3
   },
   "file_extension": ".py",
   "mimetype": "text/x-python",
   "name": "python",
   "nbconvert_exporter": "python",
   "pygments_lexer": "ipython3",
   "version": "3.9.12"
  }
 },
 "nbformat": 4,
 "nbformat_minor": 5
}
