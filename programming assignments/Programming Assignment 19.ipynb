{
  "nbformat": 4,
  "nbformat_minor": 0,
  "metadata": {
    "colab": {
      "provenance": []
    },
    "kernelspec": {
      "name": "python3",
      "display_name": "Python 3"
    },
    "language_info": {
      "name": "python"
    }
  },
  "cells": [
    {
      "cell_type": "code",
      "execution_count": 1,
      "metadata": {
        "colab": {
          "base_uri": "https://localhost:8080/",
          "height": 35
        },
        "id": "Id_5dmJUiSXr",
        "outputId": "188cc954-b9d4-448c-ae76-a8ec1ec76a63"
      },
      "outputs": [
        {
          "output_type": "execute_result",
          "data": {
            "text/plain": [
              "'SSttrriinngg'"
            ],
            "application/vnd.google.colaboratory.intrinsic+json": {
              "type": "string"
            }
          },
          "metadata": {},
          "execution_count": 1
        }
      ],
      "source": [
        "#Question1\n",
        "#Create a function that takes a string and returns a string in which each character is repeated once.\n",
        "\n",
        "def double_char(s):\n",
        "    res=\"\"\n",
        "    for i in s:\n",
        "        res+=i*2\n",
        "    return res\n",
        "\n",
        "double_char(\"String\")"
      ]
    },
    {
      "cell_type": "code",
      "source": [
        "#Question2\n",
        "#Create a function that reverses a boolean value and returns the string 'boolean expected'if another variable type is given.\n",
        "\n",
        "def reverse(b):\n",
        "    if type(b)!= bool:\n",
        "        return (\"Boolean expected\")\n",
        "    else:\n",
        "        return not b\n",
        "\n",
        "print(reverse(True))\n",
        "print(reverse(False))\n",
        "print(reverse(0))\n",
        "print(reverse(\"latha\"))\n"
      ],
      "metadata": {
        "colab": {
          "base_uri": "https://localhost:8080/"
        },
        "id": "3PmdUfRii0KO",
        "outputId": "a83ea841-12ee-46e2-b76f-4de60f06b9e7"
      },
      "execution_count": 5,
      "outputs": [
        {
          "output_type": "stream",
          "name": "stdout",
          "text": [
            "False\n",
            "True\n",
            "Boolean expected\n",
            "Boolean expected\n"
          ]
        }
      ]
    },
    {
      "cell_type": "code",
      "source": [
        "#Question3\n",
        "#Create a function that returns the thickness (in meters) of a piece of paper after folding it n\n",
        "#number of times. The paper starts off with a thickness of 0.5mm.\n",
        "\n",
        "def check_thickness(n):\n",
        "    t=0.5\n",
        "    for i in range(n):\n",
        "        t*=2\n",
        "    return t/1000\n",
        "\n",
        "n=int(input(\"Input the number of folds : \"))\n",
        "print(f\"Thickness of paper after folding {n} time is {check_thickness(n)} metres.\")"
      ],
      "metadata": {
        "colab": {
          "base_uri": "https://localhost:8080/"
        },
        "id": "sT4o14jrkOUh",
        "outputId": "85da0b15-180e-4f9a-c0b9-a67520176c48"
      },
      "execution_count": 9,
      "outputs": [
        {
          "output_type": "stream",
          "name": "stdout",
          "text": [
            "Input the number of folds : 4\n",
            "Thickness of paper after folding 4 time is 0.008 metres.\n"
          ]
        }
      ]
    },
    {
      "cell_type": "code",
      "source": [
        "#Question4\n",
        "#Create a function that takes a single string as argument and returns an ordered list containing\n",
        "#the indices of all capital letters in the string.\n",
        "\n",
        "def index_of_caps(in_string):\n",
        "    out_string = []\n",
        "    for ele in in_string:\n",
        "        if ele.isupper():\n",
        "            out_string.append(in_string.index(ele))\n",
        "    print(f'{in_string} ➞ {out_string}')\n",
        "\n",
        "index_of_caps(\"eDaBiT\")\n",
        "index_of_caps(\"eQuINoX\")\n",
        "index_of_caps(\"determine\")\n",
        "index_of_caps(\"STRIKE\")\n",
        "index_of_caps(\"sUn\")"
      ],
      "metadata": {
        "colab": {
          "base_uri": "https://localhost:8080/"
        },
        "id": "GihCNKV5ld8I",
        "outputId": "a523cae8-917b-4f4f-a4ee-cdb3e584fec9"
      },
      "execution_count": 10,
      "outputs": [
        {
          "output_type": "stream",
          "name": "stdout",
          "text": [
            "eDaBiT ➞ [1, 3, 5]\n",
            "eQuINoX ➞ [1, 3, 4, 6]\n",
            "determine ➞ []\n",
            "STRIKE ➞ [0, 1, 2, 3, 4, 5]\n",
            "sUn ➞ [1]\n"
          ]
        }
      ]
    },
    {
      "cell_type": "code",
      "source": [
        "#Question5\n",
        "#Using list comprehensions, create a function that finds all even numbers from 1 to the given number.\n",
        "\n",
        "def find_even_nums(n):\n",
        "    return [i for i in range(1,n+1) if i%2==0]\n",
        "\n",
        "find_even_nums(8)"
      ],
      "metadata": {
        "colab": {
          "base_uri": "https://localhost:8080/"
        },
        "id": "HuSotB4VnBS4",
        "outputId": "3a5bafd6-fdcc-4c14-a0a6-24dd04975925"
      },
      "execution_count": 11,
      "outputs": [
        {
          "output_type": "execute_result",
          "data": {
            "text/plain": [
              "[2, 4, 6, 8]"
            ]
          },
          "metadata": {},
          "execution_count": 11
        }
      ]
    }
  ]
}