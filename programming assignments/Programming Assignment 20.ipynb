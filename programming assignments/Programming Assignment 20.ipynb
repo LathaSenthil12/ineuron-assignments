{
  "nbformat": 4,
  "nbformat_minor": 0,
  "metadata": {
    "colab": {
      "provenance": []
    },
    "kernelspec": {
      "name": "python3",
      "display_name": "Python 3"
    },
    "language_info": {
      "name": "python"
    }
  },
  "cells": [
    {
      "cell_type": "code",
      "execution_count": 2,
      "metadata": {
        "colab": {
          "base_uri": "https://localhost:8080/"
        },
        "id": "UQ9ivbBvoKjd",
        "outputId": "b93315bc-b38c-4f7b-b959-c487ead1ef9e"
      },
      "outputs": [
        {
          "output_type": "stream",
          "name": "stdout",
          "text": [
            "[1, 2, 3, 4]\n",
            "[0, 1729]\n",
            "[]\n"
          ]
        }
      ],
      "source": [
        "#Question1\n",
        "#Create a function that takes a list of strings and integers, and filters out the list so that it\n",
        "#returns a list of integers only.\n",
        "\n",
        "def filter_list(lst):\n",
        "    res=[]\n",
        "    for i in lst:\n",
        "        if type(i)==int:\n",
        "            res.append(i)\n",
        "    return res\n",
        "\n",
        "print(filter_list([1, 2, 3, \"a\", \"b\", 4]))\n",
        "print(filter_list([\"A\", 0, \"Edabit\", 1729, \"Python\", \"1729\"]))\n",
        "print(filter_list([\"Nothing\", \"here\"]))"
      ]
    },
    {
      "cell_type": "code",
      "source": [
        "#Question2\n",
        "#Given a list of numbers, create a function which returns the list but with each element's\n",
        "#index in the list added to itself. This means you add 0 to the number at index 0, add 1 to the\n",
        "#number at index 1, etc...\n",
        "\n",
        "def add_index(lst):\n",
        "    for i in range(len(lst)):\n",
        "        lst[i]=lst[i]+i\n",
        "    return lst\n",
        "\n",
        "\n",
        "print(add_index([0,0,0,0,0]))\n",
        "print(add_index([1,2,3,4,5]))\n",
        "print(add_index([5,4,3,2,1]))"
      ],
      "metadata": {
        "colab": {
          "base_uri": "https://localhost:8080/"
        },
        "id": "_kRqis5Xozch",
        "outputId": "5c99fab1-d106-47ae-9fe3-6b4bf8401bfc"
      },
      "execution_count": 5,
      "outputs": [
        {
          "output_type": "stream",
          "name": "stdout",
          "text": [
            "[0, 1, 2, 3, 4]\n",
            "[1, 3, 5, 7, 9]\n",
            "[5, 5, 5, 5, 5]\n"
          ]
        }
      ]
    },
    {
      "cell_type": "code",
      "source": [
        "#Question3\n",
        "#Create a function that takes the height and radius of a cone as arguments and returns the\n",
        "#volume of the cone rounded to the nearest hundredth.\n",
        "\n",
        "import math\n",
        "\n",
        "def cube_volume(height, radius):\n",
        "    output = ((math.pi)*pow(radius,2))*(height/3)\n",
        "    print(f'Output ➞ {output:.2f}')\n",
        "\n",
        "cube_volume(3,2) \n",
        "cube_volume(15,6)    \n",
        "cube_volume(18,0)  "
      ],
      "metadata": {
        "colab": {
          "base_uri": "https://localhost:8080/"
        },
        "id": "gSo644uDqDMG",
        "outputId": "7dd65a6a-2936-4fe6-b90b-f8632e935436"
      },
      "execution_count": 6,
      "outputs": [
        {
          "output_type": "stream",
          "name": "stdout",
          "text": [
            "Output ➞ 12.57\n",
            "Output ➞ 565.49\n",
            "Output ➞ 0.00\n"
          ]
        }
      ]
    },
    {
      "cell_type": "markdown",
      "source": [
        "Question4\n",
        "This Triangular Number Sequence is generated from a pattern of dots that form a triangle.\n",
        "\n",
        "The first 5 numbers of the sequence, or dots, are:\n",
        "\n",
        "1, 3, 6, 10, 15\n",
        "\n",
        "This means that the first triangle has just one dot, the second one has three dots, the third one has 6 dots and so on.\n",
        "\n",
        "Write a function that gives the number of dots with its corresponding triangle number of the\n",
        "sequence."
      ],
      "metadata": {
        "id": "FzJn0R5BrAPC"
      }
    },
    {
      "cell_type": "code",
      "source": [
        "def triangle(in_num):\n",
        "    print(f'Output ➞ {int((in_num)*((in_num+1)/2))}')\n",
        "\n",
        "triangle(1)\n",
        "triangle(6)\n",
        "triangle(215)"
      ],
      "metadata": {
        "colab": {
          "base_uri": "https://localhost:8080/"
        },
        "id": "NE4pyUlGqqHE",
        "outputId": "dd2cec9b-d1a0-4109-d8a2-b3a2e8a09375"
      },
      "execution_count": 7,
      "outputs": [
        {
          "output_type": "stream",
          "name": "stdout",
          "text": [
            "Output ➞ 1\n",
            "Output ➞ 21\n",
            "Output ➞ 23220\n"
          ]
        }
      ]
    },
    {
      "cell_type": "code",
      "source": [
        "#Question5\n",
        "#Create a function that takes a list of numbers between 1 and 10 (excluding one number) and returns the missing number.\n",
        "\n",
        "def missing_num(lst):\n",
        "    for i in range(1,11):\n",
        "        if i not in lst:\n",
        "            return i\n",
        "\n",
        "print(missing_num([1, 2, 3, 4, 6, 7, 8, 9, 10]))\n",
        "print(missing_num([7, 2, 3, 6, 5, 9, 1, 4, 8]))\n",
        "print(missing_num([10, 5, 1, 2, 4, 6, 8, 3, 9]))"
      ],
      "metadata": {
        "colab": {
          "base_uri": "https://localhost:8080/"
        },
        "id": "Ajroz1Qnra2S",
        "outputId": "1a6abb05-ad29-4ae3-c7aa-2663fff2b992"
      },
      "execution_count": 9,
      "outputs": [
        {
          "output_type": "stream",
          "name": "stdout",
          "text": [
            "5\n",
            "10\n",
            "7\n"
          ]
        }
      ]
    }
  ]
}