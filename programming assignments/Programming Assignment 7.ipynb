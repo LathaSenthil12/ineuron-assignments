{
 "cells": [
  {
   "cell_type": "code",
   "execution_count": 1,
   "id": "55227f6c",
   "metadata": {},
   "outputs": [
    {
     "name": "stdout",
     "output_type": "stream",
     "text": [
      "[[1 2 3]\n",
      " [4 5 6]\n",
      " [7 8 9]]\n",
      "45\n"
     ]
    }
   ],
   "source": [
    "#Q1. Write a Python Program to find sum of array?\n",
    "import numpy as np\n",
    "\n",
    "array1=np.arange(1,10).reshape(3,3)\n",
    "print(array1)\n",
    "print(array1.sum())"
   ]
  },
  {
   "cell_type": "code",
   "execution_count": 2,
   "id": "d03f667f",
   "metadata": {},
   "outputs": [
    {
     "name": "stdout",
     "output_type": "stream",
     "text": [
      "[[ 23  45  12]\n",
      " [ 56   6  20]\n",
      " [ 34  89 100]]\n",
      "100\n"
     ]
    }
   ],
   "source": [
    "#Q2. Write a Python Program to find largest element in an array?\n",
    "array2=np.array([[23,45,12],[56,6,20],[34,89,100]])\n",
    "print(array2)\n",
    "print(array2.max())"
   ]
  },
  {
   "cell_type": "code",
   "execution_count": 3,
   "id": "018eea26",
   "metadata": {},
   "outputs": [
    {
     "name": "stdout",
     "output_type": "stream",
     "text": [
      "Original Array : \n",
      " [[ 23  45  12]\n",
      " [ 56   6  20]\n",
      " [ 34  89 100]]\n",
      "\n",
      "Array after rotation : \n",
      " [[ 23  56  34]\n",
      " [ 45   6  89]\n",
      " [ 12  20 100]]\n"
     ]
    }
   ],
   "source": [
    "#Q3. Write a Python Program for array rotation?\n",
    "array2=np.array([[23,45,12],[56,6,20],[34,89,100]])\n",
    "print(\"Original Array : \\n\",array2)\n",
    "print(\"\\nArray after rotation : \\n\",np.transpose(array2))"
   ]
  },
  {
   "cell_type": "code",
   "execution_count": 5,
   "id": "e3719f8d",
   "metadata": {},
   "outputs": [
    {
     "name": "stdout",
     "output_type": "stream",
     "text": [
      "Original array : \n",
      " [12 34 56 78 20]\n",
      "The addition of the first item in the array :12 and the last item in the array :20 is 32\n"
     ]
    }
   ],
   "source": [
    "#Q4. Write a Python Program to Split the array and add the first part to the end?\n",
    "array3=np.array([12,34,56,78,20])\n",
    "print(\"Original array : \\n\", array3)\n",
    "print(f\"The addition of the first item in the array :{array3[0]} and the last item in the array :{array3[-1]} is {array3[0]+array3[-1]}\")"
   ]
  },
  {
   "cell_type": "code",
   "execution_count": 7,
   "id": "385a9eeb",
   "metadata": {},
   "outputs": [
    {
     "name": "stdout",
     "output_type": "stream",
     "text": [
      "True\n",
      "True\n",
      "False\n"
     ]
    }
   ],
   "source": [
    "#Q5. Write a Python Program to check if given array is Monotonic?\n",
    "def monotonic(x):\n",
    "    dx = np.diff(x)\n",
    "    return np.all(dx <= 0) or np.all(dx >= 0)\n",
    "\n",
    "array4=np.arange(1,6)\n",
    "array5=np.array([7,6,5,4,3,2,1])\n",
    "array6=np.array([1,3,2,5])\n",
    "print(monotonic(array4))\n",
    "print(monotonic(array5))\n",
    "print(monotonic(array6))"
   ]
  }
 ],
 "metadata": {
  "kernelspec": {
   "display_name": "Python 3 (ipykernel)",
   "language": "python",
   "name": "python3"
  },
  "language_info": {
   "codemirror_mode": {
    "name": "ipython",
    "version": 3
   },
   "file_extension": ".py",
   "mimetype": "text/x-python",
   "name": "python",
   "nbconvert_exporter": "python",
   "pygments_lexer": "ipython3",
   "version": "3.9.12"
  }
 },
 "nbformat": 4,
 "nbformat_minor": 5
}
