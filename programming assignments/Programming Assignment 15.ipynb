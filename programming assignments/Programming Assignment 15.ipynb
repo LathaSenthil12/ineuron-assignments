{
 "cells": [
  {
   "cell_type": "markdown",
   "id": "b4d87fd0",
   "metadata": {},
   "source": [
    "Question 1:\n",
    "Please write a program using generator to print the numbers which can be divisible by 5 and\n",
    "7 between 0 and n in comma separated form while n is input by console.\n",
    "Example:\n",
    "If the following n is given as input to the program:\n",
    "100\n",
    "Then, the output of the program should be:\n",
    "0,35,70"
   ]
  },
  {
   "cell_type": "code",
   "execution_count": 2,
   "id": "dbb3b059",
   "metadata": {},
   "outputs": [
    {
     "name": "stdout",
     "output_type": "stream",
     "text": [
      "0,35,70,"
     ]
    }
   ],
   "source": [
    "class five_seven_generator:\n",
    "    def __init__(self,n):\n",
    "        self.n = n\n",
    "    def get_multiples5_7(self):\n",
    "        for ele in range(0,self.n+1):\n",
    "            if (ele%5 == 0) and (ele%7==0):\n",
    "                yield ele\n",
    "                \n",
    "n=int(input(\"Please enter the value of n : \"))\n",
    "output = five_seven_generator(n)\n",
    "for ele in output.get_multiples5_7():\n",
    "    print(ele,end=',')\n"
   ]
  },
  {
   "cell_type": "code",
   "execution_count": null,
   "id": "1ad2025c",
   "metadata": {},
   "outputs": [],
   "source": []
  },
  {
   "cell_type": "markdown",
   "id": "c7c98775",
   "metadata": {},
   "source": [
    "Question 2:\n",
    "Please write a program using generator to print the even numbers between 0 and n in comma\n",
    "separated form while n is input by console.\n",
    "Example:\n",
    "If the following n is given as input to the program:\n",
    "10\n",
    "Then, the output of the program should be:\n",
    "0,2,4,6,8,10"
   ]
  },
  {
   "cell_type": "code",
   "execution_count": 3,
   "id": "810c07df",
   "metadata": {},
   "outputs": [
    {
     "name": "stdout",
     "output_type": "stream",
     "text": [
      "Please enter the value of n : 10\n",
      "0,2,4,6,8,10,"
     ]
    }
   ],
   "source": [
    "class ven_generator:\n",
    "    def __init__(self,n):\n",
    "        self.n = n\n",
    "    def get_multiples2(self):\n",
    "        for ele in range(0,self.n+1):\n",
    "            if (ele%2 == 0) :\n",
    "                yield ele\n",
    "                \n",
    "n=int(input(\"Please enter the value of n : \"))\n",
    "output = ven_generator(n)\n",
    "for ele in output.get_multiples2():\n",
    "    print(ele,end=',')\n"
   ]
  },
  {
   "cell_type": "code",
   "execution_count": null,
   "id": "f76d70d2",
   "metadata": {},
   "outputs": [],
   "source": [
    "Question 3:\n",
    "The Fibonacci Sequence is computed based on the following formula:\n",
    "f(n)=0 if n=0\n",
    "f(n)=1 if n=1\n",
    "f(n)=f(n-1)+f(n-2) if n>1\n",
    "Please write a program using list comprehension to print the Fibonacci Sequence in comma\n",
    "separated form with a given n input by console.\n",
    "Example:\n",
    "If the following n is given as input to the program:\n",
    "7\n",
    "\n",
    "Then, the output of the program should be:\n",
    "0,1,1,2,3,5,8,13"
   ]
  },
  {
   "cell_type": "code",
   "execution_count": 5,
   "id": "08baa9d2",
   "metadata": {},
   "outputs": [
    {
     "name": "stdout",
     "output_type": "stream",
     "text": [
      "Please enter the number of terms to be generated in the Fibonacci Series : 7\n"
     ]
    },
    {
     "data": {
      "text/plain": [
       "[0, 1, 1, 2, 3, 5, 8, 13]"
      ]
     },
     "execution_count": 5,
     "metadata": {},
     "output_type": "execute_result"
    }
   ],
   "source": [
    "def fibo(n):\n",
    "    return [int((0.5+5**0.5/2)**n/5**0.5+0.5) for n in range(n+1)]#using explicit formula for calculating\n",
    "\n",
    "n=int(input(\"Please enter the number of terms to be generated in the Fibonacci Series : \"))\n",
    "\n",
    "fibo(n)"
   ]
  },
  {
   "cell_type": "markdown",
   "id": "7aa21ab8",
   "metadata": {},
   "source": [
    "Question 4:\n",
    "Assuming that we have some email addresses in the \"username@companyname.com\" format,\n",
    "please write program to print the user name of a given email address. Both user names and\n",
    "company names are composed of letters only.\n",
    "Example:\n",
    "If the following email address is given as input to the program:\n",
    "john@google.com\n",
    "Then, the output of the program should be:\n",
    "john"
   ]
  },
  {
   "cell_type": "code",
   "execution_count": 6,
   "id": "9a0b0111",
   "metadata": {},
   "outputs": [
    {
     "name": "stdout",
     "output_type": "stream",
     "text": [
      "Please enter the email id : lathasenthil@gmail.com\n"
     ]
    },
    {
     "data": {
      "text/plain": [
       "'lathasenthil'"
      ]
     },
     "execution_count": 6,
     "metadata": {},
     "output_type": "execute_result"
    }
   ],
   "source": [
    "def get_username(s):\n",
    "    lst=s.split(\"@\")\n",
    "    return lst[0]\n",
    "\n",
    "emailid=input(\"Please enter the email id : \")\n",
    "get_username(emailid)"
   ]
  },
  {
   "cell_type": "markdown",
   "id": "e4db00d8",
   "metadata": {},
   "source": [
    "Question 5:\n",
    "Define a class named Shape and its subclass Square. The Square class has an init function\n",
    "which takes a length as argument. Both classes have a area function which can print the area\n",
    "of the shape where Shape's area is 0 by default."
   ]
  },
  {
   "cell_type": "code",
   "execution_count": 7,
   "id": "e61c4cab",
   "metadata": {},
   "outputs": [
    {
     "name": "stdout",
     "output_type": "stream",
     "text": [
      "Shape's area :  0  sq units\n",
      "Square's area :  16 sq units\n"
     ]
    }
   ],
   "source": [
    "class Shape:\n",
    "    def area(self):\n",
    "        return 0\n",
    "class Square(Shape):\n",
    "    def __init__(self,side):\n",
    "        self.side=side\n",
    "    def area(self):\n",
    "        return self.side**2\n",
    "s=Shape()\n",
    "print(\"Shape's area : \",s.area(),\" sq units\")\n",
    "sq=Square(4)\n",
    "print(\"Square's area : \",sq.area(),\"sq units\")"
   ]
  }
 ],
 "metadata": {
  "kernelspec": {
   "display_name": "Python 3 (ipykernel)",
   "language": "python",
   "name": "python3"
  },
  "language_info": {
   "codemirror_mode": {
    "name": "ipython",
    "version": 3
   },
   "file_extension": ".py",
   "mimetype": "text/x-python",
   "name": "python",
   "nbconvert_exporter": "python",
   "pygments_lexer": "ipython3",
   "version": "3.9.12"
  }
 },
 "nbformat": 4,
 "nbformat_minor": 5
}
