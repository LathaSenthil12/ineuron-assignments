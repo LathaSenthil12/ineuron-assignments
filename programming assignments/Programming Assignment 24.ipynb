{
  "nbformat": 4,
  "nbformat_minor": 0,
  "metadata": {
    "colab": {
      "provenance": []
    },
    "kernelspec": {
      "name": "python3",
      "display_name": "Python 3"
    },
    "language_info": {
      "name": "python"
    }
  },
  "cells": [
    {
      "cell_type": "code",
      "execution_count": 1,
      "metadata": {
        "colab": {
          "base_uri": "https://localhost:8080/"
        },
        "id": "8XBiXb8mGWnv",
        "outputId": "d063c65c-538a-4665-e06b-8092570812b0"
      },
      "outputs": [
        {
          "output_type": "stream",
          "name": "stdout",
          "text": [
            "[1, 2, 3, 40]\n",
            "[1, 2, 3]\n",
            "[1, 2, 3, 40, 5, 6, 7, 80, 9, 10, 11, 120, 13, 14, 15, 160, 17, 18, 19, 200, 21, 22, 23, 240, 25]\n"
          ]
        }
      ],
      "source": [
        "#Question1\n",
        "#Create a function that takes an integer and returns a list from 1 to the given number, where:\n",
        "#   1. If the number can be divided evenly by 4, amplify it by 10 (i.e. return 10 times the number).\n",
        "#   2. If the number cannot be divided evenly by 4, simply return the number.\n",
        "\n",
        "def amplify(n):\n",
        "    result=[x if x % 4 != 0 else x*10 for x in range(1,n+1)]\n",
        "    print(result)\n",
        "\n",
        "amplify(4)\n",
        "amplify(3)\n",
        "amplify(25)"
      ]
    },
    {
      "cell_type": "code",
      "source": [
        "#Question2\n",
        "#Create a function that takes a list of numbers and return the number that's unique.\n",
        "\n",
        "def unique(lst):\n",
        "    uniq=0\n",
        "    for item in lst:\n",
        "        if lst.count(item)==1:\n",
        "            uniq=item\n",
        "    print(f\"{lst} ==> {uniq}\")\n",
        "\n",
        "unique([3, 3, 3, 7, 3, 3])# ➞ 7\n",
        "unique([0, 0, 0.77, 0, 0])# ➞ 0.77\n",
        "unique([0, 1, 1, 1, 1, 1, 1, 1])# ➞ 0"
      ],
      "metadata": {
        "colab": {
          "base_uri": "https://localhost:8080/"
        },
        "id": "X7lJN5eJHzLU",
        "outputId": "f4d5dacc-f0a3-40bc-b008-df8887f922c6"
      },
      "execution_count": 3,
      "outputs": [
        {
          "output_type": "stream",
          "name": "stdout",
          "text": [
            "[3, 3, 3, 7, 3, 3] ==> 7\n",
            "[0, 0, 0.77, 0, 0] ==> 0.77\n",
            "[0, 1, 1, 1, 1, 1, 1, 1] ==> 0\n"
          ]
        }
      ]
    },
    {
      "cell_type": "markdown",
      "source": [
        "3.Your task is to create a Circle constructor that creates a circle with a radius provided by an argument. The circles constructed must have two getters :\n",
        "\n",
        "    getArea() (PIr^2) and getPerimeter() (2PI*r)\n",
        "\n",
        " which give both respective areas and perimeter (circumference). For help with this class, I have provided you with a Rectangle constructor which you can use as a base example ?\n",
        "\n",
        "    Examples:\n",
        "    circy = Circle(11)\n",
        "    circy.getArea()\n",
        "    # Should return 380.132711084365\n",
        "    circy = Circle(4.44)\n",
        "    circy.getPerimeter()\n",
        "    # Should return 27.897342763877365"
      ],
      "metadata": {
        "id": "eDHQJrSUJydk"
      }
    },
    {
      "cell_type": "code",
      "source": [
        "import numpy as np\n",
        "class Circle:\n",
        "    def __init__(self,radius):\n",
        "        self.radius = radius\n",
        "\n",
        "    def get_Area(self):\n",
        "        return round(np.pi* (self.radius**2))\n",
        "\n",
        "    def getPerimeter(self):\n",
        "        return round(2 * np.pi * self.radius)\n",
        "\n",
        "circy = Circle(11)\n",
        "print(circy.get_Area())\n",
        "circy=Circle(4.44)\n",
        "print(circy.getPerimeter())\n",
        "\n",
        "\n"
      ],
      "metadata": {
        "colab": {
          "base_uri": "https://localhost:8080/"
        },
        "id": "b83jwWA0JctE",
        "outputId": "2d50dad1-f4e7-4e9d-fdf6-7f5f4c495ddc"
      },
      "execution_count": 6,
      "outputs": [
        {
          "output_type": "stream",
          "name": "stdout",
          "text": [
            "380\n",
            "28\n"
          ]
        }
      ]
    },
    {
      "cell_type": "code",
      "source": [
        "#Question4\n",
        "#Create a function that takes a list of strings and return a list, sorted from shortest to longest.\n",
        "\n",
        "def sort_by_length(lst):\n",
        "    lst2 = sorted(lst, key=len)\n",
        "    print(f\"{lst} ==>  {lst2}\") \n",
        "\n",
        "sort_by_length(['Google', 'Apple', 'Microsoft'])\n",
        "sort_by_length(['Leonardo', 'Michelangelo', 'Raphael', 'Donatello'])\n",
        "sort_by_length(['Turing', 'Einstein', 'Jung'])\n"
      ],
      "metadata": {
        "colab": {
          "base_uri": "https://localhost:8080/"
        },
        "id": "bdUy7Up8LguJ",
        "outputId": "d3e32824-c247-4ba8-b330-6ccf2bb8cb31"
      },
      "execution_count": 7,
      "outputs": [
        {
          "output_type": "stream",
          "name": "stdout",
          "text": [
            "['Google', 'Apple', 'Microsoft'] ==>  ['Apple', 'Google', 'Microsoft']\n",
            "['Leonardo', 'Michelangelo', 'Raphael', 'Donatello'] ==>  ['Raphael', 'Leonardo', 'Donatello', 'Michelangelo']\n",
            "['Turing', 'Einstein', 'Jung'] ==>  ['Jung', 'Turing', 'Einstein']\n"
          ]
        }
      ]
    },
    {
      "cell_type": "code",
      "source": [
        "#Question5\n",
        "#Create a function that validates whether three given integers form a Pythagorean triplet. The\n",
        "#sum of the squares of the two smallest integers must equal the square of the largest number to\n",
        "#be validated.\n",
        "\n",
        "def is_triplet(a,b,c):\n",
        "    if ((a**2+b**2) == (c**2)):\n",
        "        print(f'{a,b,c} ➞ {True}')\n",
        "    else:\n",
        "        print(f'{a,b,c} ➞ {False}')\n",
        "        \n",
        "is_triplet(3, 4, 5)\n",
        "is_triplet(3, 4, 5)\n",
        "is_triplet(1, 2, 3)"
      ],
      "metadata": {
        "colab": {
          "base_uri": "https://localhost:8080/"
        },
        "id": "3sm6l4VcMfXU",
        "outputId": "3dc2d329-9508-481a-ec2f-d51335b149b3"
      },
      "execution_count": 8,
      "outputs": [
        {
          "output_type": "stream",
          "name": "stdout",
          "text": [
            "(3, 4, 5) ➞ True\n",
            "(3, 4, 5) ➞ True\n",
            "(1, 2, 3) ➞ False\n"
          ]
        }
      ]
    }
  ]
}