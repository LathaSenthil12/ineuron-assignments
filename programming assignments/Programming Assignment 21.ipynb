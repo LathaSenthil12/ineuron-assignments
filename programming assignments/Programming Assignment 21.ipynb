{
  "nbformat": 4,
  "nbformat_minor": 0,
  "metadata": {
    "colab": {
      "provenance": []
    },
    "kernelspec": {
      "name": "python3",
      "display_name": "Python 3"
    },
    "language_info": {
      "name": "python"
    }
  },
  "cells": [
    {
      "cell_type": "code",
      "execution_count": 2,
      "metadata": {
        "colab": {
          "base_uri": "https://localhost:8080/"
        },
        "id": "rQUEvb0FtJtK",
        "outputId": "683f8799-f039-4892-fccf-f695ae1c7e30"
      },
      "outputs": [
        {
          "output_type": "stream",
          "name": "stdout",
          "text": [
            "[6, 7, 8, 9, 1]\n",
            "[6, 3, 23, 17, 10]\n",
            "[10, 20, 42, 6]\n",
            "No list has been selected\n"
          ]
        }
      ],
      "source": [
        "#Question1\n",
        "#Write a function that takes a list and a number as arguments. Add the number to the end of\n",
        "#the list, then remove the first element of the list. The function should then return the updated\n",
        "#list.\n",
        "\n",
        "def next_in_line(lst,n):\n",
        "    if len(lst)==0:\n",
        "        return \"No list has been selected\"\n",
        "    for i in range(len(lst)-1):\n",
        "        lst[i]=lst[i+1]\n",
        "    lst[-1]=n\n",
        "    return lst\n",
        "\n",
        "print(next_in_line([5, 6, 7, 8, 9], 1))\n",
        "print(next_in_line([7, 6, 3, 23, 17], 10))\n",
        "print(next_in_line([1, 10, 20, 42 ], 6))\n",
        "print(next_in_line([], 6))"
      ]
    },
    {
      "cell_type": "code",
      "source": [
        "#Question2\n",
        "#Create the function that takes a list of dictionaries and returns the sum of people's budgets.\n",
        "\n",
        "def get_budgets(lst):\n",
        "    sum_budget=0\n",
        "    for i in range(len(lst)):\n",
        "        sum_budget+=lst[i][\"budget\"]\n",
        "    return sum_budget\n",
        "\n",
        "print(get_budgets([\n",
        "{ 'name': 'John', 'age': 21, 'budget': 23000 },\n",
        "{ 'name': 'Steve', 'age': 32, 'budget': 40000 },\n",
        "{ 'name': 'Martin', 'age': 16, 'budget': 2700 }\n",
        "]))\n",
        "\n",
        "print(get_budgets([\n",
        "{ 'name': 'John', 'age': 21, 'budget': 29000 },\n",
        "{ 'name': 'Steve', 'age': 32, 'budget': 32000 },\n",
        "{ 'name': 'Martin', 'age': 16, 'budget': 1600 }\n",
        "]))"
      ],
      "metadata": {
        "colab": {
          "base_uri": "https://localhost:8080/"
        },
        "id": "gu21NsVIu0L1",
        "outputId": "4fa22b9c-570d-473b-8b6a-0e63a9d36e74"
      },
      "execution_count": 3,
      "outputs": [
        {
          "output_type": "stream",
          "name": "stdout",
          "text": [
            "65700\n",
            "62600\n"
          ]
        }
      ]
    },
    {
      "cell_type": "code",
      "source": [
        "#Question3\n",
        "#Create a function that takes a string and returns a string with its letters in alphabetical order.\n",
        "\n",
        "def alphabet_soup(in_string):\n",
        "    out_string = ''.join(sorted(in_string))\n",
        "    print(f'{in_string} ➞ {out_string}')\n",
        "\n",
        "alphabet_soup(\"hello\")\n",
        "alphabet_soup(\"edabit\")\n",
        "alphabet_soup(\"hacker\")\n",
        "alphabet_soup(\"geek\")\n",
        "alphabet_soup(\"javascript\")"
      ],
      "metadata": {
        "colab": {
          "base_uri": "https://localhost:8080/"
        },
        "id": "05fx20PCwBcO",
        "outputId": "3249d495-68a7-4d84-9bff-b47b705e4b54"
      },
      "execution_count": 9,
      "outputs": [
        {
          "output_type": "stream",
          "name": "stdout",
          "text": [
            "hello ➞ ehllo\n",
            "edabit ➞ abdeit\n",
            "hacker ➞ acehkr\n",
            "geek ➞ eegk\n",
            "javascript ➞ aacijprstv\n"
          ]
        }
      ]
    },
    {
      "cell_type": "markdown",
      "source": [
        "Question4\n",
        "\n",
        "Suppose that you invest $10,000 for 10 years at an interest rate of 6% compounded monthly. What will be the value of your investment at the end of the 10 year period?\n",
        "\n",
        "Create a function that accepts the principal p, the term in years t, the interest rate r, and the number of compounding periods per year n. The function returns the value at the end of term rounded to the nearest cent.\n",
        "\n",
        "For the example above:\n",
        "\n",
        "    compound_interest(10000, 10, 0.06, 12) ➞ 18193.97\n",
        "Note that the interest rate is given as a decimal and n=12 because with monthly compounding there are 12 periods per year. Compounding can also be done annually, quarterly, weekly, or daily."
      ],
      "metadata": {
        "id": "GDIE5qYzyHCk"
      }
    },
    {
      "cell_type": "code",
      "source": [
        "def compound_interest(principal,years,roi,cp):\n",
        "    ci = principal*(1+(roi/cp))**(cp*years)\n",
        "    print(f'Output ➞ {ci:.2f}')\n",
        "\n",
        "compound_interest(100, 1, 0.05, 1)\n",
        "compound_interest(3500, 15, 0.1, 4)\n",
        "compound_interest(100000, 20, 0.15, 365)"
      ],
      "metadata": {
        "colab": {
          "base_uri": "https://localhost:8080/"
        },
        "id": "5WxAADZaxQ8h",
        "outputId": "a619749c-78e9-48ee-de46-a8374d4d5476"
      },
      "execution_count": 10,
      "outputs": [
        {
          "output_type": "stream",
          "name": "stdout",
          "text": [
            "Output ➞ 105.00\n",
            "Output ➞ 15399.26\n",
            "Output ➞ 2007316.26\n"
          ]
        }
      ]
    },
    {
      "cell_type": "code",
      "source": [
        "#Question5\n",
        "#Write a function that takes a list of elements and returns only the integers.\n",
        "\n",
        "def return_only_integer(in_list):\n",
        "    out_list = []\n",
        "    for ele in in_list:\n",
        "        if type(ele) == int:\n",
        "            out_list.append(ele)\n",
        "    print(f'{in_list} ➞ {out_list}')\n",
        "    \n",
        "return_only_integer([9, 2, \"space\", \"car\", \"lion\", 16])\n",
        "return_only_integer([\"hello\", 81, \"basketball\", 123, \"fox\"])\n",
        "return_only_integer([10, \"121\", 56, 20, \"car\", 3, \"lion\"]) \n",
        "return_only_integer([\"String\", True, 3.3, 1])"
      ],
      "metadata": {
        "colab": {
          "base_uri": "https://localhost:8080/"
        },
        "id": "PBXIMpqRygiy",
        "outputId": "fe2c1ab1-0d31-4827-9df6-d8c35108457f"
      },
      "execution_count": 11,
      "outputs": [
        {
          "output_type": "stream",
          "name": "stdout",
          "text": [
            "[9, 2, 'space', 'car', 'lion', 16] ➞ [9, 2, 16]\n",
            "['hello', 81, 'basketball', 123, 'fox'] ➞ [81, 123]\n",
            "[10, '121', 56, 20, 'car', 3, 'lion'] ➞ [10, 56, 20, 3]\n",
            "['String', True, 3.3, 1] ➞ [1]\n"
          ]
        }
      ]
    }
  ]
}