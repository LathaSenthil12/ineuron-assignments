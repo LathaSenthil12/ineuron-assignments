{
 "cells": [
  {
   "cell_type": "code",
   "execution_count": 1,
   "id": "41939033",
   "metadata": {},
   "outputs": [
    {
     "name": "stdout",
     "output_type": "stream",
     "text": [
      "The sum of the elements of the list [1, 2, 3, 4, 5] is 15\n"
     ]
    }
   ],
   "source": [
    "#Q1. Write a Python program to find sum of elements in list?\n",
    "\n",
    "def sum_list(lst):\n",
    "    sum=0\n",
    "    for i in lst:\n",
    "        sum+=i\n",
    "    return sum\n",
    "\n",
    "list1=[1,2,3,4,5]\n",
    "print(f\"The sum of the elements of the list {list1} is {sum_list(list1)}\")\n"
   ]
  },
  {
   "cell_type": "code",
   "execution_count": 2,
   "id": "76598b82",
   "metadata": {},
   "outputs": [
    {
     "name": "stdout",
     "output_type": "stream",
     "text": [
      "The product of the elements of the list [1, 2, 3, 4, 5] is 120\n"
     ]
    }
   ],
   "source": [
    "#Q2. Write a Python program to Multiply all numbers in the list?\n",
    "def mult_list(lst):\n",
    "    prod=1\n",
    "    for i in lst:\n",
    "        prod*=i\n",
    "    return prod\n",
    "\n",
    "list1=[1,2,3,4,5]\n",
    "print(f\"The product of the elements of the list {list1} is {mult_list(list1)}\")"
   ]
  },
  {
   "cell_type": "code",
   "execution_count": 5,
   "id": "de328eaa",
   "metadata": {},
   "outputs": [
    {
     "name": "stdout",
     "output_type": "stream",
     "text": [
      "The smallest number in the list [12, 5, 0, 89, 1] is 0\n"
     ]
    }
   ],
   "source": [
    "#Q3. Write a Python program to find smallest number in a list?\n",
    "\n",
    "def find_min(lst):\n",
    "    min=lst[0]\n",
    "    for i in lst:\n",
    "        if i<min:\n",
    "            min=i\n",
    "    return min\n",
    "\n",
    "list1=[12,5,0,89,1]\n",
    "print(f\"The smallest number in the list {list1} is {find_min(list1)}\")"
   ]
  },
  {
   "cell_type": "code",
   "execution_count": 6,
   "id": "6c557a02",
   "metadata": {},
   "outputs": [
    {
     "name": "stdout",
     "output_type": "stream",
     "text": [
      "The largest number in the list [12, 5, 0, 89, 1] is 89\n"
     ]
    }
   ],
   "source": [
    "#Q4. Write a Python program to find largest number in a list?\n",
    "def find_max(lst):\n",
    "    max=lst[0]\n",
    "    for i in lst:\n",
    "        if i>max:\n",
    "            max=i\n",
    "    return max\n",
    "\n",
    "list1=[12,5,0,89,1]\n",
    "print(f\"The largest number in the list {list1} is {find_max(list1)}\")"
   ]
  },
  {
   "cell_type": "code",
   "execution_count": 10,
   "id": "6aa08b3e",
   "metadata": {},
   "outputs": [
    {
     "name": "stdout",
     "output_type": "stream",
     "text": [
      "The Second Largest Element in [12, 45, 89, 102, 111, 1, 32] is 102\n"
     ]
    }
   ],
   "source": [
    "#Q5. Write a Python program to find second largest number in a list?\n",
    "def secondLargest(lst):\n",
    "      return sorted(lst, reverse=True)[1]\n",
    "        \n",
    "list1=[12,45,89,102,111,1,32]\n",
    "print(f'The Second Largest Element in {list1} is {secondLargest(list1)}')\n"
   ]
  },
  {
   "cell_type": "code",
   "execution_count": 11,
   "id": "4c557109",
   "metadata": {},
   "outputs": [
    {
     "name": "stdout",
     "output_type": "stream",
     "text": [
      "Please enter the number of largest elements you would want to retrieve from the list : 4\n",
      "The 4 Largest Element in [12, 45, 89, 102, 111, 1, 32, 45, 78, 908, 233, 56, 34, 67] is [908, 233, 111, 102]\n"
     ]
    }
   ],
   "source": [
    "#Q6. Write a Python program to find N largest elements from a list?\n",
    "def nLargest(lst,n):\n",
    "      return sorted(lst, reverse=True)[0:n]\n",
    "        \n",
    "list1=[12,45,89,102,111,1,32,45,78,908,233,56,34,67]\n",
    "n=int(input(\"Please enter the number of largest elements you would want to retrieve from the list : \"))\n",
    "print(f'The {n} Largest Element in {list1} is {nLargest(list1,n)}')"
   ]
  },
  {
   "cell_type": "code",
   "execution_count": 14,
   "id": "e1c06447",
   "metadata": {},
   "outputs": [
    {
     "name": "stdout",
     "output_type": "stream",
     "text": [
      "The even numbers from the list [12, 45, 89, 102, 111, 1, 32, 45, 78, 908, 233, 56, 34, 67] are : \n",
      "[12, 102, 32, 78, 908, 56, 34]\n"
     ]
    }
   ],
   "source": [
    "#Q7. Write a Python program to print even numbers in a list?\n",
    "def print_even(lst):\n",
    "    even=[]\n",
    "    for i in lst:\n",
    "        if i%2==0:\n",
    "            even.append(i)\n",
    "    return even\n",
    "list1=[12,45,89,102,111,1,32,45,78,908,233,56,34,67]\n",
    "print(f\"The even numbers from the list {list1} are : \\n{print_even(list1)}\")"
   ]
  },
  {
   "cell_type": "code",
   "execution_count": 15,
   "id": "57a68da0",
   "metadata": {},
   "outputs": [
    {
     "name": "stdout",
     "output_type": "stream",
     "text": [
      "The odd numbers from the list [12, 45, 89, 102, 111, 1, 32, 45, 78, 908, 233, 56, 34, 67] are : \n",
      "[45, 89, 111, 1, 45, 233, 67]\n"
     ]
    }
   ],
   "source": [
    "#Q8. Write a Python program to print odd numbers in a List?\n",
    "def print_odd(lst):\n",
    "    odd=[]\n",
    "    for i in lst:\n",
    "        if i%2!=0:\n",
    "            odd.append(i)\n",
    "    return odd\n",
    "list1=[12,45,89,102,111,1,32,45,78,908,233,56,34,67]\n",
    "print(f\"The odd numbers from the list {list1} are : \\n{print_odd(list1)}\")"
   ]
  },
  {
   "cell_type": "code",
   "execution_count": 16,
   "id": "f89fa5e0",
   "metadata": {},
   "outputs": [
    {
     "name": "stdout",
     "output_type": "stream",
     "text": [
      "Original List : [1, 2, 3, [12, 34, 56], [], 11, 45]\n",
      "The list after removing the empty list is [1, 2, 3, [12, 34, 56], 11, 45]\n"
     ]
    }
   ],
   "source": [
    "#Q9. Write a Python program to Remove empty List from List?\n",
    "def remove_emptylist(lst):\n",
    "    for l in lst:\n",
    "        if type(l)==list:\n",
    "            if len(l)==0:\n",
    "                lst.remove(l)\n",
    "    return lst\n",
    "\n",
    "list2=[1,2,3,[12,34,56],[],11,45]\n",
    "print(f\"Original List : {list2}\")\n",
    "print(f\"The list after removing the empty list is {remove_emptylist(list2)}\")"
   ]
  },
  {
   "cell_type": "code",
   "execution_count": 17,
   "id": "66737181",
   "metadata": {},
   "outputs": [
    {
     "name": "stdout",
     "output_type": "stream",
     "text": [
      "Original List is : [1, 4, 6, 8]\n",
      "The cloned list is [1, 4, 6, 8]\n"
     ]
    }
   ],
   "source": [
    "#Q10. Write a Python program to Cloning or Copying a list?\n",
    "def copyclone(lst):\n",
    "    copy_list=[i for i in lst]\n",
    "    return copy_list\n",
    "\n",
    "list3=[1,4,6,8]\n",
    "print(f\"Original List is : {list3}\\nThe cloned list is {copyclone(list3)}\")"
   ]
  },
  {
   "cell_type": "code",
   "execution_count": 18,
   "id": "b51de3de",
   "metadata": {},
   "outputs": [
    {
     "name": "stdout",
     "output_type": "stream",
     "text": [
      "[1, 2, 3, 4, 4, 2, 3, 7, 5, 5, 1, 1, 1, 2, 2, 5, 7, 3, 9]\n",
      "Enter the item or value in the list whose number of occurences is to be determined : 2\n",
      "The item 2 has occured 4 number of times\n"
     ]
    }
   ],
   "source": [
    "#Q11. Write a Python program to Count occurrences of an element in a list?\n",
    "def count_occurence(lst,item):\n",
    "    count=0\n",
    "    for i in lst:\n",
    "        if i==item:\n",
    "            count+=1\n",
    "    return count\n",
    "\n",
    "list4=[1,2,3,4,4,2,3,7,5,5,1,1,1,2,2,5,7,3,9]\n",
    "print(list4)\n",
    "item=int(input(\"Enter the item or value in the list whose number of occurences is to be determined : \"))\n",
    "print(f\"The item {item} has occured {count_occurence(list4,item)} number of times\")"
   ]
  }
 ],
 "metadata": {
  "kernelspec": {
   "display_name": "Python 3 (ipykernel)",
   "language": "python",
   "name": "python3"
  },
  "language_info": {
   "codemirror_mode": {
    "name": "ipython",
    "version": 3
   },
   "file_extension": ".py",
   "mimetype": "text/x-python",
   "name": "python",
   "nbconvert_exporter": "python",
   "pygments_lexer": "ipython3",
   "version": "3.9.12"
  }
 },
 "nbformat": 4,
 "nbformat_minor": 5
}
