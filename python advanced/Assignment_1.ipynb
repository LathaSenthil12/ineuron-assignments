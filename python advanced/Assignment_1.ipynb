{
  "nbformat": 4,
  "nbformat_minor": 0,
  "metadata": {
    "colab": {
      "provenance": []
    },
    "kernelspec": {
      "name": "python3",
      "display_name": "Python 3"
    },
    "language_info": {
      "name": "python"
    }
  },
  "cells": [
    {
      "cell_type": "code",
      "execution_count": null,
      "metadata": {
        "id": "1nDd4VAZ0KPJ"
      },
      "outputs": [],
      "source": []
    },
    {
      "cell_type": "markdown",
      "source": [
        "Assignment 1\n",
        "\n",
        "Q1. What is the purpose of Python’s OOP?\n",
        "\n",
        "Ans. OOP or Object oriented programming is a design methodology which helps in designing better applications or softwares. It allows us to develop applications using an Object-Oriented approach. In Python, we can easily create and use classes and objects. By which it focuses on writing the reusable code. It is a widespread technique to solve the problem by making things.\n",
        "\n",
        "Q2. Where does an inheritance search look for an attribute?\n",
        "\n",
        "Ans. An inheritance search looks for an attribute first in the instance object, then in the class the instance was created from, then in all higher superclasses, progressing from left to right (by default). The search stops at the first place the attribute is found.\n",
        "\n",
        "Q3. How do you distinguish between a class object and an instance object?\n",
        "\n",
        "Ans. A class is a type of blueprint that you can use to make objects. A concrete 'thing' that you constructed using a certain class is an object, which is an instance of a class. So, while the terms 'object' and 'instance' are interchangeable, the term 'instance' refers to an object's relationship to its class\n",
        "\n",
        "Q4. What makes the first argument in a class’s method function special?\n",
        "\n",
        "Ans. Generally, when we call a method with some arguments, the corresponding class function is called by placing the method's object before the first argument. So, anything like obj.meth(args) becomes Class.meth(obj, args). The calling process is automatic while the receiving process is not (its explicit).\n",
        "\n",
        "This is the reason the first parameter of a function in class must be the object itself. Writing this parameter as self is merely a convention. It is not a keyword and has no special meaning in Python.\n",
        "\n",
        "Q5. What is the purpose of the __init__ method?\n",
        "\n",
        "Ans. The __init__() method is used to initialize the instance variables when ever an object of the class is created. This method gets invoked when we make a call through the constructor of the class.\n",
        "\n",
        "Ex:\n",
        "\n",
        "    class Person:\n",
        "\t    def __init__(self, name, age):\n",
        "\t\t    self.name=name\n",
        "\t\t    self.age=age\n",
        "    p1=Person(“Latha”,35)\n",
        "\n",
        "Q6. What is the process for creating a class instance?\n",
        "\n",
        "Ans. To create instances of a class, you call the class using class name and pass in whatever arguments its __init__ method accepts.\n",
        "\n",
        "Ex:\n",
        "\n",
        "    class Employee:\n",
        "        def __init__(self, name, salary):\n",
        "            self.name = name\n",
        "            self.salary = salary\n",
        "\n",
        "    e1 =Employee(“Latha”,50000)\n",
        "\n",
        "\n",
        "Q7. What is the process for creating a class?\n",
        "\n",
        "Ans. The class statement creates a new class definition. The name of the class immediately follows the keyword class followed by a colon as follows −\n",
        "\n",
        "    class Point:\n",
        "        def __init__( self, x=0, y=0):\n",
        "            self.x = x\n",
        "            self.y = y\n",
        "\n",
        "\n",
        "\n",
        "Q8. How would you define the superclasses of a class?\n",
        "\n",
        "Ans. The class from which a class inherits is called the parent or superclass. A class which inherits from a superclass is called a subclass, also called heir class or child class. Superclasses are sometimes called ancestors as well. There exists a hierarchical relationship between classes.\n",
        "\n",
        "    class Robot:\n",
        "        def __init__(self, name):\n",
        "            self.name = name\n",
        "        def say_hi(self):\n",
        "            print(\"Hi, I am \" + self.name)\n",
        "    class PhysicianRobot(Robot):\n",
        "        pass\n",
        "    x = Robot(\"Marvin\")\n",
        "    y = PhysicianRobot(\"James\")\n",
        "    print(x, type(x))\n",
        "    print(y, type(y))\n",
        "    y.say_hi()\n",
        "\n"
      ],
      "metadata": {
        "id": "y8eN1OkP0K5m"
      }
    }
  ]
}