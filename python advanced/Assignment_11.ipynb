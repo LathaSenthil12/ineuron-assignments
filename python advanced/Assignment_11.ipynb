{
  "nbformat": 4,
  "nbformat_minor": 0,
  "metadata": {
    "colab": {
      "provenance": []
    },
    "kernelspec": {
      "name": "python3",
      "display_name": "Python 3"
    },
    "language_info": {
      "name": "python"
    }
  },
  "cells": [
    {
      "cell_type": "markdown",
      "source": [
        "Q1. What is the concept of a metaclass?\n",
        "\n",
        "Ans: Metaclass in Python is a class of a class that defines how a class behaves. A class is itself a instance of Metaclass, and any Instance of Class in Python is an Instance of type metaclass. E.g. Type of of int, str, float, list, tuple and many more is of metaclass type."
      ],
      "metadata": {
        "id": "RoX6Uw10stdt"
      }
    },
    {
      "cell_type": "markdown",
      "source": [
        "Q2. What is the best way to declare a class's metaclass?\n",
        "\n",
        "Ans: A way to declare a class’ metaclass is by using metaclass keyword in class definition."
      ],
      "metadata": {
        "id": "kp6V0YUPswiJ"
      }
    },
    {
      "cell_type": "code",
      "source": [
        "class meta(type):\n",
        "    pass\n",
        "class class_meta(metaclass=meta):\n",
        "    pass\n",
        "print(type(meta))\n",
        "print(type(class_meta))"
      ],
      "metadata": {
        "colab": {
          "base_uri": "https://localhost:8080/"
        },
        "id": "TvNwcq5Hss_a",
        "outputId": "f1adb769-095d-40df-bec1-129598db32b1"
      },
      "execution_count": 1,
      "outputs": [
        {
          "output_type": "stream",
          "name": "stdout",
          "text": [
            "<class 'type'>\n",
            "<class '__main__.meta'>\n"
          ]
        }
      ]
    },
    {
      "cell_type": "markdown",
      "source": [
        "Q3. How do class decorators overlap with metaclasses for handling classes ?\n",
        "\n",
        "\n",
        "Ans: Anything you can do with a class decorator, you can of course do with a custom metaclasses (just apply the functionality of the \"decorator function\", i.e., the one that takes a class object and modifies it, in the course of the metaclass's ____new ____ or ____init ____ that make the class object!)."
      ],
      "metadata": {
        "id": "9PFqRYs2s7g5"
      }
    },
    {
      "cell_type": "markdown",
      "source": [
        "Q4. How do class decorators overlap with metaclasses for handling instances?\n",
        "\n",
        "\n",
        "Ans: Anything you can do with a class decorator, you can of course do with a custom metaclass (just apply the functionality of the \"decorator function\", i.e., the one that takes a class object and modifies it, in the course of the metaclass's ____new ____ or ____init ____ that make the class object!)."
      ],
      "metadata": {
        "id": "ij91_2lrtFcw"
      }
    },
    {
      "cell_type": "code",
      "execution_count": null,
      "metadata": {
        "id": "f0dXh3aVsp3G"
      },
      "outputs": [],
      "source": []
    }
  ]
}