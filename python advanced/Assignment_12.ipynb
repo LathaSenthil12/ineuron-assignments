{
  "nbformat": 4,
  "nbformat_minor": 0,
  "metadata": {
    "colab": {
      "provenance": []
    },
    "kernelspec": {
      "name": "python3",
      "display_name": "Python 3"
    },
    "language_info": {
      "name": "python"
    }
  },
  "cells": [
    {
      "cell_type": "markdown",
      "source": [
        "Q1. Does assigning a value to a string's indexed character violate Python's string immutability ?\n",
        "\n",
        "Ans: String’s indexed character cannot to be assigned a New value , as Strings are immutable.\n",
        "\n",
        "Example:\n",
        "\n",
        "    name = \"Reinforcement\"\n",
        "    print(id(name)) #73472\n",
        "    name[0] = \"V\" # Raises TypeError"
      ],
      "metadata": {
        "id": "x72poH0gtqFZ"
      }
    },
    {
      "cell_type": "markdown",
      "source": [
        "Q2. Does using the += operator to concatenate strings violate Python's string immutability? Why or why not ?\n",
        "\n",
        "\n",
        "Ans: += operator is used to concatenate strings, it does not violate Python’s string immutability Property. Because doing so new creates a new association with data and variable. E.g. str_1=\"a\" and str_1+=\"b. effect of this statements to create string ab and reassign it to variable str_1, any string data is not actually modified."
      ],
      "metadata": {
        "id": "KmolWDY-t9Io"
      }
    },
    {
      "cell_type": "code",
      "source": [
        "str_1 = 'a'\n",
        "print(id(str_1))\n",
        "str_1 += 'b'\n",
        "print(id(str_1)) # Does not Modify existing string, Creates a New String Object"
      ],
      "metadata": {
        "colab": {
          "base_uri": "https://localhost:8080/"
        },
        "id": "TSoHYk0-tpya",
        "outputId": "622f39e0-bdbb-447a-ca7d-8a43c2d4b46e"
      },
      "execution_count": 1,
      "outputs": [
        {
          "output_type": "stream",
          "name": "stdout",
          "text": [
            "140616512798384\n",
            "140616294469936\n"
          ]
        }
      ]
    },
    {
      "cell_type": "markdown",
      "source": [
        "Q3. In Python, how many different ways are there to index a character?\n",
        "\n",
        "\n",
        "Ans: A Character in string can be indexed using string name followed by index number of character in square bracket. Positive Indexing i.e. first index is 0 an so on, or Negative Indexing i.e. last letter is -1 and so on can be used to index a character"
      ],
      "metadata": {
        "id": "a4izPUlYuKlh"
      }
    },
    {
      "cell_type": "code",
      "execution_count": 2,
      "metadata": {
        "colab": {
          "base_uri": "https://localhost:8080/"
        },
        "id": "0zWCRlVotlyt",
        "outputId": "5f166c12-0e67-4514-fb0b-731316e56a39"
      },
      "outputs": [
        {
          "output_type": "stream",
          "name": "stdout",
          "text": [
            "u l e\n",
            "e i c\n"
          ]
        }
      ],
      "source": [
        "in_string = \"iNeuron Full Stack Data Science\"\n",
        "print(in_string[9],in_string[10],in_string[2]) # Positive Indexing\n",
        "print(in_string[-1],in_string[-5],in_string[-2]) # Negative Indexing"
      ]
    },
    {
      "cell_type": "markdown",
      "source": [
        "Q4. What is the relationship between indexing and slicing?\n",
        "\n",
        "Ans: We can access elements of sequence datatypes by using slicing and indexing. Indexing is used to obtaining individual element while slicing for sequence of elements."
      ],
      "metadata": {
        "id": "30Fs-OTUuUUh"
      }
    },
    {
      "cell_type": "code",
      "source": [
        "in_string = \"iNeuron Full Stack Data Science\"\n",
        "print(type(in_string[3])) # Indexing -> str\n",
        "print(type(in_string[1:10])) # Indexing -> str"
      ],
      "metadata": {
        "colab": {
          "base_uri": "https://localhost:8080/"
        },
        "id": "O38ISjUluY7B",
        "outputId": "3a4a1c6c-bf22-4a62-ade8-8e36696823bf"
      },
      "execution_count": 3,
      "outputs": [
        {
          "output_type": "stream",
          "name": "stdout",
          "text": [
            "<class 'str'>\n",
            "<class 'str'>\n"
          ]
        }
      ]
    },
    {
      "cell_type": "markdown",
      "source": [
        "Q6. What is the relationship between string and character \"types\" in Python?\n",
        "\n",
        "Ans: Object that contains sequence of character datatypes are called String."
      ],
      "metadata": {
        "id": "AR533Y1sukqh"
      }
    },
    {
      "cell_type": "markdown",
      "source": [
        "Q7. Identify at least two operators & one method that allow you to combine one or more smaller strings to create a larger string ?\n",
        "\n",
        "Ans: +, += and * allow to combine one or more smaller strings to create a larger string. \n",
        "\n",
        "    <string>.join(<sep>)\n",
        " method joins element of iterable type like list and tuple to get a combined string."
      ],
      "metadata": {
        "id": "JfLN2gtTumWh"
      }
    },
    {
      "cell_type": "code",
      "source": [
        "in_string = 'iNeuron '\n",
        "in_string += 'Full Stack Data Science'\n",
        "print(in_string + ' FSDS')\n",
        "print('FSDS '*3)\n",
        "print(\" \".join(['I','N','E','U','R','O','N'])) # List Iterable\n",
        "print(\" \".join(('I','N','E','U','R','O','N')).lower()) # Tuple Iterable"
      ],
      "metadata": {
        "colab": {
          "base_uri": "https://localhost:8080/"
        },
        "id": "OktQjBJSuwZ4",
        "outputId": "c34584e5-a74a-438a-bcc6-53e149dcc844"
      },
      "execution_count": 4,
      "outputs": [
        {
          "output_type": "stream",
          "name": "stdout",
          "text": [
            "iNeuron Full Stack Data Science FSDS\n",
            "FSDS FSDS FSDS \n",
            "I N E U R O N\n",
            "i n e u r o n\n"
          ]
        }
      ]
    },
    {
      "cell_type": "markdown",
      "source": [
        "Q8. What is the benefit of first checking the target string with in or not in before using the index method to find a substring ?\n",
        "\n",
        "Ans: Checking the target string with in or not Operators before using the index method to find a substring just helps confirming availability of substring and thus avoid raising of ValueError.\n",
        "\n",
        "Example:\n",
        "\n",
        "    in_string = \"ineuron\"\n",
        "    in_string.index('x') # Raises ValueError\n",
        "    in_string.index('u') # 3"
      ],
      "metadata": {
        "id": "y-LAO9g6u56Y"
      }
    },
    {
      "cell_type": "markdown",
      "source": [
        "Q9. Which operators and built-in string methods produce simple Boolean (true/false) results?\n",
        "Ans: The String Operators and built-in methods to Produce Simple Boolean (True/False) Results are:\n",
        "\n",
        "\n",
        "*   in\n",
        "*   not\n",
        "*   <string>.isalpha()\n",
        "*   <string>.isalnum()\n",
        "*   <string>.isdecimal()\n",
        "*   <string>.isdigit()\n",
        "*   <string>.isnumeric()\n",
        "*   <string>.isprintable()\n",
        "*   <string>.isprintable()\n",
        "*   <string>.isspace()\n",
        "*   <string>.istitle()\n"
      ],
      "metadata": {
        "id": "W8SuJhNcvB4g"
      }
    }
  ]
}