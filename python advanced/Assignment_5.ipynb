{
  "nbformat": 4,
  "nbformat_minor": 0,
  "metadata": {
    "colab": {
      "provenance": []
    },
    "kernelspec": {
      "name": "python3",
      "display_name": "Python 3"
    },
    "language_info": {
      "name": "python"
    }
  },
  "cells": [
    {
      "cell_type": "markdown",
      "source": [
        "Q1. What is the meaning of multiple inheritance?\n",
        "\n",
        "Ans:Inheritance is the mechanism to achieve the re-usability of code as one class(child class) can derive the properties of another class(parent class). It also provides transitivity ie. if class C inherits from P then all the sub-classes of C would also inherit from P.\n",
        " \n",
        "\n",
        "Multiple Inheritance \n",
        "\n",
        "When a class is derived from more than one base class it is called multiple Inheritance. The derived class inherits all the features of the base case.\n",
        "\n",
        "\n",
        "\n",
        "\n",
        "\n",
        "\n",
        "\n"
      ],
      "metadata": {
        "id": "Sy6m9jH6GWbf"
      }
    },
    {
      "cell_type": "code",
      "source": [
        "class Class1:\n",
        "    def m(self):\n",
        "        print(\"In Class1\")\n",
        "       \n",
        "class Class2(Class1):\n",
        "    def m(self):\n",
        "        print(\"In Class2\")\n",
        " \n",
        "class Class3(Class1):\n",
        "    def m(self):\n",
        "        print(\"In Class3\") \n",
        "        \n",
        "class Class4(Class2, Class3):\n",
        "    pass  \n",
        "     \n",
        "obj = Class4()\n",
        "obj.m()"
      ],
      "metadata": {
        "colab": {
          "base_uri": "https://localhost:8080/"
        },
        "id": "XlKVXgWSGVs4",
        "outputId": "da50f67d-3559-490d-a4e0-b060fc2d4292"
      },
      "execution_count": 4,
      "outputs": [
        {
          "output_type": "stream",
          "name": "stdout",
          "text": [
            "In Class2\n"
          ]
        }
      ]
    },
    {
      "cell_type": "markdown",
      "source": [
        "Q2. What is the concept of delegation?\n",
        "\n",
        "Ans: Delegation provides a proxy object for any class thay you want on top of the main class. its like a wrapper to your class so that you can access limited resources of the main class.\n",
        "\n",
        "it Wraps the object of main class into a smaller object with limited access\n",
        "\n",
        "Simply Delegation means that you can include a instance of another class as an instance variable, and forward messages to the instance."
      ],
      "metadata": {
        "id": "srEZzhCcGZSe"
      }
    },
    {
      "cell_type": "code",
      "execution_count": 5,
      "metadata": {
        "colab": {
          "base_uri": "https://localhost:8080/"
        },
        "id": "QssV6E92GStS",
        "outputId": "480b1955-dfee-49e0-dde4-640cef1a991d"
      },
      "outputs": [
        {
          "output_type": "stream",
          "name": "stdout",
          "text": [
            "Hey iam back\n",
            "Hey iam back\n",
            "Hey iam back\n",
            "Iam the main class\n"
          ]
        }
      ],
      "source": [
        "class Myclass:\n",
        "    def sayHi(self):\n",
        "        print('Hey iam back')\n",
        "    def whoAmI(self):\n",
        "        print('Iam the main class')\n",
        "class NewClass:\n",
        "    def __init__(self,obj):\n",
        "        self.main = obj\n",
        "    def welcome(self):\n",
        "        self.main.sayHi()\n",
        "\n",
        "m = Myclass()        \n",
        "n = NewClass(m)\n",
        "m.sayHi()\n",
        "n.main.sayHi()\n",
        "n.welcome()\n",
        "n.main.whoAmI()"
      ]
    },
    {
      "cell_type": "markdown",
      "source": [
        "Q3. What is the concept of composition?\n",
        "\n",
        "Ans: In the concept of Composition, a class refers to one or more other classes by using instances of those classes as a instance variable. irrespective of inheritence in this approach all the parent class members are not inherited into child class, but only required methods from a class are used by using class instances."
      ],
      "metadata": {
        "id": "HazCFZ9xGbom"
      }
    },
    {
      "cell_type": "code",
      "source": [
        "class Salary:\n",
        "    def __init__(self,pay):\n",
        "        self.pay = pay\n",
        "    def get_total(self):\n",
        "        return self.pay*12\n",
        "    \n",
        "class Employee:\n",
        "    def __init__(self,pay,bonus):\n",
        "        self.pay = pay\n",
        "        self.bonus = bonus\n",
        "        self.obj_salary = Salary(self.pay)\n",
        "    def annual_salary(self):\n",
        "        return f'Total Salary : {str(self.obj_salary.get_total())}'\n",
        "\n",
        "obj_emp = Employee(800,500)\n",
        "print(obj_emp.annual_salary())"
      ],
      "metadata": {
        "colab": {
          "base_uri": "https://localhost:8080/"
        },
        "id": "ghClL9TEGcS2",
        "outputId": "aaa2aa9b-6abd-4b39-8ed4-472c07a5aebb"
      },
      "execution_count": 6,
      "outputs": [
        {
          "output_type": "stream",
          "name": "stdout",
          "text": [
            "Total Salary : 9600\n"
          ]
        }
      ]
    },
    {
      "cell_type": "markdown",
      "source": [
        "Q4. What are bound methods and how do we use them?\n",
        "\n",
        "Ans: If a function is an attribute of class and it is accessed via the instances, they are called bound methods. A bound method is one that has self as its first argument. Since these are dependent on the instance of classes, these are also known as instance methods.\n"
      ],
      "metadata": {
        "id": "2ZqPeghKGcj2"
      }
    },
    {
      "cell_type": "code",
      "source": [
        "class Test:\n",
        "    def method_one(self): # bound method\n",
        "        print(\"Called method_one\")\n",
        "    @classmethod\n",
        "    def method_two(cls): # unbound method\n",
        "        print(\"Called method_two\")\n",
        "    @staticmethod\n",
        "    def method_three(): # static method\n",
        "        print(\"Called method_three\")\n",
        "\n",
        "test = Test()\n",
        "test.method_one() # accessing through instance object\n",
        "test.method_two() # accessing through instance object\n",
        "Test.method_two() # accessing directly through class\n",
        "Test.method_three() # accessing directly through class"
      ],
      "metadata": {
        "colab": {
          "base_uri": "https://localhost:8080/"
        },
        "id": "NB_DoNloGfpl",
        "outputId": "7484701a-6709-4359-d007-dc218cf52f1b"
      },
      "execution_count": 7,
      "outputs": [
        {
          "output_type": "stream",
          "name": "stdout",
          "text": [
            "Called method_one\n",
            "Called method_two\n",
            "Called method_two\n",
            "Called method_three\n"
          ]
        }
      ]
    },
    {
      "cell_type": "markdown",
      "source": [
        "Q5. What is the purpose of pseudoprivate attributes?\n",
        "\n",
        "Ans: Pseudoprivate attributes are also useful in larger frameworks or tools, both to avoid introducing new method names that might accidentally hide definitions elsewhere in the class tree and to reduce the chance of internal methods being replaced by names defined lower in the tree. If a method is intended for use only within a class that may be mixed into other classes, the double underscore prefix ensures that the method won't interfere with other names in the tree, especially in multiple-inheritance scenarios\n",
        "\n",
        "Pseudoprivate names also prevent subclasses from accidentally redefining the internal method's names."
      ],
      "metadata": {
        "id": "Gq3qH4zVGf6W"
      }
    },
    {
      "cell_type": "code",
      "source": [
        "class Super:\n",
        "    def method(self): # A real application method\n",
        "        pass\n",
        "class Tool:\n",
        "    def _method(self): # becomes _Tool_method\n",
        "        pass\n",
        "    def other(self): # uses internal method\n",
        "        self._method()\n",
        "class Subl(Tool,Super):\n",
        "    def actions(self):\n",
        "        self.method()\n",
        "class Sub2(Tool):\n",
        "    def __init__(self):\n",
        "        self.method = 99"
      ],
      "metadata": {
        "id": "vs7ALG5IGiU9"
      },
      "execution_count": 8,
      "outputs": []
    }
  ]
}