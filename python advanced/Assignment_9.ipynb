{
  "nbformat": 4,
  "nbformat_minor": 0,
  "metadata": {
    "colab": {
      "provenance": []
    },
    "kernelspec": {
      "name": "python3",
      "display_name": "Python 3"
    },
    "language_info": {
      "name": "python"
    }
  },
  "cells": [
    {
      "cell_type": "markdown",
      "source": [
        "Q1. In Python 3.X, what are the names and functions of string object types?\n",
        "\n",
        "Ans: The following are the names and functions of string object types in Python 3.X\n",
        "\n",
        "\n",
        "*  <stirng>.isdecimal() -> Returns True if all characters in a string are decimal.\n",
        "*  <string>.isalnum() -> Returns True if all characters in the string are AlphaNumeric.\n",
        "*   <string>.istitle() -> Returns True if first character in a string is in Uppercase.\n",
        "*   <string>.partition(<sub_string>) -> Splits string at first occurance of sub string and returns a tuple of 3 elements.\n",
        "*   <string>.rpartition(<sub_string>) -> Splits string at last occurance of sub string and returns a tuple of 3 elements.\n",
        "*   <string>.isidentifier() -> Returns True if give string is a valid identifier name.\n",
        "*  len(<string>) -> Returns the length of the given string.\n",
        "*   <string>.index(<sub_string>) -> Returns the lowest index of substring if substring is found in the string.\n",
        "*   <string>.rindex(<sub_string>) -> Returns the highest index of substring if substring is found in the string\n",
        "*  max(<string>) -> Returns the highest Alphabetical Character in the string as per ASCII.\n",
        "*  min(<string>) -> Returns the lowest Alphabetical Character in the string as per ASCII.\n",
        "*   <string>.splitlines() -> Returns a list of lines in the string.\n",
        "*   <string>.capitalize() -> Returns the string with first character capitalized.\n",
        "*   <string>.upper() -> Returns the string with all characters in uppercase.\n",
        "*  <string>.lower() -> Returns the string with all characters in lowercase\n",
        "*  <string>.casefold() -> Returns the string in lowercase which can be used for caseless comparisions.\n",
        "*  <string>.expandtabs(no_of_spaces) -> Replaces tabs in a string with specified no of spaces default is 8\n",
        "*   <string>.find(<sub_string>) -> Returns lowest index of substring if substring is found in the string else returns -1.\n",
        "*   <string>.rfind(<sub_string>) -> Returns highest index of substring if substring is found in the string else returns -1.\n",
        "*   <string>.count(<char>) -> Returns the no of occurances of the char in the given string.m\n",
        "*   <string>.split(<sep>) -> Returns list of words seperated by given sep else seperated by whitespace.\n",
        "*  <string>.rsplit(<sep>) -> Returns list of words seperated by given sep else seperated by whitespace scanning from end.\n",
        "*   <string>.lstrip() -> Returns a copy of where leading whitespaces are removed.\n",
        "*  <string>.rstrip() -> Returns a copy of where trailed whitespaces are removed.\n",
        "*   <string>.strip() -> Returns a copy of where both leading and trailing whitespaces are removed.\n",
        "*  <string>.swapcase() -> Swaps lowercase characters with uppercase and vice versa.\n",
        "\n",
        "*  <sep>.join(<list>) -> Concatenates a list or tuple of words with intervening occuernces of sep.\n",
        "*  <string>.translate(<mapping_table>) -> translates the characters using table.\n",
        "*  <string>.maketrans(<dict>) -> Creating a mapping translation table usable for <string>.translate(<mapping_table>)\n",
        "*   <string>.replace(<char_1>,<char_2>) -> Replace all occurances of char_1 with char_2 in string.\n",
        "*  <string>.encode() -> Encodes string into any encoding supported by python. Default encoding is UTF-8.\n",
        "*   <string>.ljust(<no_of_spaces>) -> Left-justify in a field of given width.\n",
        "*   <string>.rjust(<no_of_spaces>) -> Right-justify in a field of given width.\n",
        "*   <string>.center(<no_of_spaces>) -> Center-justify in a field of given width.\n",
        "*   <stirng>.zfill(<length>) -> Zfill adds zeros to the begining of string until the specified length is reached."
      ],
      "metadata": {
        "id": "NTjhusXK7gZz"
      }
    },
    {
      "cell_type": "markdown",
      "source": [
        "Q2. How do the string forms in Python 3.X vary in terms of operations?\n",
        "\n",
        "Ans: In Python3 default format of strings is Unicode Whereas in Pyton2 we need to explicitly mention Unicode value using u."
      ],
      "metadata": {
        "id": "gB3aIe37-s6s"
      }
    },
    {
      "cell_type": "markdown",
      "source": [
        "Q3. In 3.X, how do you put non-ASCII Unicode characters in a string?\n",
        "\n",
        "Ans: In Python 3.x unidecode() method from unidecode library can be used to put non-ASCII Unicode Characters in a string."
      ],
      "metadata": {
        "id": "gr613pGq-xwU"
      }
    },
    {
      "cell_type": "code",
      "source": [
        "pip install Unidecode"
      ],
      "metadata": {
        "colab": {
          "base_uri": "https://localhost:8080/"
        },
        "id": "xydgn-mJ_HEd",
        "outputId": "683e3008-6258-4117-dc74-3494a9c96345"
      },
      "execution_count": 2,
      "outputs": [
        {
          "output_type": "stream",
          "name": "stdout",
          "text": [
            "Looking in indexes: https://pypi.org/simple, https://us-python.pkg.dev/colab-wheels/public/simple/\n",
            "Collecting Unidecode\n",
            "  Downloading Unidecode-1.3.6-py3-none-any.whl (235 kB)\n",
            "\u001b[2K     \u001b[90m━━━━━━━━━━━━━━━━━━━━━━━━━━━━━━━━━━━━━━━\u001b[0m \u001b[32m235.9/235.9 kB\u001b[0m \u001b[31m7.0 MB/s\u001b[0m eta \u001b[36m0:00:00\u001b[0m\n",
            "\u001b[?25hInstalling collected packages: Unidecode\n",
            "Successfully installed Unidecode-1.3.6\n"
          ]
        }
      ]
    },
    {
      "cell_type": "code",
      "source": [
        "from unidecode import unidecode\n",
        "print(unidecode(u'ko\\u017eu\\u0161\\u010dek'))\n",
        "print(unidecode(\"आप नीचे अपनी भाषा और इनपुट उपकरण चुनें और लिखना आरंभ करें\"))\n",
        "print(unidecode(\"谢谢你\"))\n",
        "print(unidecode(\"ありがとう。\"))\n",
        "print(unidecode(\"улыбаться Владимир Путин\"))"
      ],
      "metadata": {
        "colab": {
          "base_uri": "https://localhost:8080/"
        },
        "id": "AdkSb9du-shl",
        "outputId": "bcd2cfb4-4ec3-497a-d052-3bf4aa132115"
      },
      "execution_count": 3,
      "outputs": [
        {
          "output_type": "stream",
          "name": "stdout",
          "text": [
            "kozuscek\n",
            "aap niice apnii bhaassaa aur inputt upkrnn cuneN aur likhnaa aarNbh kreN\n",
            "Xie Xie Ni \n",
            "arigatou. \n",
            "ulybat'sia Vladimir Putin\n"
          ]
        }
      ]
    },
    {
      "cell_type": "markdown",
      "source": [
        "Q4. In Python 3.X, what are the key differences between text-mode and binary-mode files?\n",
        "\n",
        "Ans: The major difference between these two is that a text file contains textual information in the form of alphabets, digits and special characters or symbols. On the other hand, a binary file contains bytes or a compiled version of a text file.\n",
        "\n",
        "When a file is opened in text mode, reading its data automatically decodes its content (as per the platform default or as per provided encoding), and returns it as a str; writing operation takes a str, and automatically encodes it before transferring to the file. Text mode files also support universal end-of-line translation, and encoding specification arguments.\n",
        "\n",
        "When a file is opened in binary mode by adding a b to the mode string argument in the open() call, reading its data does not decode it in any way, and simply returns its content raw and unchanged, as a bytes object; writing takes a bytes object and transfers it to the file unchanged. Binary-mode files also accept a bytearray object for the content to be written to the file."
      ],
      "metadata": {
        "id": "6jHkcGwy_yU9"
      }
    },
    {
      "cell_type": "markdown",
      "source": [
        "Q5. How can you interpret a Unicode text file containing text encoded in a different encoding than your platform's default?\n",
        "\n",
        "Ans: Use of encode() and decode() method can be used to you interpret a Unicode text file containing text encoded in a different encoding than your platform's default, by default encoding parameter is UTF-8"
      ],
      "metadata": {
        "id": "tYtlCzXL-66E"
      }
    },
    {
      "cell_type": "markdown",
      "source": [
        "Q6. What is the best way to make a Unicode text file in a particular encoding format?\n",
        "\n",
        "Ans: Use str.encode() and file.write() to make a Unicode text file in a particular encoding format, default encoding format is UTF-18.\n",
        "\n",
        "Call str.encode(encoding) with encoding set to utf8 to encode str.\n",
        "Call open(file, mode) to open a file with mode set to wb . wb writes to files in binary mode & preserves UTF-8format.\n",
        "Call file.write(data) to write data to the file."
      ],
      "metadata": {
        "id": "MhCE0DK2_ZDF"
      }
    },
    {
      "cell_type": "code",
      "source": [
        "unicode_text = u\"улыбаться Владимир Путин\"\n",
        "encoded_unicode_text = unicode_text.encode(\"utf-8\")\n",
        "print(encoded_unicode_text,end=\"\\n\\n\")\n",
        "\n",
        "w_file = open(\"w_file.txt\",\"wb\")\n",
        "w_file.write(encoded_unicode_text)\n",
        "w_file.close()\n",
        "\n",
        "r_file = open(\"w_file.txt\",\"rb\")\n",
        "data = r_file.read()\n",
        "print(data)"
      ],
      "metadata": {
        "colab": {
          "base_uri": "https://localhost:8080/"
        },
        "id": "k1Y_vOf8_9cV",
        "outputId": "e3af04ff-c5fb-44e3-b065-29d4dbceb218"
      },
      "execution_count": 4,
      "outputs": [
        {
          "output_type": "stream",
          "name": "stdout",
          "text": [
            "b'\\xd1\\x83\\xd0\\xbb\\xd1\\x8b\\xd0\\xb1\\xd0\\xb0\\xd1\\x82\\xd1\\x8c\\xd1\\x81\\xd1\\x8f \\xd0\\x92\\xd0\\xbb\\xd0\\xb0\\xd0\\xb4\\xd0\\xb8\\xd0\\xbc\\xd0\\xb8\\xd1\\x80 \\xd0\\x9f\\xd1\\x83\\xd1\\x82\\xd0\\xb8\\xd0\\xbd'\n",
            "\n",
            "b'\\xd1\\x83\\xd0\\xbb\\xd1\\x8b\\xd0\\xb1\\xd0\\xb0\\xd1\\x82\\xd1\\x8c\\xd1\\x81\\xd1\\x8f \\xd0\\x92\\xd0\\xbb\\xd0\\xb0\\xd0\\xb4\\xd0\\xb8\\xd0\\xbc\\xd0\\xb8\\xd1\\x80 \\xd0\\x9f\\xd1\\x83\\xd1\\x82\\xd0\\xb8\\xd0\\xbd'\n"
          ]
        }
      ]
    },
    {
      "cell_type": "markdown",
      "source": [
        "Q7. What qualifies ASCII text as a form of Unicode text?\n",
        "\n",
        "Ans: Unicode represents most written languages in the world. ASCII has its equivalent in Unicode. The difference between ASCII and Unicode is that ASCII represents lowercase letters (a-z), uppercase letters (A-Z), digits (0–9) and symbols such as punctuation marks while Unicode represents letters of English, Arabic, Greek etc. mathematical symbols, historical scripts, emoji covering a wide range of characters than ASCII."
      ],
      "metadata": {
        "id": "p_iL69X7_c39"
      }
    },
    {
      "cell_type": "markdown",
      "source": [
        "Q8. How much of an effect does the change in string types in Python 3.X have on your code?\n",
        "\n",
        "Ans: Python 3 stores strings as Unicode by default whereas Python 2 requires you to mark a string with a u if you want to store it as Unicode. Unicode strings are more versatile than ASCII strings, which are the Python 3.X default, as they can store letters from foreign languages as well as emoji and the standard Roman letters and numerals."
      ],
      "metadata": {
        "id": "w0aMGPANAEZu"
      }
    },
    {
      "cell_type": "code",
      "execution_count": null,
      "metadata": {
        "id": "pS1o1ZFr7UVn"
      },
      "outputs": [],
      "source": []
    }
  ]
}