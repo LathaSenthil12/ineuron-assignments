{
  "nbformat": 4,
  "nbformat_minor": 0,
  "metadata": {
    "colab": {
      "provenance": []
    },
    "kernelspec": {
      "name": "python3",
      "display_name": "Python 3"
    },
    "language_info": {
      "name": "python"
    }
  },
  "cells": [
    {
      "cell_type": "code",
      "execution_count": null,
      "metadata": {
        "id": "SX6KeTqj_fNZ"
      },
      "outputs": [],
      "source": []
    },
    {
      "cell_type": "markdown",
      "source": [
        "1. What is the concept of an abstract superclass?\n",
        "\n",
        "Ans: An abstract class/superclass can be considered as a blueprint for other classes. It allows you to create a set of methods that must be created within any child classes built from the abstract class. A class which contains one or more abstract methods is called an abstract class.\n",
        "\n",
        "Whereas an abstract method is a method that has a declaration but does not have an implementation\n"
      ],
      "metadata": {
        "id": "fPKgyba5_iET"
      }
    },
    {
      "cell_type": "code",
      "source": [
        "from abc import ABC, abstractmethod\n",
        "class Polygon(ABC): # Abstract Class\n",
        "    @abstractmethod\n",
        "    def noofsides(self): # Abstract Method\n",
        "        pass\n",
        "class Triangle(Polygon):\n",
        "    def noofsides(self):  # overriding abstract method in child class Triangle\n",
        "        print(\"I have 3 sides\")\n",
        "class Pentagon(Polygon):\n",
        "    def noofsides(self): # overriding abstract method in child class Pentagon\n",
        "        print(\"I have 5 sides\")"
      ],
      "metadata": {
        "id": "d8LXCmjNAIvh"
      },
      "execution_count": 1,
      "outputs": []
    },
    {
      "cell_type": "markdown",
      "source": [
        "2. What happens when a class statement's top level contains a basic assignment statement?\n",
        "\n",
        "Ans: When a Class statement's top level contains a basic assignment statement, its usually treated as a class attribute or class level variable.\n",
        "\n",
        "where as assignment statements inside methods are treated as instance attributes or local attributes.\n",
        "\n",
        "When an instance of a class is created a single copy of class attributes is maintained and shared to all instances of class. where as each instance object maintains its own copy of instance variables."
      ],
      "metadata": {
        "id": "2ZEfM7RlAyPB"
      }
    },
    {
      "cell_type": "code",
      "source": [
        "class Person:\n",
        "    species = 'Homesapiens' # class attribute\n",
        "    def __init__(self,name,gender):\n",
        "        self.name = name # instance attributes\n",
        "        self.gender = gender"
      ],
      "metadata": {
        "id": "o24RvcMdA6WI"
      },
      "execution_count": null,
      "outputs": []
    },
    {
      "cell_type": "markdown",
      "source": [
        "\n",
        "3. Why does a class need to manually call a superclass&#39;s __init__ method?\n",
        "\n",
        "Ans: if a child class has __init__ method, then it will not inherit the __init__ method of the parent class. in other words the __init__ method of the child class overrides the __init__ method of the parent class. so we have to manually call a parent superclass's __init__ using super() method\n",
        "\n"
      ],
      "metadata": {
        "id": "_6wU3On9BDF_"
      }
    },
    {
      "cell_type": "code",
      "source": [
        "class Person:\n",
        "    def __init__(self,name,age):\n",
        "        self.name = name\n",
        "        self.age = age       \n",
        "class Student(Person):\n",
        "    def __init__(self,name,age,grade):\n",
        "        super().__init__(name,age)\n",
        "        self.grade = grade\n",
        "s1 = Student('Adithi',16,12)\n",
        "print(s1.__dict__)"
      ],
      "metadata": {
        "colab": {
          "base_uri": "https://localhost:8080/"
        },
        "id": "9Ylx3PmTBLug",
        "outputId": "1d604a3b-ba36-4dd2-c217-47adfad63684"
      },
      "execution_count": 2,
      "outputs": [
        {
          "output_type": "stream",
          "name": "stdout",
          "text": [
            "{'name': 'Adithi', 'age': 16, 'grade': 12}\n"
          ]
        }
      ]
    },
    {
      "cell_type": "markdown",
      "source": [
        "\n",
        "4. How can you augment, instead of completely replacing, an inherited method?\n",
        "\n",
        "Ans: super() method can be used to augment, instead of completely replacing, an inherited method."
      ],
      "metadata": {
        "id": "h5nfIbVQBirZ"
      }
    },
    {
      "cell_type": "code",
      "source": [
        "class Person:\n",
        "    def __init__(self,name,gender):\n",
        "        self.name = name\n",
        "        self.gender = gender\n",
        "class Student(Person):\n",
        "    def __init__(self,name,gender,grade):\n",
        "        super().__init__(name,gender) \n",
        "        self.grade = grade\n",
        "s1 = Student('Adithi',16,12)\n",
        "print(s1.__dict__)   "
      ],
      "metadata": {
        "colab": {
          "base_uri": "https://localhost:8080/"
        },
        "id": "AdTrS1wYBe-X",
        "outputId": "1a015f57-441f-48c7-cd04-0d2c409cc82b"
      },
      "execution_count": 3,
      "outputs": [
        {
          "output_type": "stream",
          "name": "stdout",
          "text": [
            "{'name': 'Adithi', 'gender': 16, 'grade': 12}\n"
          ]
        }
      ]
    },
    {
      "cell_type": "markdown",
      "source": [
        "5. How is the local scope of a class different from that of a function?\n",
        "\n",
        "Ans: A Variable which is defined inside a function is local to that function. it is accesible from the point at which it is defined until the end of the function, and exists for as long as the function is existing.\n",
        "\n",
        "Similary a variable inside of a class also has a local variable scope. Variables which are defined in the class body (but outside all methods) are called as class level variables or class attributes. they can be referenced by there bare names within the same scope, but they can also be accessed from outside this scope if we use the attribute access operator (.). on a class or an instance of the class."
      ],
      "metadata": {
        "id": "-A4_RuBVB48g"
      }
    },
    {
      "cell_type": "code",
      "source": [
        "def hello(name):\n",
        "    name = name\n",
        "    print(f'you\\'re name is {name}')\n",
        "hello('Mano Vishnu')\n",
        "try:\n",
        "    name\n",
        "except NameError:\n",
        "    print('Name varible is not available outside hello function scope')\n",
        "\n",
        "class Person:\n",
        "    species = \"HomeSapines\"\n",
        "    def __init__(self):\n",
        "        pass\n",
        "print(Person.species) # Accessing species using class name\n",
        "Male = Person()\n",
        "print(Male.species) # Accessing species using instance of class"
      ],
      "metadata": {
        "colab": {
          "base_uri": "https://localhost:8080/"
        },
        "id": "wMJZEd_cCBPW",
        "outputId": "75b95fe8-e9b4-41b0-ac2c-a0529ee1e768"
      },
      "execution_count": 4,
      "outputs": [
        {
          "output_type": "stream",
          "name": "stdout",
          "text": [
            "you're name is Mano Vishnu\n",
            "Name varible is not available outside hello function scope\n",
            "HomeSapines\n",
            "HomeSapines\n"
          ]
        }
      ]
    }
  ]
}