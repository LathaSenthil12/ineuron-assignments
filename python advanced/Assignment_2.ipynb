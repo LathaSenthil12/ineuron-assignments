{
  "nbformat": 4,
  "nbformat_minor": 0,
  "metadata": {
    "colab": {
      "provenance": []
    },
    "kernelspec": {
      "name": "python3",
      "display_name": "Python 3"
    },
    "language_info": {
      "name": "python"
    }
  },
  "cells": [
    {
      "cell_type": "code",
      "execution_count": null,
      "metadata": {
        "id": "9DZ4YYa01A6i"
      },
      "outputs": [],
      "source": []
    },
    {
      "cell_type": "markdown",
      "source": [
        "Q1. What is the relationship between classes and modules?\n",
        "\n",
        "Ans:  Class is like a template or a blue print which will specify all the attributes as variables or properties and the behaviours as methods or functions which an object may possess. Once a class is created, any number of objects or instances can be created based on the requirement or specification.\n",
        "\n",
        "Modules on the other hand are used for making resuable piece of code which can be imported where ever required and use the required functions that have been created in the module. In python a module is created as a file with an extension of .py. Once created it can be imported using the import statement.\n",
        "\n",
        "<br/>\n",
        "\n",
        "Q2. How do you make instances and classes?\n",
        "\n",
        "Ans: We create a class using the class keyword followed by the name of the class. Then within the class definition we can specify all the variables and methods as per the specification.\n",
        "\n",
        "Once the class is created we can create instances or objects as below:\n",
        "\n",
        "object_name = ClassName()\n",
        "\n",
        "Example:\n"
      ],
      "metadata": {
        "id": "-eAF5r9A1EKh"
      }
    },
    {
      "cell_type": "code",
      "source": [
        "class Person:\n",
        "    def __init__(self,name,age):\n",
        "        self.name = name\n",
        "        self.age = age\n",
        "\n",
        "    def __repr__(self):\n",
        "        return f\"Name : {self.name}\\nAge :{self.age}\"\n",
        "\n",
        "#object creation\n",
        "\n",
        "p1=Person(\"Harinee\",12)\n",
        "print(p1)"
      ],
      "metadata": {
        "colab": {
          "base_uri": "https://localhost:8080/"
        },
        "id": "UJrvOoBt_W7z",
        "outputId": "e2435d0b-f707-4ada-801f-5985a763d73b"
      },
      "execution_count": 1,
      "outputs": [
        {
          "output_type": "stream",
          "name": "stdout",
          "text": [
            "Name : Harinee\n",
            "Age :12\n"
          ]
        }
      ]
    },
    {
      "cell_type": "markdown",
      "source": [
        "Q3. Where and how should be class attributes created?\n",
        "\n",
        "Ans: The class attributes can be created within the class definition. We can create them like any other variables and assign the specified value to them. For us to access or use the class attribute or the class variable an object reference is not mandatory. We can use the cls keyword if we are going to access the class attribute within the class definition. If we are going to access the class attribute outside the class then we can use the class name as reference to use them."
      ],
      "metadata": {
        "id": "gHyCiKjG_wqn"
      }
    },
    {
      "cell_type": "code",
      "source": [
        "class BankAccount:\n",
        "    num_account_holders=0\n",
        "    rate_of_interest=5\n",
        "\n",
        "print(BankAccount.rate_of_interest)\n"
      ],
      "metadata": {
        "colab": {
          "base_uri": "https://localhost:8080/"
        },
        "id": "nf470WDiAb0r",
        "outputId": "b15da872-967e-47c1-d44d-d6737ab92273"
      },
      "execution_count": 3,
      "outputs": [
        {
          "output_type": "stream",
          "name": "stdout",
          "text": [
            "5\n"
          ]
        }
      ]
    },
    {
      "cell_type": "markdown",
      "source": [
        "Q4. Where and how are instance attributes created?\n",
        "\n",
        "Ans: The instance variables are created and initialized within the constructor which is used to create an object or instance. The constructor is a method which has same name as that of the class and the initialization of the instance variables happen inside the __init__() function which is invoked when the object/instance of the class is created."
      ],
      "metadata": {
        "id": "SOhT5Pb9u0hi"
      }
    },
    {
      "cell_type": "code",
      "source": [
        "class BankAccount:\n",
        "    def __init__(self, name, ac_no, balance):\n",
        "        self.name=name\n",
        "        self.ac_no =ac_no\n",
        "        self.balance = balance\n",
        "\n",
        "ac1=BankAccount(\"Latha\", 1245, 1000000)\n",
        "print(ac1.name, ac1.ac_no, ac1.balance)"
      ],
      "metadata": {
        "colab": {
          "base_uri": "https://localhost:8080/"
        },
        "id": "fsSao9K7vezS",
        "outputId": "ae530a40-8ea9-4b5a-fb91-c0dd4c17074b"
      },
      "execution_count": 1,
      "outputs": [
        {
          "output_type": "stream",
          "name": "stdout",
          "text": [
            "Latha 1245 1000000\n"
          ]
        }
      ]
    },
    {
      "cell_type": "markdown",
      "source": [
        "Q5. What does the term \"self\" in a Python class mean?\n",
        "\n",
        "Ans: The self keyword refers to the object reference. When a class is created and we create instance variables or instance methods which can be accessed using the object refernce for which the self keyword is used."
      ],
      "metadata": {
        "id": "FL4MRb7lv6Gr"
      }
    },
    {
      "cell_type": "markdown",
      "source": [
        "Q6. How does a Python class handle operator overloading?\n",
        "\n",
        "Ans: Operator Overloading means giving extended meaning beyond their predefined operational meaning. For example operator + is used to add two integers as well as join two strings and merge two lists. It is achievable because ‘+’ operator is overloaded by int class and str class. You might have noticed that the same built-in operator or function shows different behavior for objects of different classes, this is called Operator Overloading.\n",
        "\n",
        "When we use an operator on user defined data types then automatically a special function or magic function associated with that operator is invoked. Changing the behavior of operator is as simple as changing the behavior of method or function. You define methods in your class and operators work according to that behavior defined in methods. When we use + operator, the magic method __add__ is automatically invoked in which the operation for + operator is defined. There by changing this magic method’s code, we can give extra meaning to the + operator."
      ],
      "metadata": {
        "id": "lFEH7_PnwV96"
      }
    },
    {
      "cell_type": "code",
      "source": [
        "class MyList:\n",
        "    def __init__(self,mylist):\n",
        "        self.mylist=mylist\n",
        "\n",
        "    def __add__(self,other_list):\n",
        "        if len(self.mylist)!= len(other_list.mylist):\n",
        "            print(\"Cannot add lists of different lengths!!!\")\n",
        "        else:\n",
        "            new_list= [self.mylist[i]+other_list.mylist[i] for i in range(len(self.mylist))]\n",
        "            return MyList(new_list)\n",
        "\n",
        "    def __repr__(self):\n",
        "        return str(self.mylist)\n",
        "\n",
        "list1=MyList([1,2,3,4,5])\n",
        "list2=MyList([2,3,4,5,6])\n",
        "list3=list1+list2\n",
        "\n",
        "print(\"List 1 : \",list1)\n",
        "print(\"List 2 : \",list2)\n",
        "print(\"Sum of List1 and List2 : \",list3)"
      ],
      "metadata": {
        "colab": {
          "base_uri": "https://localhost:8080/"
        },
        "id": "NbjVWsVgxH0S",
        "outputId": "f273efcc-55d4-4fda-9f56-c8291193df26"
      },
      "execution_count": 2,
      "outputs": [
        {
          "output_type": "stream",
          "name": "stdout",
          "text": [
            "List 1 :  [1, 2, 3, 4, 5]\n",
            "List 2 :  [2, 3, 4, 5, 6]\n",
            "Sum of List1 and List2 :  [3, 5, 7, 9, 11]\n"
          ]
        }
      ]
    },
    {
      "cell_type": "markdown",
      "source": [
        "Q7. When do you consider allowing operator overloading of your classes?\n",
        "\n",
        "Ans: We would allow operator overloading when there is a necessity to perform the operations that can be done on regular built in datatypes, on user defined datatypes like classes."
      ],
      "metadata": {
        "id": "Iimofdh42c9t"
      }
    },
    {
      "cell_type": "markdown",
      "source": [
        "Q8. What is the most popular form of operator overloading?\n",
        "\n",
        "The most popular form of operator overloading in python is by special methods called Magic methods. Which usually beign and end with double underscore __<method name>__."
      ],
      "metadata": {
        "id": "hed0OuN33C91"
      }
    },
    {
      "cell_type": "code",
      "source": [
        "class A:\n",
        "    def __init__(self,a):\n",
        "        self.a = a\n",
        "    def __add__(self,o):\n",
        "        return self.a+o.a\n",
        "obj1 = A(1)\n",
        "obj2 = A(2)\n",
        "obj3 = A('Latha')\n",
        "obj4 = A(' Senthil')\n",
        "print(f'Sum -> {obj1+obj2}')\n",
        "print(f'String Concatenation -> {obj3+obj4}')"
      ],
      "metadata": {
        "colab": {
          "base_uri": "https://localhost:8080/"
        },
        "id": "0JkGV0XH3eVF",
        "outputId": "49fce181-2e84-4df8-d7fa-e3279d4e2d53"
      },
      "execution_count": 3,
      "outputs": [
        {
          "output_type": "stream",
          "name": "stdout",
          "text": [
            "Sum -> 3\n",
            "String Concatenation -> Latha Senthil\n"
          ]
        }
      ]
    },
    {
      "cell_type": "markdown",
      "source": [
        "Q9. What are the two most important concepts to grasp in order to comprehend Python OOP code?\n",
        "\n",
        "Ans: Classes and objects are the two concepts to comprehend python OOP code as more formally objects are entities that represent instances of general abstract concept called class\n",
        "\n",
        "Along with classes and objects the important concepts to grasp are:\n",
        "\n",
        "\n",
        "*  Inheritence\n",
        "*   Abstraction\n",
        "*   Polymorphism\n",
        "*   Encapsulation\n",
        "\n"
      ],
      "metadata": {
        "id": "BNkfUhWr3q72"
      }
    }
  ]
}