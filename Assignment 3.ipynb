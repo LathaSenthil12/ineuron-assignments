{
 "cells": [
  {
   "cell_type": "markdown",
   "id": "0c6bee83",
   "metadata": {},
   "source": [
    "Q1 Why are functions advantageous to have in your programs?\n",
    "\n",
    "Functions provide us with modular approach in doing our code. We can clearly write specific blocks of code for a particular functionality and use it when necessary. Using functions make our code more structured and easy for debugging."
   ]
  },
  {
   "cell_type": "markdown",
   "id": "e6c1ee79",
   "metadata": {},
   "source": [
    "Q2. When does the code in a function run: when it&#39;s specified or when it&#39;s called?\n",
    "\n",
    "A function runs only when it is called. When it is defined we only write the instruction that are to be executed when the function is called."
   ]
  },
  {
   "cell_type": "markdown",
   "id": "de0a22b7",
   "metadata": {},
   "source": [
    "Q3.What statement creates a function?\n",
    "\n",
    "The def keyword is used to create or define a function.\n",
    "Ex:\n",
    "def fuct():\n",
    "   //some statements"
   ]
  },
  {
   "cell_type": "markdown",
   "id": "06379be1",
   "metadata": {},
   "source": [
    "Q4. What is the difference between a function and a function call?\n",
    "\n",
    "A function is a set of instructions or a block of code that is written to perform a particular task. A function call is what invokes the code to execute.Example below:"
   ]
  },
  {
   "cell_type": "code",
   "execution_count": 1,
   "id": "43a245c4",
   "metadata": {},
   "outputs": [
    {
     "data": {
      "text/plain": [
       "30"
      ]
     },
     "execution_count": 1,
     "metadata": {},
     "output_type": "execute_result"
    }
   ],
   "source": [
    "#function definition and function call\n",
    "\n",
    "#defining a function\n",
    "def add(n1,n2):\n",
    "    return n1+n2\n",
    "\n",
    "#function call\n",
    "add(10,20)"
   ]
  },
  {
   "cell_type": "markdown",
   "id": "390975b2",
   "metadata": {},
   "source": [
    "Q5. How many global scopes are there in a Python program? How many local scopes?\n",
    "\n",
    "There is one global scope, and a local scope is created whenever a function is called."
   ]
  },
  {
   "cell_type": "markdown",
   "id": "dc886709",
   "metadata": {},
   "source": [
    "Q6. What happens to variables in a local scope when the function call returns?\n",
    "\n",
    "When a function returns, the local scope is destroyed, and all the variables in it are lost."
   ]
  },
  {
   "cell_type": "markdown",
   "id": "eb7dadad",
   "metadata": {},
   "source": [
    "Q7. What is the concept of a return value? Is it possible to have a return value in an expression?\n",
    "\n",
    "A return value is the value that a function call evaluates to. Like any value, a return value can be used as part of an expression."
   ]
  },
  {
   "cell_type": "markdown",
   "id": "89795deb",
   "metadata": {},
   "source": [
    "Q8. If a function does not have a return statement, what is the return value of a call to that function?\n",
    "\n",
    "None"
   ]
  },
  {
   "cell_type": "code",
   "execution_count": 1,
   "id": "193305cf",
   "metadata": {},
   "outputs": [
    {
     "name": "stdout",
     "output_type": "stream",
     "text": [
      "This is a function with no return\n",
      "None\n"
     ]
    }
   ],
   "source": [
    "def sample():\n",
    "    print(\"This is a function with no return\")\n",
    "    \n",
    "print(sample())"
   ]
  },
  {
   "cell_type": "markdown",
   "id": "f651d169",
   "metadata": {},
   "source": [
    "Q9. How do you make a function variable refer to the global variable?\n",
    "\n",
    "A local variable declares within a function can refer to the global variable by using the global keyword."
   ]
  },
  {
   "cell_type": "code",
   "execution_count": 2,
   "id": "fa26624b",
   "metadata": {},
   "outputs": [
    {
     "name": "stdout",
     "output_type": "stream",
     "text": [
      "(20, 40)\n"
     ]
    }
   ],
   "source": [
    "a,b=10,20\n",
    "\n",
    "def globalscope():\n",
    "    global a,b\n",
    "    a+=10\n",
    "    b+=20\n",
    "    return a,b\n",
    "\n",
    "print(globalscope())\n",
    "    "
   ]
  },
  {
   "cell_type": "markdown",
   "id": "5b907b2c",
   "metadata": {},
   "source": [
    "Q10. What is the data type of None?\n",
    "\n",
    "NoneType"
   ]
  },
  {
   "cell_type": "code",
   "execution_count": 3,
   "id": "d1605f3e",
   "metadata": {},
   "outputs": [
    {
     "data": {
      "text/plain": [
       "NoneType"
      ]
     },
     "execution_count": 3,
     "metadata": {},
     "output_type": "execute_result"
    }
   ],
   "source": [
    "type(None)"
   ]
  },
  {
   "cell_type": "markdown",
   "id": "a3cec20a",
   "metadata": {},
   "source": [
    "Q11. What does the sentence import areallyourpetsnamederic do?\n",
    "\n",
    "It will import the module areallyourpetsnamederic."
   ]
  },
  {
   "cell_type": "markdown",
   "id": "2c531896",
   "metadata": {},
   "source": [
    "Q12. If you had a bacon() feature in a spam module, what would you call it after importing spam?\n",
    "\n",
    "Ans. spam.bacon()"
   ]
  },
  {
   "cell_type": "markdown",
   "id": "cbecbf9b",
   "metadata": {},
   "source": [
    "Q13. What can you do to save a programme from crashing if it encounters an error?\n",
    "\n",
    "Place the line of code that might cause an error in a try block and use except block to handle the error."
   ]
  },
  {
   "cell_type": "markdown",
   "id": "f87782a1",
   "metadata": {},
   "source": [
    "Q14. What is the purpose of the try clause? What is the purpose of the except clause?\n",
    "\n",
    "The code that could potentially cause an error goes in the try block. The code that executes if an error happens goes in the except block."
   ]
  }
 ],
 "metadata": {
  "kernelspec": {
   "display_name": "Python 3 (ipykernel)",
   "language": "python",
   "name": "python3"
  },
  "language_info": {
   "codemirror_mode": {
    "name": "ipython",
    "version": 3
   },
   "file_extension": ".py",
   "mimetype": "text/x-python",
   "name": "python",
   "nbconvert_exporter": "python",
   "pygments_lexer": "ipython3",
   "version": "3.9.12"
  }
 },
 "nbformat": 4,
 "nbformat_minor": 5
}
