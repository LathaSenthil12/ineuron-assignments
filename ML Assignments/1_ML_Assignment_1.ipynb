{
  "nbformat": 4,
  "nbformat_minor": 0,
  "metadata": {
    "colab": {
      "provenance": []
    },
    "kernelspec": {
      "name": "python3",
      "display_name": "Python 3"
    },
    "language_info": {
      "name": "python"
    }
  },
  "cells": [
    {
      "cell_type": "markdown",
      "source": [
        "1. What does one mean by the term \"machine learning\"?\n",
        "\n",
        "Ans. Machine Learning is subset of the field of Artificial Intelligence or AI as it is commonly known. In machine learning we use various algorithms for solve various problem statements like classifications and predictions.\n",
        "\n",
        "It has various types like Supervised Machine Learning , Unsupervised Machine Learning and Reinforcement Learning. It is used to work with large chunks of data and analyse the data and get meaningful insights from them."
      ],
      "metadata": {
        "id": "u2qNvHVLp7An"
      }
    },
    {
      "cell_type": "markdown",
      "source": [
        "2.Can you think of 4 distinct types of issues where it shines?\n",
        "\n",
        "Ans: Ans: The following are some of the issues where Machine Learning can be used:\n",
        "\n",
        "__Image Recognition__: Image recognition is one of the most common applications of machine learning. It is used to identify objects, persons, places, digital images, etc. The popular use case of image recognition and face detection is Automatic friend tagging suggestion.\n",
        "\n",
        "__Speech Recognition__: While using Google, we get an option of Search by voice, it comes under speech recognition, and it's a popular application of Machine Learning. Speech recognition is a process of converting voice instructions into text, and it is also known as Speech to text, or Computer based speech recognition At present, machine learning algorithms are widely used by various applications of speech recognition. Google assistant, Siri, Cortana, and Alexa are using speech recognition technology to follow the voice instructions.\n",
        "\n",
        "__Traffic prediction__: It predicts the traffic conditions such as whether traffic is cleared, slow-moving, or heavily congested with the help of two ways: Real Time location of the vehicle form Google Map app and sensors Average time has taken on past days at the same time.\n",
        "\n",
        "__Product recommendations__: Machine learning is widely used by various e-commerce and entertainment companies such as Amazon, Netflix, etc., for product recommendation to the user"
      ],
      "metadata": {
        "id": "_zBFD9Ff0nMc"
      }
    },
    {
      "cell_type": "markdown",
      "source": [
        "3.What is a labeled training set, and how does it work?\n",
        "\n",
        "Ans:Labeled training set is a dataset where the feature variables/ independent variables and the target variable/ dependent variable is cleary split up. The training data is used to train the model where in it can learn from the data provided and then we test the algorithm or do the prediction  using the test data."
      ],
      "metadata": {
        "id": "rSYOCI3J1ACA"
      }
    },
    {
      "cell_type": "markdown",
      "source": [
        "4.What are the two most important tasks that are supervised?\n",
        "\n",
        "Ans: The two most common supervised learning tasks are Regression and Classification.\n"
      ],
      "metadata": {
        "id": "lU1Jnv0i1sgn"
      }
    },
    {
      "cell_type": "markdown",
      "source": [
        "5.Can you think of four examples of unsupervised tasks?\n",
        "\n",
        "Ans: Four common Unsupervised Tasks included Clustering, Visualization, Dimensionality Reduction, and Association Rule Learning."
      ],
      "metadata": {
        "id": "YAmjB6UP400G"
      }
    },
    {
      "cell_type": "markdown",
      "source": [
        "6.State the machine learning model that would be best to make a robot walk through various unfamiliar terrains?\n",
        "\n",
        "Ans: The best Machine Learning algorithm to allow a Robot to walk in unfamiliar terrains is Reinforced Learning, where the robot can learn from response of the terrain to optimize itself."
      ],
      "metadata": {
        "id": "B91QJTzQ460X"
      }
    },
    {
      "cell_type": "markdown",
      "source": [
        "7.Which algorithm will you use to divide your customers into different groups?\n",
        "\n",
        "Ans. Clustering algorithms can be used to divide the customers into different groups."
      ],
      "metadata": {
        "id": "YoSdxAaW5CoO"
      }
    },
    {
      "cell_type": "markdown",
      "source": [
        "8.Will you consider the problem of spam detection to be a supervised or unsupervised learning problem?\n",
        "\n",
        "Ans: Spam detection is a Supervised Machine Learning problem because the labels are known (spam or no spam)."
      ],
      "metadata": {
        "id": "n9_R4SkM5Nhp"
      }
    },
    {
      "cell_type": "markdown",
      "source": [
        "9.What is the concept of an online learning system?\n",
        "\n",
        "Ans: Online learning system is a learning system in which the machine learns continously, as data is given in small streams continuously."
      ],
      "metadata": {
        "id": "LEYk2xiT5ahX"
      }
    },
    {
      "cell_type": "markdown",
      "source": [
        "10.What is out-of-core learning, and how does it differ from core learning?\n",
        "\n",
        "Ans: Out-of-core learning system is a system that can handle data that cannot fit into your computer memory. It uses online learning system to feed data in small bits"
      ],
      "metadata": {
        "id": "qsERPEMo5hPr"
      }
    },
    {
      "cell_type": "markdown",
      "source": [
        "11.What kind of learning algorithm makes predictions using a similarity measure?\n",
        "\n",
        "Ans : Instance-based learning algorithms use a measure of similarity to generalize to new cases. In an instance-based learning system, the algorithm learns the examples by heart, then uses the similarity measure to generalize."
      ],
      "metadata": {
        "id": "6QIIBzcF5sbl"
      }
    },
    {
      "cell_type": "markdown",
      "source": [
        "12.What's the difference between a model parameter and a hyperparameter in a learning algorithm?\n",
        "\n",
        "Ans: Model parameter determines how a model will predict given a new instance. Model usually has more than one parameter (i.e. slope of a linear model). Hyperparameter is a parameter for the learning algorithm, not of a model."
      ],
      "metadata": {
        "id": "Oz71n5bo6K0n"
      }
    },
    {
      "cell_type": "markdown",
      "source": [
        "13.What are the criteria that model-based learning algorithms look for? What is the most popular method they use to achieve success? What method do they use to make predictions?\n",
        "\n",
        "Ans: Model based learning algorithm search for the optimal value of parameters in a model that will give the best results for the new instances. We often use a cost function or similar to determine what the parameter value has to be in order to minimize the function. The model makes prediction by using the value of the new instance and the parameters in its function."
      ],
      "metadata": {
        "id": "2qRgb8RC6f5P"
      }
    },
    {
      "cell_type": "markdown",
      "source": [
        "14.Can you name four of the most important Machine Learning challenges?\n",
        "\n",
        "Ans: Four main challenges in Machine Learning include the following:\n",
        "\n",
        "\n",
        "1.   Overfitting the Data (using a model too complicated)\n",
        "2.   Underfitting the data (using a simple model)\n",
        "3.   Lacking in Data\n",
        "4.   Non Representative Data.\n"
      ],
      "metadata": {
        "id": "4bPiqTFM6pOG"
      }
    },
    {
      "cell_type": "markdown",
      "source": [
        "15.What happens if the model performs well on the training data but fails to generalize the results to new situations? Can you think of three different options?\n",
        "\n",
        "Ans: If the model performs poorly to new instances, then it has overfitted on the training data. To solve this, we can do any of the following three:\n",
        "\n",
        "*   Implement a simpler model\n",
        "*   Eliminate outliers or noise from the existing data set.\n",
        "*   Get more data\n",
        "\n"
      ],
      "metadata": {
        "id": "o9Xss9HF6_55"
      }
    },
    {
      "cell_type": "markdown",
      "source": [
        "16.What exactly is a test set, and why would you need one?\n",
        "\n",
        "Ans: Test set is a set to test your model (fit using training data) to see how it performs.Test set is necessary to determine how good (or bad) a model performs."
      ],
      "metadata": {
        "id": "RBBpsrqg7XdO"
      }
    },
    {
      "cell_type": "markdown",
      "source": [
        "17.What is a validation set's purpose?\n",
        "\n",
        "Ans: Validation set is a set used to compare between different training models."
      ],
      "metadata": {
        "id": "xfp0WJln7tSu"
      }
    },
    {
      "cell_type": "markdown",
      "source": [
        "18.What precisely is the train-dev kit, when will you need it, how do you put it to use?\n",
        "\n",
        "Ans: Setting up the training, development (dev) and test sets has a huge impact on productivity. It is important to choose the dev and test sets from the same distribution and it must be taken randomly from all the data.\n",
        "\n",
        "If the training set and dev sets have different distributions, it is good practice to introduce a train-dev set that has the same distribution as the training set. This train-dev set will be used to measure how much the model is overfitting. \n",
        "\n"
      ],
      "metadata": {
        "id": "13Z9JA0671Pm"
      }
    },
    {
      "cell_type": "markdown",
      "source": [
        "19.What could go wrong if you use the test set to tune hyperparameters?\n",
        "\n",
        "Ans: If you tune hyperparameters using the test sets, then it may not perform well on the out-of-sample data because the model is tuned just for that specific set."
      ],
      "metadata": {
        "id": "POdD0eQO_fhN"
      }
    }
  ]
}