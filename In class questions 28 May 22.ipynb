{
 "cells": [
  {
   "cell_type": "code",
   "execution_count": 1,
   "id": "60dc26c5",
   "metadata": {},
   "outputs": [
    {
     "name": "stdout",
     "output_type": "stream",
     "text": [
      "ineuron    \n",
      "ineuron   ineuron    \n",
      "ineuron   ineuron   ineuron    \n",
      "ineuron   ineuron   ineuron   ineuron    \n"
     ]
    }
   ],
   "source": [
    "#Q1.\n",
    "s=\"ineuron   \"\n",
    "for i in range(1,5):\n",
    "    print(s*i, end=\" \")\n",
    "    print()"
   ]
  },
  {
   "cell_type": "code",
   "execution_count": 2,
   "id": "27b25710",
   "metadata": {},
   "outputs": [
    {
     "name": "stdout",
     "output_type": "stream",
     "text": [
      "                ineuron                 \n",
      "        ineuron         ineuron         \n",
      "ineuron         ineuron         ineuron \n",
      "        ineuron         ineuron         \n",
      "                ineuron                 \n"
     ]
    }
   ],
   "source": [
    "#Q2\n",
    "#Q2\n",
    "rows, cols = (5, 5)\n",
    "lst=[]\n",
    "for i in range(rows):\n",
    "    col = []\n",
    "    for j in range(cols):\n",
    "        if (i+j)%2==0 and (i+j)!=0 and (i+j)!=8:\n",
    "            col.append(\"ineuron\")\n",
    "        \n",
    "        else:\n",
    "            col.append(\"       \")\n",
    "    lst.append(col)\n",
    "lst[0][4]=\"       \"\n",
    "lst[4][0]=\"       \"\n",
    "for i in range(5):\n",
    "    for j in range(5):\n",
    "        print(lst[i][j],end=\" \")\n",
    "    print()"
   ]
  },
  {
   "cell_type": "code",
   "execution_count": 3,
   "id": "aebee3de",
   "metadata": {},
   "outputs": [
    {
     "data": {
      "text/plain": [
       "[[1, 2, 3, 4],\n",
       " (2, 3, 4, 5, 6),\n",
       " (3, 4, 5, 6, 7),\n",
       " {4, 5, 23, 45},\n",
       " {'k1': 'sudh', 'k2': 'ineuron', 'k3': 'kumar', 3: 6, 7: 8},\n",
       " ['ineuron', 'data science']]"
      ]
     },
     "execution_count": 3,
     "metadata": {},
     "output_type": "execute_result"
    }
   ],
   "source": [
    "l=[[1,2,3,4],(2,3,4,5,6),(3,4,5,6,7),set([23,4,5,45,4,4,5,45,45,4,5]), {\"k1\":\"sudh\",\"k2\":\"ineuron\",\"k3\":\"kumar\",3:6,7:8},[\"ineuron\",\"data science\"]]\n",
    "l"
   ]
  },
  {
   "cell_type": "code",
   "execution_count": 11,
   "id": "ef624ad9",
   "metadata": {},
   "outputs": [
    {
     "name": "stdout",
     "output_type": "stream",
     "text": [
      "45\n",
      "4\n",
      "5\n",
      "23\n"
     ]
    }
   ],
   "source": [
    "for i in set([23,4,5,45,4,4,5,45,45,4,5]):\n",
    "    print(i)"
   ]
  },
  {
   "cell_type": "code",
   "execution_count": 4,
   "id": "bde121ed",
   "metadata": {},
   "outputs": [
    {
     "data": {
      "text/plain": [
       "[[1, 2, 3, 4], ['ineuron', 'data science']]"
      ]
     },
     "execution_count": 4,
     "metadata": {},
     "output_type": "execute_result"
    }
   ],
   "source": [
    "#Q3 Try to extract all the list entity\n",
    "lists=[]\n",
    "for i in l:\n",
    "    if type(i)==list:\n",
    "        lists.append(i)\n",
    "lists"
   ]
  },
  {
   "cell_type": "code",
   "execution_count": 6,
   "id": "ac0bb705",
   "metadata": {},
   "outputs": [
    {
     "data": {
      "text/plain": [
       "[{'k1': 'sudh', 'k2': 'ineuron', 'k3': 'kumar', 3: 6, 7: 8}]"
      ]
     },
     "execution_count": 6,
     "metadata": {},
     "output_type": "execute_result"
    }
   ],
   "source": [
    "#Q4 Try to extract all the dict entities\n",
    "ds=[]\n",
    "for i in l:\n",
    "    if type(i)==dict:\n",
    "        ds.append(i)\n",
    "ds"
   ]
  },
  {
   "cell_type": "code",
   "execution_count": 7,
   "id": "eb72f17c",
   "metadata": {},
   "outputs": [
    {
     "data": {
      "text/plain": [
       "[(2, 3, 4, 5, 6), (3, 4, 5, 6, 7)]"
      ]
     },
     "execution_count": 7,
     "metadata": {},
     "output_type": "execute_result"
    }
   ],
   "source": [
    "#Q5 Try to extract all the tuples\n",
    "tuples=[]\n",
    "for i in l:\n",
    "    if type(i)==tuple:\n",
    "        tuples.append(i)\n",
    "tuples"
   ]
  },
  {
   "cell_type": "code",
   "execution_count": 8,
   "id": "a8a1b685",
   "metadata": {},
   "outputs": [
    {
     "name": "stdout",
     "output_type": "stream",
     "text": [
      "3 6\n",
      "7 8\n"
     ]
    }
   ],
   "source": [
    "#Q6 Try to extract all the numerical data it may be part of dict key and values\n",
    "nums=[]\n",
    "for key,value in l[4].items():\n",
    "    if type(key)== int or type(value)==int:\n",
    "        print(key,value)"
   ]
  },
  {
   "cell_type": "code",
   "execution_count": 13,
   "id": "b845f90d",
   "metadata": {},
   "outputs": [
    {
     "data": {
      "text/plain": [
       "156"
      ]
     },
     "execution_count": 13,
     "metadata": {},
     "output_type": "execute_result"
    }
   ],
   "source": [
    "#Q7 try to give the summation of all the numeric data\n",
    "sum=0\n",
    "for item in l:\n",
    "    if type(item)==list or type(item)==tuple or type(item)==set:\n",
    "        for i in item:\n",
    "            if type(i)==int:\n",
    "                sum+=i\n",
    "    if type(item)==dict:\n",
    "        for key,value in item.items():\n",
    "            if type(key)==int or type(value)==int:\n",
    "                sum+=key\n",
    "                sum+=value\n",
    "                \n",
    "sum"
   ]
  },
  {
   "cell_type": "code",
   "execution_count": 15,
   "id": "a7fc9b5b",
   "metadata": {},
   "outputs": [
    {
     "name": "stdout",
     "output_type": "stream",
     "text": [
      "1\n",
      "3\n"
     ]
    }
   ],
   "source": [
    "#Q8 Try to filter out all the odd values out of all the numeric data which is part of a list\n",
    "nums=[]\n",
    "for i in l:\n",
    "    if type(i)==list:\n",
    "        for j in i:\n",
    "            if type(j)==int:\n",
    "                nums.append(j)\n",
    "for num in nums:\n",
    "    if num%2!=0:\n",
    "        print(num)"
   ]
  },
  {
   "cell_type": "code",
   "execution_count": 20,
   "id": "db7ee1ae",
   "metadata": {},
   "outputs": [
    {
     "name": "stdout",
     "output_type": "stream",
     "text": [
      "ineuron\n",
      "ineuron\n"
     ]
    }
   ],
   "source": [
    "#Q9Try to extract ineuron out of this data\n",
    "for item in l:\n",
    "    if type(item)==list or type(item)==tuple or type(item)==set:\n",
    "        for i in item:\n",
    "            if i==\"ineuron\":\n",
    "                print(i)\n",
    "    if type(item)==dict:\n",
    "        for value in item.values():\n",
    "            if value==\"ineuron\":\n",
    "                print(value)"
   ]
  },
  {
   "cell_type": "code",
   "execution_count": 30,
   "id": "d8d64f17",
   "metadata": {},
   "outputs": [
    {
     "name": "stdout",
     "output_type": "stream",
     "text": [
      "1   :   1\n",
      "2   :   2\n",
      "3   :   4\n",
      "4   :   4\n",
      "5   :   3\n",
      "6   :   3\n",
      "7   :   2\n",
      "8   :   1\n",
      "kumar   :   1\n",
      "k1   :   1\n",
      "45   :   1\n",
      "k2   :   1\n",
      "data science   :   1\n",
      "k3   :   1\n",
      "23   :   1\n",
      "sudh   :   1\n",
      "ineuron   :   2\n"
     ]
    }
   ],
   "source": [
    "#q10 Try to get the number of occurences of all the data\n",
    "all=[]\n",
    "for item in l:\n",
    "    if type(item)==list or type(item)==tuple:\n",
    "        for i in item:\n",
    "            all.append(i)\n",
    "    if type(item)==set:\n",
    "        s=list(item)\n",
    "        for i in s:\n",
    "            all.append(i)\n",
    "    if type(item)==dict:\n",
    "        for key,value in item.items():\n",
    "            all.append(key)\n",
    "            all.append(value)\n",
    "all\n",
    "for i in set(all):\n",
    "    print(i, \"  :  \",all.count(i))"
   ]
  },
  {
   "cell_type": "code",
   "execution_count": 33,
   "id": "6e8116ee",
   "metadata": {},
   "outputs": [
    {
     "name": "stdout",
     "output_type": "stream",
     "text": [
      "NUmber of keys in the dict :  5\n"
     ]
    }
   ],
   "source": [
    "#Q11Try to find out the number of keys in the dict element\n",
    "key_count=0\n",
    "for key in l[4]:\n",
    "    key_count+=1\n",
    "print(\"NUmber of keys in the dict : \",key_count)"
   ]
  },
  {
   "cell_type": "code",
   "execution_count": 35,
   "id": "68629103",
   "metadata": {},
   "outputs": [
    {
     "name": "stdout",
     "output_type": "stream",
     "text": [
      "k1\n",
      "sudh\n",
      "k2\n",
      "ineuron\n",
      "k3\n",
      "kumar\n",
      "ineuron\n",
      "data science\n"
     ]
    }
   ],
   "source": [
    "#Q12 Filter out all the string data\n",
    "#print(all)\n",
    "for item in all:\n",
    "    if type(item)==str:\n",
    "        print(item)"
   ]
  },
  {
   "cell_type": "code",
   "execution_count": 36,
   "id": "c3328f19",
   "metadata": {},
   "outputs": [
    {
     "name": "stdout",
     "output_type": "stream",
     "text": [
      "k1\n",
      "k2\n",
      "k3\n"
     ]
    }
   ],
   "source": [
    "#Q13 Try to filter out all the alphanum in data\n",
    "\n",
    "for keys in l[4]:\n",
    "    if type(keys)==str:\n",
    "        print(keys)"
   ]
  },
  {
   "cell_type": "code",
   "execution_count": 37,
   "id": "dc7a349e",
   "metadata": {},
   "outputs": [
    {
     "data": {
      "text/plain": [
       "908605071360000"
      ]
     },
     "execution_count": 37,
     "metadata": {},
     "output_type": "execute_result"
    }
   ],
   "source": [
    "#Q14 Ttry to find out multiplication of all numeric values in the individual collection inside the data set\n",
    "mult=1\n",
    "for item in l:\n",
    "    if type(item)==list or type(item)==tuple or type(item)==set:\n",
    "        for i in item:\n",
    "            if type(i)==int:\n",
    "                mult*=i\n",
    "    if type(item)==dict:\n",
    "        for key,value in item.items():\n",
    "            if type(key)==int or type(value)==int:\n",
    "                mult*=key\n",
    "                mult*=value\n",
    "                \n",
    "mult"
   ]
  },
  {
   "cell_type": "code",
   "execution_count": 38,
   "id": "30b45577",
   "metadata": {},
   "outputs": [
    {
     "data": {
      "text/plain": [
       "[1,\n",
       " 2,\n",
       " 3,\n",
       " 4,\n",
       " 2,\n",
       " 3,\n",
       " 4,\n",
       " 5,\n",
       " 6,\n",
       " 3,\n",
       " 4,\n",
       " 5,\n",
       " 6,\n",
       " 7,\n",
       " 45,\n",
       " 4,\n",
       " 5,\n",
       " 23,\n",
       " 'k1',\n",
       " 'sudh',\n",
       " 'k2',\n",
       " 'ineuron',\n",
       " 'k3',\n",
       " 'kumar',\n",
       " 3,\n",
       " 6,\n",
       " 7,\n",
       " 8,\n",
       " 'ineuron',\n",
       " 'data science']"
      ]
     },
     "execution_count": 38,
     "metadata": {},
     "output_type": "execute_result"
    }
   ],
   "source": [
    "#Q15 Try to unwrap all the collection inside collection and create a flat list\n",
    "all=[]\n",
    "for item in l:\n",
    "    if type(item)==list or type(item)==tuple:\n",
    "        for i in item:\n",
    "            all.append(i)\n",
    "    if type(item)==set:\n",
    "        s=list(item)\n",
    "        for i in s:\n",
    "            all.append(i)\n",
    "    if type(item)==dict:\n",
    "        for key,value in item.items():\n",
    "            all.append(key)\n",
    "            all.append(value)\n",
    "all"
   ]
  }
 ],
 "metadata": {
  "kernelspec": {
   "display_name": "Python 3 (ipykernel)",
   "language": "python",
   "name": "python3"
  },
  "language_info": {
   "codemirror_mode": {
    "name": "ipython",
    "version": 3
   },
   "file_extension": ".py",
   "mimetype": "text/x-python",
   "name": "python",
   "nbconvert_exporter": "python",
   "pygments_lexer": "ipython3",
   "version": "3.9.12"
  }
 },
 "nbformat": 4,
 "nbformat_minor": 5
}
