{
 "cells": [
  {
   "cell_type": "markdown",
   "id": "9444c3b8",
   "metadata": {},
   "source": [
    "Q1. 'hello', -87.8, 6 are values\n",
    "     *, +, -, / are expressions or mathematical operators"
   ]
  },
  {
   "cell_type": "markdown",
   "id": "abc16493",
   "metadata": {},
   "source": [
    "Q2. String is a data type which  can be used to store data which can contain alphabets. numbers and special characters. Ex: to store address, name or email id.\n",
    "\n",
    "Variable is like a container in which we can store value(s). What type of value can be stored is determined by the datatype."
   ]
  },
  {
   "cell_type": "markdown",
   "id": "cd1dfbdf",
   "metadata": {},
   "source": [
    "Q3. The three basic data types are :\n",
    "1. Numeric datatype : int and float to store numeric information\n",
    "2. String : which can be used to store letters, numbers and special characters\n",
    "3. Boolean : which we can use to store True or False"
   ]
  },
  {
   "cell_type": "code",
   "execution_count": null,
   "id": "4e632dea",
   "metadata": {},
   "outputs": [],
   "source": [
    "Q4. Expressions are used to evaulate and get some value. They may contain variables, constants and operators. Ex a + b = 6"
   ]
  },
  {
   "cell_type": "code",
   "execution_count": null,
   "id": "78412e5f",
   "metadata": {},
   "outputs": [],
   "source": [
    "Q5. An expression is always used to evaluate and get some output value. Ex : Finding the area of a circle \n",
    "\n",
    "3.14 * r*r\n",
    "\n",
    "A statement is more like an instruction which can be used to create a variable, object, display the value etc."
   ]
  },
  {
   "cell_type": "code",
   "execution_count": 2,
   "id": "4eeb476b",
   "metadata": {},
   "outputs": [
    {
     "data": {
      "text/plain": [
       "23"
      ]
     },
     "execution_count": 2,
     "metadata": {},
     "output_type": "execute_result"
    }
   ],
   "source": [
    "#Q6\n",
    "bacon =22\n",
    "bacon+1"
   ]
  },
  {
   "cell_type": "code",
   "execution_count": null,
   "id": "52b383ea",
   "metadata": {},
   "outputs": [],
   "source": [
    "#Q7\n",
    "print('spam'+'spamspam')\n",
    "print('spam'*3)"
   ]
  },
  {
   "cell_type": "markdown",
   "id": "8beeb821",
   "metadata": {},
   "source": [
    "Q8. eggs is a valid variable name where as 100 is not a valid variable name because, as per the rules and naming conventions for variables, a variable name cannot start with a number. it can have a number later, not it should always begin with an alphabet or an underscore."
   ]
  },
  {
   "cell_type": "markdown",
   "id": "0e2415d4",
   "metadata": {},
   "source": [
    "Q9. The int(), float() and the str() functions can be used to get the integer, floating-point number, or string\n",
    "version of a value. ex int(\"10\"), str(10), float(10)"
   ]
  },
  {
   "cell_type": "code",
   "execution_count": 5,
   "id": "a79cb09c",
   "metadata": {},
   "outputs": [
    {
     "data": {
      "text/plain": [
       "(10, '10', 10.0)"
      ]
     },
     "execution_count": 5,
     "metadata": {},
     "output_type": "execute_result"
    }
   ],
   "source": [
    "int(\"10\"), str(10), float(10)"
   ]
  },
  {
   "cell_type": "markdown",
   "id": "1e464b0f",
   "metadata": {},
   "source": [
    "Q10. The expression causes an error as we are trying to concatenate an interger with the string. Concatenation can be performed among same data type only. We can fix the same by converting the interger value 99 to a string using the str() function and then concatenate. Code below:"
   ]
  },
  {
   "cell_type": "code",
   "execution_count": 7,
   "id": "42fe6cff",
   "metadata": {},
   "outputs": [
    {
     "data": {
      "text/plain": [
       "'I have eaten 99 burritos.'"
      ]
     },
     "execution_count": 7,
     "metadata": {},
     "output_type": "execute_result"
    }
   ],
   "source": [
    "'I have eaten ' + str(99) + ' burritos.'"
   ]
  }
 ],
 "metadata": {
  "kernelspec": {
   "display_name": "Python 3 (ipykernel)",
   "language": "python",
   "name": "python3"
  },
  "language_info": {
   "codemirror_mode": {
    "name": "ipython",
    "version": 3
   },
   "file_extension": ".py",
   "mimetype": "text/x-python",
   "name": "python",
   "nbconvert_exporter": "python",
   "pygments_lexer": "ipython3",
   "version": "3.9.12"
  }
 },
 "nbformat": 4,
 "nbformat_minor": 5
}
