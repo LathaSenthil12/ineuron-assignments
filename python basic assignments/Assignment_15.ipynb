{
  "nbformat": 4,
  "nbformat_minor": 0,
  "metadata": {
    "colab": {
      "provenance": []
    },
    "kernelspec": {
      "name": "python3",
      "display_name": "Python 3"
    },
    "language_info": {
      "name": "python"
    }
  },
  "cells": [
    {
      "cell_type": "code",
      "execution_count": 1,
      "metadata": {
        "colab": {
          "base_uri": "https://localhost:8080/"
        },
        "id": "1qvFiyv6RfpO",
        "outputId": "3a82ae64-bc11-4846-8cb5-fa5a54a930ea"
      },
      "outputs": [
        {
          "output_type": "stream",
          "name": "stdout",
          "text": [
            "3600\n"
          ]
        }
      ],
      "source": [
        "#1.How many seconds are in an hour? Use the interactive interpreter as a calculator and multiply the\n",
        "#number of seconds in a minute (60) by the number of minutes in an hour (also 60).\n",
        "\n",
        "#soln:\n",
        "\n",
        "print(60*60)"
      ]
    },
    {
      "cell_type": "code",
      "source": [
        "#2. Assign the result from the previous task (seconds in an hour) to a variable called seconds_per_hour.\n",
        "seconds_per_hour=60*60\n",
        "seconds_per_hour"
      ],
      "metadata": {
        "colab": {
          "base_uri": "https://localhost:8080/"
        },
        "id": "og9TglviRyL1",
        "outputId": "4b58458c-9fb1-42a8-98eb-b508aea381ca"
      },
      "execution_count": 3,
      "outputs": [
        {
          "output_type": "execute_result",
          "data": {
            "text/plain": [
              "3600"
            ]
          },
          "metadata": {},
          "execution_count": 3
        }
      ]
    },
    {
      "cell_type": "code",
      "source": [
        "#3. How many seconds do you think there are in a day? Make use of the variables seconds per hour and minutes per hour.\n",
        "minutes_per_hour=60\n",
        "seconds_in_a_minute=60\n",
        "seconds_per_hour=minutes_per_hour*seconds_in_a_minute\n",
        "print(seconds_per_hour*24)"
      ],
      "metadata": {
        "colab": {
          "base_uri": "https://localhost:8080/"
        },
        "id": "Mc0PNF7hSBn9",
        "outputId": "3a7ecbf6-7033-45a0-c992-aa984361db21"
      },
      "execution_count": 5,
      "outputs": [
        {
          "output_type": "stream",
          "name": "stdout",
          "text": [
            "86400\n"
          ]
        }
      ]
    },
    {
      "cell_type": "code",
      "source": [
        "#4. Calculate seconds per day again, but this time save the result in a variable called seconds_per_day\n",
        "seconds_per_day=seconds_per_hour*24\n",
        "print(seconds_per_day)"
      ],
      "metadata": {
        "colab": {
          "base_uri": "https://localhost:8080/"
        },
        "id": "plOwoTCyS74s",
        "outputId": "2d7f3b4d-c472-47f7-89ea-6f1a7a366b58"
      },
      "execution_count": 6,
      "outputs": [
        {
          "output_type": "stream",
          "name": "stdout",
          "text": [
            "86400\n"
          ]
        }
      ]
    },
    {
      "cell_type": "code",
      "source": [
        "#5. Divide seconds_per_day by seconds_per_hour. Use floating-point (/) division.\n",
        "print(seconds_per_day/seconds_per_hour)"
      ],
      "metadata": {
        "colab": {
          "base_uri": "https://localhost:8080/"
        },
        "id": "BzXJRCZ1TL9c",
        "outputId": "4158f830-2ccd-494b-af29-d6db143aac8d"
      },
      "execution_count": 7,
      "outputs": [
        {
          "output_type": "stream",
          "name": "stdout",
          "text": [
            "24.0\n"
          ]
        }
      ]
    },
    {
      "cell_type": "code",
      "source": [
        "#6. Divide seconds_per_day by seconds_per_hour, using integer (//) division. Did this number agree with the floating-point value\n",
        "# from the previous question, aside from the final .0?\n",
        "print(seconds_per_day//seconds_per_hour)\n",
        "print(\"YES\")"
      ],
      "metadata": {
        "colab": {
          "base_uri": "https://localhost:8080/"
        },
        "id": "w-E1aA3vTVP9",
        "outputId": "7c1e2e47-bed8-453c-f1cb-c421faf50d7a"
      },
      "execution_count": 9,
      "outputs": [
        {
          "output_type": "stream",
          "name": "stdout",
          "text": [
            "24\n",
            "YES\n"
          ]
        }
      ]
    },
    {
      "cell_type": "code",
      "source": [
        "#7. Write a generator, genPrimes, that returns the sequence of prime numbers on successive calls to\n",
        "#its next() method: 2, 3, 5, 7, 11, ...\n",
        "\n",
        "def genPrimes():\n",
        "    n = 0\n",
        "    while True:\n",
        "        if n == 2 or n == 3 :\n",
        "            yield n\n",
        "        elif ((n-1)%6 == 0 or (n+1)%6 == 0) and n !=1:\n",
        "            yield n\n",
        "        n = n+1\n",
        "        \n",
        "output = genPrimes()\n",
        "for ele in range(5):\n",
        "    print(next(output))"
      ],
      "metadata": {
        "colab": {
          "base_uri": "https://localhost:8080/"
        },
        "id": "QAJi2b3CTkIe",
        "outputId": "8332e12c-6614-4d31-fa73-c834a24c875a"
      },
      "execution_count": 10,
      "outputs": [
        {
          "output_type": "stream",
          "name": "stdout",
          "text": [
            "2\n",
            "3\n",
            "5\n",
            "7\n",
            "11\n"
          ]
        }
      ]
    }
  ]
}