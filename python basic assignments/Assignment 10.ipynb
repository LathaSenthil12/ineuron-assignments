{
  "nbformat": 4,
  "nbformat_minor": 0,
  "metadata": {
    "colab": {
      "provenance": []
    },
    "kernelspec": {
      "name": "python3",
      "display_name": "Python 3"
    },
    "language_info": {
      "name": "python"
    }
  },
  "cells": [
    {
      "cell_type": "markdown",
      "source": [
        "1. How do you distinguish between shutil.copy() and shutil.copytree()?\n",
        "\n",
        "\n",
        "Ans:        shutil.copy() method is used to copy the contents of a file from one file to another file/folder, it primary takes two arguments src,dest, src represents the file to be copied where as destination refers to the file/folder to where the src data should be copied, if dest is a folder name the src with exact name will be copied to the dest folder, if its a file then the contents of src will be copied to dest where dest retains it name.\n",
        "\n",
        "\n",
        "shutil.copytree() function is used to copy the entire contents of a folder to other folder. it also takes two arguments src & dest, it copies all the content recursively and stores it in dest. the important catch here is dest must not exist prior to this and it will be created during the copy operation. Permissions and times of directories are copied with shutil.copystat() and individual files are copied using shutil.copy2() by default which can be modified using copy_function attribute.\n",
        "\n",
        "2. What function is used to rename files??\n",
        "\n",
        "\n",
        "Ans:os.rename() function is used to rename files or directories using a python program, this function takes two arguments src and dest, src represents the name file/directory which we want to rename, whereas dest represents the new name of the file/directory.\n",
        "\n",
        "3. What is the difference between the delete functions in the send2trash and shutil modules?\n",
        "\n",
        "Ans: Shutil module provides a funciton called as shutil.rmtree() which deletes a directory and all its contents. The other functions with similar functionality are os.remove() -> removes a file, os.rmdir() removes a empty directory. The problem with these functions is once a file is deleted. it will be lost permanently, if a file is deleted accidentally using these methods there is no way we can recover the deleted file\n",
        "\n",
        "Where as send2trash module provides a function called send2trash.send2trash() to delete a file/directory. these methods moves the files/directories to trash folder instead of permanently deleting them. hence if a file/folder is deleted accidentally it can be still recovered from trash folder, if is deleted using the send2trash.send2trash() function. send2trash is not included with python standard libary like os & shutil modules. it needs to be installed explicitly using the command !pip install send2trash\n",
        "\n",
        "4.ZipFile objects have a close() method just like File objects’ close() method. What ZipFile method is equivalent to File objects’ open() method?\n",
        "\n",
        "\n",
        "Ans: ZipFile Module provides a method called as zipfile.ZipFile() to read and write to zipFiles. it takes arugments lile filename and mode etc zipfile.ZipFile('filename', mode = 'r')\n",
        "\n",
        "\n",
        "5. Create a programme that searches a folder tree for files with a certain file extension (such as .pdf\n",
        "or .jpg). Copy these files from whatever location they are in to a new folder."
      ],
      "metadata": {
        "id": "4U1Y2I63KJna"
      }
    },
    {
      "cell_type": "code",
      "source": [
        "import os\n",
        "import shutil\n",
        "\n",
        "def search_and_copy(source,destination,extensions):\n",
        "    source = os.path.abspath(source)\n",
        "    destination = os.path.abspath(destination)\n",
        "    for foldername, subfolder, filenames in os.walk(source):\n",
        "        print(f'Folder Name ➞ {foldername}',end='\\n\\n')\n",
        "        print(f'Sub Folders ➞ {subfolder}',end='\\n\\n')\n",
        "        print(f'Files ➞ {filenames}',end='\\n\\n')\n",
        "        for filename in filenames:\n",
        "            fileName,extension = os.path.splitext(filename)\n",
        "            if extension in extensions:\n",
        "                targetFile = foldername+os.path.sep+fileName+extension\n",
        "                shutil.copy(targetFile, destination)\n",
        "        print(f'Files copied successfully from {source} to {destination}')\n",
        "    \n",
        "extensions = ['.pdf','.jpg','.ipynb']\n",
        "source = \"D:\\\\full stack ds\"\n",
        "destination =\"D:\\\\pdf_folder\"\n",
        "search_and_copy(source, destination, extensions)\n",
        "# I have executed the code on sublime text and pasted the output below"
      ],
      "metadata": {
        "id": "nKxQmLJiLQZs"
      },
      "execution_count": 5,
      "outputs": []
    },
    {
      "cell_type": "markdown",
      "source": [
        "Folder Name ➞ D:\\full stack ds\n",
        "\n",
        "Sub Folders ➞ ['assignments', 'challenge', 'data', 'j notebooks', 'resources']\n",
        "\n",
        "Files ➞ ['Full Stack Data Science.pdf']\n",
        "\n",
        "Files copied successfully from D:\\full stack ds to D:\\pdf_folder\n",
        "Folder Name ➞ D:\\full stack ds\\assignments\n",
        "\n",
        "Sub Folders ➞ ['programming assignments']\n",
        "\n",
        "Files ➞ ['Assignment 1.ipynb', 'Assignment 2.ipynb', 'Assignment 21.ipynb', 'Assignment 22.ipynb', 'Assignment 23.ipynb', 'Assignment 24.ipynb', 'Assignment 25.ipynb', 'Assignment 3.ipynb', 'Assignment 4.ipynb', 'Assignment 5.ipynb', 'Assignment 6.ipynb', 'Assignment 7.ipynb', 'Assignment 8.ipynb', 'Assignment_9.ipynb']\n",
        "\n",
        "Files copied successfully from D:\\full stack ds to D:\\pdf_folder\n",
        "Folder Name ➞ D:\\full stack ds\\assignments\\programming assignments\n",
        "\n",
        "Sub Folders ➞ []\n",
        "\n",
        "Files ➞ ['Programming Assignment 1.ipynb', 'Programming Assignment 10.ipynb', 'Programming Assignment 11.ipynb', 'Programming Assignment 12.ipynb', 'Programming Assignment 13.ipynb', 'Programming Assignment 14.ipynb', 'Programming Assignment 15.ipynb', 'Programming Assignment 16.ipynb', 'Programming assignment 2.ipynb', 'Programming Assignment 3.ipynb', 'Programming Assignment 4.ipynb', 'Programming Assignment 5.ipynb', 'Programming Assignment 6.ipynb', 'Programming Assignment 7.ipynb', 'Programming Assignment 8.ipynb', 'Programming Assignment 9.ipynb']\n",
        "\n",
        "Files copied successfully from D:\\full stack ds to D:\\pdf_folder\n",
        "Folder Name ➞ D:\\full stack ds\\challenge\n",
        "\n",
        "Sub Folders ➞ []\n",
        "\n",
        "Files ➞ ['challenge1.txt', 'First Challenge.ipynb']\n",
        "\n",
        "Files copied successfully from D:\\full stack ds to D:\\pdf_folder\n",
        "Folder Name ➞ D:\\full stack ds\\data\n",
        "\n",
        "Sub Folders ➞ []\n",
        "\n",
        "Files ➞ ['AgentPerformance.csv', 'AgentPerformance.xlsx.csv', 'Agent_Login_Report.csv', 'Agent_Login_Report.xls.csv', 'aps_data.csv', 'Attribute DataSet.xlsx', 'data fsds -20220729T175658Z-001.zip', 'Dress Sales.xlsx', 'DressSales.csv', 'FitBit data.csv', 'haberman.csv', 'haberman.names', 'Online Retail.xlsx', 'online_retail_II (1).xlsx', 'pollution.csv', 'pollution.names', 'sales_data_final.csv', 'Superstore_USA.xlsx', 'task sheet.txt', 'URL Table.txt']\n",
        "\n",
        "Files copied successfully from D:\\full stack ds to D:\\pdf_folder\n",
        "Folder Name ➞ D:\\full stack ds\\j notebooks\n",
        "\n",
        "Sub Folders ➞ []\n",
        "\n",
        "Files ➞ ['21-may-22list, tuple dict set.ipynb', '21-may-22list, tuple dict.py']\n",
        "\n",
        "Files copied successfully from D:\\full stack ds to D:\\pdf_folder\n",
        "Folder Name ➞ D:\\full stack ds\\resources\n",
        "\n",
        "Sub Folders ➞ []\n",
        "\n",
        "Files ➞ ['day5-fsds bootcamp.pdf', 'decision_tree_fsdsmay.ipynb', 'Login Guidlines for CNAPS Olympiads (1) (1) (1).pdf']\n",
        "\n",
        "Files copied successfully from D:\\full stack ds to D:\\pdf_folder\n",
        "[Finished in 1.4s]"
      ],
      "metadata": {
        "id": "sLfxjmSZPTE-"
      }
    }
  ]
}