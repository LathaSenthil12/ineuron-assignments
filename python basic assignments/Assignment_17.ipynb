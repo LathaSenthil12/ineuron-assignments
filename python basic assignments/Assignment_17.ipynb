{
  "nbformat": 4,
  "nbformat_minor": 0,
  "metadata": {
    "colab": {
      "provenance": []
    },
    "kernelspec": {
      "name": "python3",
      "display_name": "Python 3"
    },
    "language_info": {
      "name": "python"
    }
  },
  "cells": [
    {
      "cell_type": "code",
      "execution_count": 1,
      "metadata": {
        "colab": {
          "base_uri": "https://localhost:8080/"
        },
        "id": "ovSx-9iZbZtU",
        "outputId": "fb82a30f-d2b7-4f8e-a427-5f738458bcb9"
      },
      "outputs": [
        {
          "output_type": "stream",
          "name": "stdout",
          "text": [
            "just right\n"
          ]
        }
      ],
      "source": [
        "#1. Assign the value 7 to the variable guess_me. Then, write the conditional tests (if, else, and elif) to\n",
        "#print the string 'too low' if guess_me is less than 7, 'too high' if greater than 7, and 'just right' if equal\n",
        "#to 7.\n",
        "\n",
        "guess_me=7\n",
        "\n",
        "if guess_me<7:\n",
        "    print(\"too low\")\n",
        "elif guess_me > 7:\n",
        "    print(\"too high\")\n",
        "else:\n",
        "    print(\"just right\")"
      ]
    },
    {
      "cell_type": "code",
      "source": [
        "#2. Assign the value 7 to the variable guess_me and the value 1 to the variable start. Write a while\n",
        "#loop that compares start with guess_me. Print too low if start is less than guess me. If start equals\n",
        "#guess_me, print 'found it' and exit the loop. If start is greater than guess_me, print'oops' and exit\n",
        "#the loop. Increment start at the end of the loop.\n",
        "\n",
        "guess_me = 7\n",
        "start = 1\n",
        "while True:\n",
        "    if start < guess_me:\n",
        "        print('too low')\n",
        "    elif start == guess_me:\n",
        "        print('found it')\n",
        "        break\n",
        "    else:\n",
        "        print('oops')\n",
        "        break\n",
        "    start += 1"
      ],
      "metadata": {
        "colab": {
          "base_uri": "https://localhost:8080/"
        },
        "id": "W202RtgjcswJ",
        "outputId": "9151a272-a9db-4bf5-cff6-07ecebc4c43f"
      },
      "execution_count": 3,
      "outputs": [
        {
          "output_type": "stream",
          "name": "stdout",
          "text": [
            "too low\n",
            "too low\n",
            "too low\n",
            "too low\n",
            "too low\n",
            "too low\n",
            "found it\n"
          ]
        }
      ]
    },
    {
      "cell_type": "code",
      "source": [
        "#3. Print the following values of the list [3, 2, 1, 0] using a for loop.\n",
        "lst = [3,2,1,0]\n",
        "for ele in lst:\n",
        "    print(ele)"
      ],
      "metadata": {
        "colab": {
          "base_uri": "https://localhost:8080/"
        },
        "id": "HdFRlnvVeDJZ",
        "outputId": "fe6bca25-33cf-4839-956d-a3d216f7d636"
      },
      "execution_count": 4,
      "outputs": [
        {
          "output_type": "stream",
          "name": "stdout",
          "text": [
            "3\n",
            "2\n",
            "1\n",
            "0\n"
          ]
        }
      ]
    },
    {
      "cell_type": "code",
      "source": [
        "#4. Use a list comprehension to make a list of the even numbers in range(10)\n",
        "even_list = [i for i in range(10) if i%2==0]\n",
        "print(even_list)"
      ],
      "metadata": {
        "colab": {
          "base_uri": "https://localhost:8080/"
        },
        "id": "W2iQEyf7eUQx",
        "outputId": "0f1b2de0-a086-41e9-8dcf-c775ff749992"
      },
      "execution_count": 5,
      "outputs": [
        {
          "output_type": "stream",
          "name": "stdout",
          "text": [
            "[0, 2, 4, 6, 8]\n"
          ]
        }
      ]
    },
    {
      "cell_type": "code",
      "source": [
        "#5. Use a dictionary comprehension to create the dictionary squares. Use range(10) to return the\n",
        "#keys, and use the square of each key as its value.\n",
        "\n",
        "squares_dict = { i : i**2 for i in range(10)}\n",
        "print(squares_dict)"
      ],
      "metadata": {
        "colab": {
          "base_uri": "https://localhost:8080/"
        },
        "id": "dKDRljBpekDp",
        "outputId": "50763799-699e-4482-f544-e390d0366b00"
      },
      "execution_count": 6,
      "outputs": [
        {
          "output_type": "stream",
          "name": "stdout",
          "text": [
            "{0: 0, 1: 1, 2: 4, 3: 9, 4: 16, 5: 25, 6: 36, 7: 49, 8: 64, 9: 81}\n"
          ]
        }
      ]
    },
    {
      "cell_type": "code",
      "source": [
        "#6. Construct the set odd from the odd numbers in the range using a set comprehension (10).\n",
        "print({x for x in range(10) if x%2 !=0})"
      ],
      "metadata": {
        "colab": {
          "base_uri": "https://localhost:8080/"
        },
        "id": "mmmcau_aez_Q",
        "outputId": "aba9a09d-58e2-4674-fd1d-396a77213ece"
      },
      "execution_count": 7,
      "outputs": [
        {
          "output_type": "stream",
          "name": "stdout",
          "text": [
            "{1, 3, 5, 7, 9}\n"
          ]
        }
      ]
    },
    {
      "cell_type": "code",
      "source": [
        "#7. Use a generator comprehension to return the string 'Got' and a number for the numbers in\n",
        "#range(10). Iterate through this by using a for loop.\n",
        "\n",
        "gen_com = ('Got_'+str(x) for x in range(10))\n",
        "for ele in gen_com:\n",
        "    print(ele, end=' ')"
      ],
      "metadata": {
        "colab": {
          "base_uri": "https://localhost:8080/"
        },
        "id": "KGvPp2kEfFT5",
        "outputId": "b5f7a2bd-8eaf-47c1-c8c6-40c1f1e88f38"
      },
      "execution_count": 8,
      "outputs": [
        {
          "output_type": "stream",
          "name": "stdout",
          "text": [
            "Got_0 Got_1 Got_2 Got_3 Got_4 Got_5 Got_6 Got_7 Got_8 Got_9 "
          ]
        }
      ]
    },
    {
      "cell_type": "code",
      "source": [
        "#8. Define a function called good that returns the list ['Harry', 'Ron', 'Hermione'].\n",
        "def good():\n",
        "   return  ['Harry', 'Ron', 'Hermione']\n",
        "    \n",
        "print(good())"
      ],
      "metadata": {
        "colab": {
          "base_uri": "https://localhost:8080/"
        },
        "id": "-jV0XxBsfSjJ",
        "outputId": "e3263117-234c-4a11-d214-d4ad76d3432e"
      },
      "execution_count": 9,
      "outputs": [
        {
          "output_type": "stream",
          "name": "stdout",
          "text": [
            "['Harry', 'Ron', 'Hermione']\n"
          ]
        }
      ]
    },
    {
      "cell_type": "code",
      "source": [
        "#9. Define a generator function called get_odds that returns the odd numbers from range(10). Use a\n",
        "#for loop to find and print the third value returned.\n",
        "def get_odds():\n",
        "    output = []\n",
        "    for ele in range(10):\n",
        "        if ele%2 != 0:\n",
        "            output.append(ele)\n",
        "    yield output\n",
        "\n",
        "next(get_odds())[2]"
      ],
      "metadata": {
        "colab": {
          "base_uri": "https://localhost:8080/"
        },
        "id": "TvcMqxP0fizZ",
        "outputId": "74c7a9ff-e1a0-4e31-d728-fb70e15ab8fe"
      },
      "execution_count": 10,
      "outputs": [
        {
          "output_type": "execute_result",
          "data": {
            "text/plain": [
              "5"
            ]
          },
          "metadata": {},
          "execution_count": 10
        }
      ]
    },
    {
      "cell_type": "code",
      "source": [
        "#10. Define an exception called OopsException. Raise this exception to see what happens. Then write\n",
        "#the code to catch this exception and print 'Caught an oops'.\n",
        "\n",
        "class OopsException(Exception):\n",
        "    pass\n",
        "\n",
        "def test(input):\n",
        "    if input <0:\n",
        "        raise OopsException(a)\n",
        "try:\n",
        "    test(-100)\n",
        "except Exception as e:\n",
        "    print('Caught in Oops ->',e)"
      ],
      "metadata": {
        "colab": {
          "base_uri": "https://localhost:8080/"
        },
        "id": "iAfBrEcEfvJx",
        "outputId": "1eae329d-9718-4f2c-f872-b1ec76269cba"
      },
      "execution_count": 11,
      "outputs": [
        {
          "output_type": "stream",
          "name": "stdout",
          "text": [
            "Caught in Oops -> name 'a' is not defined\n"
          ]
        }
      ]
    },
    {
      "cell_type": "code",
      "source": [
        "#11. Use zip() to make a dictionary called movies that pairs these lists: titles = ['Creature of Habit','Crewel Fate'] and\n",
        "# plots = ['A nun turns into a monster', 'A haunted yarn shop'].\n",
        "titles = ['Creature of Habit','Crewel Fate']\n",
        "plots = ['A nun turns into a monster', 'A haunted yarn shop']\n",
        "movies = dict(zip(titles,plots))\n",
        "print(movies)"
      ],
      "metadata": {
        "colab": {
          "base_uri": "https://localhost:8080/"
        },
        "id": "QNffH2bXf5Hp",
        "outputId": "0a54dbb1-55a2-49c0-d4f4-af75bb395667"
      },
      "execution_count": 12,
      "outputs": [
        {
          "output_type": "stream",
          "name": "stdout",
          "text": [
            "{'Creature of Habit': 'A nun turns into a monster', 'Crewel Fate': 'A haunted yarn shop'}\n"
          ]
        }
      ]
    }
  ]
}