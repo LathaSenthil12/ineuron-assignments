{
  "nbformat": 4,
  "nbformat_minor": 0,
  "metadata": {
    "colab": {
      "provenance": []
    },
    "kernelspec": {
      "name": "python3",
      "display_name": "Python 3"
    },
    "language_info": {
      "name": "python"
    }
  },
  "cells": [
    {
      "cell_type": "code",
      "execution_count": 8,
      "metadata": {
        "colab": {
          "base_uri": "https://localhost:8080/"
        },
        "id": "LcDyKTnMgnnX",
        "outputId": "cf6a5045-90ab-4bde-fc3c-5f2c8599e784"
      },
      "outputs": [
        {
          "output_type": "stream",
          "name": "stdout",
          "text": [
            "Open 9-5 daily\n"
          ]
        }
      ],
      "source": [
        "#1. Create a zoo.py file first. Define the hours() function, which prints the string 'Open 9-5 daily'.\n",
        "#Then, use the interactive interpreter to import the zoo module and call its hours() function.\n",
        "import zoo\n",
        "zoo.hours()"
      ]
    },
    {
      "cell_type": "code",
      "source": [
        "#2. In the interactive interpreter, import the zoo module as menagerie and call its hours() function.\n",
        "import zoo as menagerie\n",
        "menagerie.hours()"
      ],
      "metadata": {
        "colab": {
          "base_uri": "https://localhost:8080/"
        },
        "id": "SnXvdtvNh0-q",
        "outputId": "b754807e-d7dd-4604-f0c5-e70fd19f4ef5"
      },
      "execution_count": 9,
      "outputs": [
        {
          "output_type": "stream",
          "name": "stdout",
          "text": [
            "Open 9-5 daily\n"
          ]
        }
      ]
    },
    {
      "cell_type": "code",
      "source": [
        "#3. Using the interpreter, explicitly import and call the hours() function from zoo.\n",
        "from zoo import hours\n",
        "hours()"
      ],
      "metadata": {
        "colab": {
          "base_uri": "https://localhost:8080/"
        },
        "id": "AUh3GKUMh9hx",
        "outputId": "85dbc584-92a9-41a4-b94d-1b6cb293eb47"
      },
      "execution_count": 10,
      "outputs": [
        {
          "output_type": "stream",
          "name": "stdout",
          "text": [
            "Open 9-5 daily\n"
          ]
        }
      ]
    },
    {
      "cell_type": "code",
      "source": [
        "#4. Import the hours() function as info and call it.\n",
        "from zoo import hours as info\n",
        "info()"
      ],
      "metadata": {
        "colab": {
          "base_uri": "https://localhost:8080/"
        },
        "id": "G6_QVxmFiEWe",
        "outputId": "9645644c-41de-44a3-cc3c-92eac7b78a59"
      },
      "execution_count": 11,
      "outputs": [
        {
          "output_type": "stream",
          "name": "stdout",
          "text": [
            "Open 9-5 daily\n"
          ]
        }
      ]
    },
    {
      "cell_type": "code",
      "source": [
        "#5. Create a plain dictionary with the key-value pairs 'a': 1, 'b': 2, and 'c': 3, and print it out.\n",
        "d = {'a' : 1, 'b' : 2, 'c' : 3}\n",
        "print(d)"
      ],
      "metadata": {
        "colab": {
          "base_uri": "https://localhost:8080/"
        },
        "id": "VUMJaPR0iLR_",
        "outputId": "2a0f17d3-cc7f-47d2-c8c6-e3942e9b685b"
      },
      "execution_count": 12,
      "outputs": [
        {
          "output_type": "stream",
          "name": "stdout",
          "text": [
            "{'a': 1, 'b': 2, 'c': 3}\n"
          ]
        }
      ]
    },
    {
      "cell_type": "code",
      "source": [
        "#6.Make an OrderedDict called fancy from the same pairs listed in 5 and print it. Did it print in the\n",
        "#same order as plain?\n",
        "\n",
        "from collections import OrderedDict\n",
        "fancy = OrderedDict(d)\n",
        "print(f'plain_dict -> {d}')\n",
        "print(f'fancy -> {fancy}')"
      ],
      "metadata": {
        "colab": {
          "base_uri": "https://localhost:8080/"
        },
        "id": "EQF97uRSid_H",
        "outputId": "1b66f8b8-658c-4364-add9-6ad332e800e4"
      },
      "execution_count": 13,
      "outputs": [
        {
          "output_type": "stream",
          "name": "stdout",
          "text": [
            "plain_dict -> {'a': 1, 'b': 2, 'c': 3}\n",
            "fancy -> OrderedDict([('a', 1), ('b', 2), ('c', 3)])\n"
          ]
        }
      ]
    },
    {
      "cell_type": "code",
      "source": [
        "#7. Make a default dictionary called dict_of_lists and pass it the argument list. Make the list\n",
        "#dict_of_lists['a'] and append the value 'something for a' to it in one assignment. Print\n",
        "#dict_of_lists['a'].\n",
        "\n",
        "from collections import defaultdict\n",
        "dict_of_lists = defaultdict(list)\n",
        "dict_of_lists['a'].append('something for a')\n",
        "print(dict_of_lists['a'])"
      ],
      "metadata": {
        "colab": {
          "base_uri": "https://localhost:8080/"
        },
        "id": "98Pr-WOhit8f",
        "outputId": "8ed6c97b-ff16-45d9-e274-d4f33ef1eb69"
      },
      "execution_count": 14,
      "outputs": [
        {
          "output_type": "stream",
          "name": "stdout",
          "text": [
            "['something for a']\n"
          ]
        }
      ]
    }
  ]
}