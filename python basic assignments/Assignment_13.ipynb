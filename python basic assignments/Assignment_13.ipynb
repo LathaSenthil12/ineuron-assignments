{
  "nbformat": 4,
  "nbformat_minor": 0,
  "metadata": {
    "colab": {
      "provenance": []
    },
    "kernelspec": {
      "name": "python3",
      "display_name": "Python 3"
    },
    "language_info": {
      "name": "python"
    }
  },
  "cells": [
    {
      "cell_type": "markdown",
      "source": [
        "1. What advantages do Excel spreadsheets have over CSV spreadsheets?\n",
        "\n",
        "Ans: The Advantages of Excel over CSV are:\n",
        "\n",
        "*   Excel (XLS and XLSX) file formats are better for storing and analysing complex data.\n",
        "*   An Excel not only stores data but can also do operations on the data using macros, formulas etc\n",
        "*   CSV files are plain-text files, Does not contain formatting, formulas, macros, etc. It is also known as flat files"
      ],
      "metadata": {
        "id": "-dzXHj1DcZvy"
      }
    },
    {
      "cell_type": "markdown",
      "source": [
        "2.What do you pass to csv.reader() and csv.writer() to create reader and writer objects?"
      ],
      "metadata": {
        "id": "E22-ln7idC3p"
      }
    },
    {
      "cell_type": "code",
      "source": [
        "import csv\n",
        "with open('sample.csv','r') as file:\n",
        "    csv_file = csv.reader(file,delimiter=',')\n",
        "    for ele in csv_file:\n",
        "        print(ele)"
      ],
      "metadata": {
        "colab": {
          "base_uri": "https://localhost:8080/"
        },
        "id": "S8YS3beAdFHC",
        "outputId": "9a11f1ec-b596-4e9f-f673-39bfc7e83a58"
      },
      "execution_count": 1,
      "outputs": [
        {
          "output_type": "stream",
          "name": "stdout",
          "text": [
            "['sample', 'text', 'lets', ' retrieve']\n"
          ]
        }
      ]
    },
    {
      "cell_type": "markdown",
      "source": [
        "3. What modes do File objects for reader and writer objects need to be opened in?\n",
        "\n",
        "Ans: For csv.reader(iterable_file_object), the file objects needed to be opened in read mode mode='r' Whereas for csv.writer(iterable_file_object) the file objects needed to be opened in write mode mode='w'"
      ],
      "metadata": {
        "id": "jxbFog-3d2SD"
      }
    },
    {
      "cell_type": "markdown",
      "source": [
        "4. What method takes a list argument and writes it to a CSV file?\n",
        "\n",
        "Ans:   csv.writer class provides two methods for writing to CSV. They are writerow() and writerows(). writerow() method writes a single row at a time. Whereas writerows() method is used to write multiple rows at a time."
      ],
      "metadata": {
        "id": "4Rh3liFQd_eR"
      }
    },
    {
      "cell_type": "code",
      "source": [
        "import csv      \n",
        "fields = ['Name', 'Branch', 'Year', 'CGPA'] #column names \n",
        "rows = [ \n",
        "            ['Latha', 'COE', '2', '9.0'],  # data rows of csv file \n",
        "            ['Kamal', 'COE', '2', '9.1'], \n",
        "            ['Kavi', 'IT', '2', '9.3']\n",
        "       ] \n",
        "with open(\"university_records.csv\", 'w') as csvfile: \n",
        "    csvwriter = csv.writer(csvfile) # creating a csv writer object \n",
        "    csvwriter.writerow(fields) # writing the fields \n",
        "    csvwriter.writerows(rows) # writing the data rows "
      ],
      "metadata": {
        "id": "c42TU9y9eDR5"
      },
      "execution_count": 2,
      "outputs": []
    },
    {
      "cell_type": "markdown",
      "source": [
        "5. What do the keyword arguments delimiter and line terminator do?\n",
        "\n",
        "Ans: Lets take the example of a csv file:\n",
        "\n",
        "First Name, Last Name, Age\n",
        "\n",
        "Latha, Senthil, 40\n",
        "\n",
        "Senthil, Kumaran, 40\n",
        "\n",
        "Here ',' is Delimiter. We can use any Character as per our needs if required. Similarly Line Terminator comes at end of line by default it is newline and can be changed accourding to Requirement."
      ],
      "metadata": {
        "id": "tSOz_0a-eakb"
      }
    },
    {
      "cell_type": "markdown",
      "source": [
        "6. What function takes a string of JSON data and returns a Python data structure?\n",
        "\n",
        "Ans: loads() method takes a string of JSON data and returns a Python data structure"
      ],
      "metadata": {
        "id": "q6qnmC2hezyS"
      }
    },
    {
      "cell_type": "code",
      "source": [
        "import json\n",
        "my_details_json ='''{\n",
        "    \"Name\": \"Latha Senthil\",\n",
        "    \"Qualification\": \"Bachelor of Science\",\n",
        "    \"Stream\": \"Computer Science\"\n",
        "}'''\n",
        "print(my_details_json)\n",
        "print(f'Type of my_details_json is {type(my_details_json)}')\n",
        "my_details = json.loads(my_details_json)\n",
        "print(my_details)\n",
        "print(f'Type of my_details is {type(my_details)}')"
      ],
      "metadata": {
        "colab": {
          "base_uri": "https://localhost:8080/"
        },
        "id": "7Cu9AmUbe3pZ",
        "outputId": "fc01cac6-8073-4c37-e8ec-ae0b6d8cb0d4"
      },
      "execution_count": 3,
      "outputs": [
        {
          "output_type": "stream",
          "name": "stdout",
          "text": [
            "{\n",
            "    \"Name\": \"Latha Senthil\",\n",
            "    \"Qualification\": \"Bachelor of Science\",\n",
            "    \"Stream\": \"Computer Science\"\n",
            "}\n",
            "Type of my_details_json is <class 'str'>\n",
            "{'Name': 'Latha Senthil', 'Qualification': 'Bachelor of Science', 'Stream': 'Computer Science'}\n",
            "Type of my_details is <class 'dict'>\n"
          ]
        }
      ]
    },
    {
      "cell_type": "markdown",
      "source": [
        "7. What function takes a Python data structure and returns a string of JSON data?\n",
        "\n",
        "Ans: dumps() method takes a python data structure and returns a string of JSON data"
      ],
      "metadata": {
        "id": "7qLrN9U8e2-6"
      }
    },
    {
      "cell_type": "code",
      "source": [
        "import json\n",
        "my_details_json ='''{\n",
        "    \"Name\": \"Latha Senthil\",\n",
        "    \"Qualification\": \"Bachelor of Science\",\n",
        "    \"Stream\": \"Computer Science\"\n",
        "}'''\n",
        "\n",
        "print(my_details)\n",
        "print(f'Type of my_details is {type(my_details)}')\n",
        "my_details_json = json.dumps(my_details, indent=4, sort_keys=True)\n",
        "print(my_details_json)\n",
        "print(f'Type of my_details_json is {type(my_details_json)}')"
      ],
      "metadata": {
        "colab": {
          "base_uri": "https://localhost:8080/"
        },
        "id": "U-NfpcEofMqa",
        "outputId": "e41f6252-5fe1-484d-82e2-02e80bc980c7"
      },
      "execution_count": 4,
      "outputs": [
        {
          "output_type": "stream",
          "name": "stdout",
          "text": [
            "{'Name': 'Latha Senthil', 'Qualification': 'Bachelor of Science', 'Stream': 'Computer Science'}\n",
            "Type of my_details is <class 'dict'>\n",
            "{\n",
            "    \"Name\": \"Latha Senthil\",\n",
            "    \"Qualification\": \"Bachelor of Science\",\n",
            "    \"Stream\": \"Computer Science\"\n",
            "}\n",
            "Type of my_details_json is <class 'str'>\n"
          ]
        }
      ]
    }
  ]
}