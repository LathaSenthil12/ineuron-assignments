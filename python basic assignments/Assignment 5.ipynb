{
 "cells": [
  {
   "cell_type": "markdown",
   "id": "7e96acb0",
   "metadata": {},
   "source": [
    "1. What does an empty dictionary&#39;s code look like?\n",
    "\n",
    "Ans. An empty dictionary can be created using {} with nothing inside them."
   ]
  },
  {
   "cell_type": "code",
   "execution_count": null,
   "id": "736cac44",
   "metadata": {},
   "outputs": [],
   "source": [
    "d={}\n",
    "print(type(d))"
   ]
  },
  {
   "cell_type": "markdown",
   "id": "531af6c3",
   "metadata": {},
   "source": [
    "2. What is the value of a dictionary value with the key 'foo' and the value 42?\n",
    "\n",
    "Ans {'foo':42}\n"
   ]
  },
  {
   "cell_type": "markdown",
   "id": "44c12270",
   "metadata": {},
   "source": [
    "3. What is the most significant distinction between a dictionary and a list?\n",
    "\n",
    "Ans. The items in the dictionary will be in the form of key:value pair and these items are enclosed within the curly braces {}. The items in a dictionary are unordered.\n",
    "\n",
    "Lists are also iterables which can basically contain anything within them. The items of the list are enclosed in square brackets[]. The items in a list are ordered."
   ]
  },
  {
   "cell_type": "markdown",
   "id": "586bcc43",
   "metadata": {},
   "source": [
    "4. What happens if you try to access spam['foo'] if spam is {'bar': 100}?\n",
    "\n",
    "Ans It will give us Key error as the mentioned key is not present in the dictionary"
   ]
  },
  {
   "cell_type": "code",
   "execution_count": 2,
   "id": "a54dc87e",
   "metadata": {},
   "outputs": [
    {
     "ename": "KeyError",
     "evalue": "'foo'",
     "output_type": "error",
     "traceback": [
      "\u001b[1;31m---------------------------------------------------------------------------\u001b[0m",
      "\u001b[1;31mKeyError\u001b[0m                                  Traceback (most recent call last)",
      "Input \u001b[1;32mIn [2]\u001b[0m, in \u001b[0;36m<cell line: 2>\u001b[1;34m()\u001b[0m\n\u001b[0;32m      1\u001b[0m spam \u001b[38;5;241m=\u001b[39m {\u001b[38;5;124m'\u001b[39m\u001b[38;5;124mbar\u001b[39m\u001b[38;5;124m'\u001b[39m:\u001b[38;5;241m100\u001b[39m}\n\u001b[1;32m----> 2\u001b[0m \u001b[43mspam\u001b[49m\u001b[43m[\u001b[49m\u001b[38;5;124;43m'\u001b[39;49m\u001b[38;5;124;43mfoo\u001b[39;49m\u001b[38;5;124;43m'\u001b[39;49m\u001b[43m]\u001b[49m\n",
      "\u001b[1;31mKeyError\u001b[0m: 'foo'"
     ]
    }
   ],
   "source": [
    "spam = {'bar':100}\n",
    "spam['foo']"
   ]
  },
  {
   "cell_type": "markdown",
   "id": "f2626914",
   "metadata": {},
   "source": [
    "5. If a dictionary is stored in spam, what is the difference between the expressions'cat' in spam and 'cat' in spam.keys()?\n",
    "\n",
    "Ans. Both will yield the same result. There is no difference . The operator checks whether a value exits as a key in the dictionary or not"
   ]
  },
  {
   "cell_type": "markdown",
   "id": "8775bace",
   "metadata": {},
   "source": [
    "6. If a dictionary is stored in spam, what is the difference between the expressions 'cat' in spam and 'cat' in spam.values()?\n",
    "\n",
    "Ans. 'cat' in spam checks whether there is a 'cat' key in the dictionary, while 'cat' in spam.values() checks whether there is a value 'cat' for one of the keys in spam."
   ]
  },
  {
   "cell_type": "markdown",
   "id": "a24f9681",
   "metadata": {},
   "source": [
    "7. What is a shortcut for the following code?\n",
    "if 'color' not in spam:\n",
    "spam['color'] = 'black'\n",
    "\n",
    "Ans. spam.setdefault('color','black')"
   ]
  },
  {
   "cell_type": "markdown",
   "id": "28af0ea8",
   "metadata": {},
   "source": [
    "8. How do you\"pretty print\" dictionary values using which module and function?\n",
    "\n",
    "Ans 1. Using pprint() from pprint module"
   ]
  },
  {
   "cell_type": "code",
   "execution_count": 10,
   "id": "c2238a71",
   "metadata": {},
   "outputs": [
    {
     "name": "stdout",
     "output_type": "stream",
     "text": [
      "Without pprint :\n",
      " {'name': 'Nik', 'age': 31, 'gender': 'male', 'books': ['Harry Potter', 'Lord of the Rings']}\n",
      "\n",
      "Using pprint : \n",
      "\n",
      "{'age': 31,\n",
      " 'books': ['Harry Potter', 'Lord of the Rings'],\n",
      " 'gender': 'male',\n",
      " 'name': 'Nik'}\n",
      "\n",
      "\n",
      "***************************************\n",
      "\n",
      "without pretty printing : \n",
      " {'Nik': {'age': 31, 'gender': 'male', 'books': ['Harry Potter', 'Lord of the Rings']}, 'Joe': {'age': 40, 'gender': 'male', 'books': ['Lord of the Flies']}}\n",
      "\n",
      "Using json.dumps for pretty printing : \n",
      "\n",
      "{\n",
      "    \"Nik\": {\n",
      "        \"age\": 31,\n",
      "        \"gender\": \"male\",\n",
      "        \"books\": [\n",
      "            \"Harry Potter\",\n",
      "            \"Lord of the Rings\"\n",
      "        ]\n",
      "    },\n",
      "    \"Joe\": {\n",
      "        \"age\": 40,\n",
      "        \"gender\": \"male\",\n",
      "        \"books\": [\n",
      "            \"Lord of the Flies\"\n",
      "        ]\n",
      "    }\n",
      "}\n"
     ]
    }
   ],
   "source": [
    "import pprint\n",
    "\n",
    "#using pprint()\n",
    "sample_dict = {'name': 'Nik', 'age': 31, 'gender': 'male', 'books': ['Harry Potter', 'Lord of the Rings']}\n",
    "\n",
    "print(\"Without pprint :\\n\", sample_dict)\n",
    "print(\"\\nUsing pprint : \\n\")\n",
    "pprint.pprint(sample_dict)\n",
    "\n",
    "#using json.dump()\n",
    "import json\n",
    "sample_dict1 = {'Nik':{'age': 31, 'gender': 'male', 'books': ['Harry Potter', 'Lord of the Rings']}, 'Joe': {'age': 40, 'gender': 'male', 'books':['Lord of the Flies']}}\n",
    "print(\"\\n\\n***************************************\\n\\nwithout pretty printing : \\n\", sample_dict1)\n",
    "print(\"\\nUsing json.dumps for pretty printing : \\n\")\n",
    "pretty = json.dumps(sample_dict1, indent=4)\n",
    "print(pretty)\n"
   ]
  }
 ],
 "metadata": {
  "kernelspec": {
   "display_name": "Python 3 (ipykernel)",
   "language": "python",
   "name": "python3"
  },
  "language_info": {
   "codemirror_mode": {
    "name": "ipython",
    "version": 3
   },
   "file_extension": ".py",
   "mimetype": "text/x-python",
   "name": "python",
   "nbconvert_exporter": "python",
   "pygments_lexer": "ipython3",
   "version": "3.9.12"
  }
 },
 "nbformat": 4,
 "nbformat_minor": 5
}
