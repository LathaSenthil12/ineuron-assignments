{
  "nbformat": 4,
  "nbformat_minor": 0,
  "metadata": {
    "colab": {
      "provenance": []
    },
    "kernelspec": {
      "name": "python3",
      "display_name": "Python 3"
    },
    "language_info": {
      "name": "python"
    }
  },
  "cells": [
    {
      "cell_type": "code",
      "execution_count": 1,
      "metadata": {
        "colab": {
          "base_uri": "https://localhost:8080/"
        },
        "id": "BMrNqR-ejS-7",
        "outputId": "46bfe1ab-d93a-427f-c757-43766f92d8cc"
      },
      "outputs": [
        {
          "output_type": "stream",
          "name": "stdout",
          "text": [
            "<class '__main__.Thing'>\n",
            "<__main__.Thing object at 0x7f7471d719f0>\n"
          ]
        }
      ],
      "source": [
        "#1. Make a class called Thing with no contents and print it. Then, create an object called example\n",
        "#from this class and also print it. Are the printed values the same or different?\n",
        "\n",
        "class Thing:\n",
        "    pass\n",
        "print(Thing)\n",
        "example=Thing()\n",
        "print(example)"
      ]
    },
    {
      "cell_type": "code",
      "source": [
        "#2. Create a new class called Thing2 and add the value abc to the letters class attribute. Letters should be printed.\n",
        "\n",
        "class Thing2:\n",
        "    letters=\"abc\"\n",
        "print(Thing2.letters)"
      ],
      "metadata": {
        "colab": {
          "base_uri": "https://localhost:8080/"
        },
        "id": "AM5S-yrxjt5y",
        "outputId": "e882a659-43b3-40db-aa43-069771361a16"
      },
      "execution_count": 2,
      "outputs": [
        {
          "output_type": "stream",
          "name": "stdout",
          "text": [
            "abc\n"
          ]
        }
      ]
    },
    {
      "cell_type": "code",
      "source": [
        "#3. Make yet another class called, of course, Thing3. This time, assign the value xyz to an instance\n",
        "#(object) attribute called letters. Print letters. Do you need to make an object from the class to do this?\n",
        "\n",
        "class Thing3:\n",
        "    def __init__(self):\n",
        "        self.letters=\"xyz\"\n",
        "obj1=Thing3()\n",
        "print(obj1.letters)"
      ],
      "metadata": {
        "colab": {
          "base_uri": "https://localhost:8080/"
        },
        "id": "QJHbBWlSkFso",
        "outputId": "abd4142f-5121-4ec4-bae9-e63c03c9516b"
      },
      "execution_count": 6,
      "outputs": [
        {
          "output_type": "stream",
          "name": "stdout",
          "text": [
            "xyz\n"
          ]
        }
      ]
    },
    {
      "cell_type": "code",
      "source": [
        "#4. Create an Element class with the instance attributes name, symbol, and number. Create a class\n",
        "#object with the values Hydrogen, H, and 1.\n",
        "\n",
        "class Element:\n",
        "    def __init__(self,name,symbol,number):\n",
        "        self.name=name\n",
        "        self.symbol=symbol\n",
        "        self.number=number\n",
        "    def __repr__(self):\n",
        "        return f\"Name   : {self.name}\\nSymbol : {self.symbol}\\nNumber : {self.number}\"\n",
        "hyd= Element(\"Hydrogen\",'H',1)\n",
        "print(hyd)"
      ],
      "metadata": {
        "colab": {
          "base_uri": "https://localhost:8080/"
        },
        "id": "k32FToSLk5D-",
        "outputId": "ca119595-b402-44d7-8052-f50f59439050"
      },
      "execution_count": 8,
      "outputs": [
        {
          "output_type": "stream",
          "name": "stdout",
          "text": [
            "Name   : Hydrogen\n",
            "Symbol : H\n",
            "Number : 1\n"
          ]
        }
      ]
    },
    {
      "cell_type": "code",
      "source": [
        "#5. Make a dictionary with these keys and values: name: Hydrogen, symbol: H, number: 1. Then,\n",
        "#create an object called hydrogen from class Element using this dictionary.#\n",
        "\n",
        "h_dict = {\"name\" : \"Hydrogen\", \"symbol\" : \"H\", \"number\" : 1}\n",
        "\n",
        "hydrogen = Element(h_dict['name'],h_dict['symbol'],h_dict['number'])\n",
        "print(hydrogen)"
      ],
      "metadata": {
        "colab": {
          "base_uri": "https://localhost:8080/"
        },
        "id": "dIXVk4sAlmHg",
        "outputId": "d15df172-2f5b-4b86-882d-29f0147fb73c"
      },
      "execution_count": 9,
      "outputs": [
        {
          "output_type": "stream",
          "name": "stdout",
          "text": [
            "Name   : Hydrogen\n",
            "Symbol : H\n",
            "Number : 1\n"
          ]
        }
      ]
    },
    {
      "cell_type": "code",
      "source": [
        "#6. For the Element class, define a method called dump() that prints the values of the object’s\n",
        "#attributes (name, symbol, and number). Create the hydrogen object from this new definition and\n",
        "#use dump() to print its attributes.\n",
        "class Element:\n",
        "    def __init__(self,name,symbol,number):\n",
        "        self.name=name\n",
        "        self.symbol=symbol\n",
        "        self.number=number\n",
        "    def dump(self):\n",
        "        return f\"Name   : {self.name}\\nSymbol : {self.symbol}\\nNumber : {self.number}\"\n",
        "hyd= Element(\"Hydrogen\",'H',1)\n",
        "print(hyd.dump())"
      ],
      "metadata": {
        "colab": {
          "base_uri": "https://localhost:8080/"
        },
        "id": "GTAxDDewmLhX",
        "outputId": "8d66974e-7303-4b69-f9ca-a31889a01903"
      },
      "execution_count": 10,
      "outputs": [
        {
          "output_type": "stream",
          "name": "stdout",
          "text": [
            "Name   : Hydrogen\n",
            "Symbol : H\n",
            "Number : 1\n"
          ]
        }
      ]
    },
    {
      "cell_type": "code",
      "source": [
        "#7. Call print(hydrogen). In the definition of Element, change the name of method dump to __str__,\n",
        "#create a new hydrogen object, and call print(hydrogen) again.\n",
        "\n",
        "class Element:\n",
        "    def __init__(self,name,symbol,number):\n",
        "        self.name=name\n",
        "        self.symbol=symbol\n",
        "        self.number=number\n",
        "    def __str__(self):\n",
        "        return f\"Name   : {self.name}\\nSymbol : {self.symbol}\\nNumber : {self.number}\"\n",
        "hydrogen= Element(\"Hydrogen\",'H',1)\n",
        "print(hydrogen)\n"
      ],
      "metadata": {
        "colab": {
          "base_uri": "https://localhost:8080/"
        },
        "id": "Xc0KFqsdmcfm",
        "outputId": "e602a38c-3abc-4f43-80a5-c48054b8f936"
      },
      "execution_count": 11,
      "outputs": [
        {
          "output_type": "stream",
          "name": "stdout",
          "text": [
            "Name   : Hydrogen\n",
            "Symbol : H\n",
            "Number : 1\n"
          ]
        }
      ]
    },
    {
      "cell_type": "code",
      "source": [
        "#8. Modify Element to make the attributes name, symbol, and number private. Define a getter\n",
        "#property for each to return its value.\n",
        "\n",
        "class Element:\n",
        "    def __init__(self,name,symbol,number):\n",
        "        self.__name=name\n",
        "        self.__symbol=symbol\n",
        "        self.__number=number\n",
        "    def get_name(self):\n",
        "        return self.__name\n",
        "    def get_symbol(self):\n",
        "        return self.__symbol\n",
        "    def get_number(self):\n",
        "        return self.__number\n",
        "    def __str__(self):\n",
        "        return f\"Name   : {self.__name}\\nSymbol : {self.__symbol}\\nNumber : {self.__number}\"\n",
        "hydrogen= Element(\"Hydrogen\",'H',1)\n",
        "print(hydrogen.get_name())\n",
        "print(hydrogen.get_symbol())\n",
        "print(hydrogen.get_number())"
      ],
      "metadata": {
        "colab": {
          "base_uri": "https://localhost:8080/"
        },
        "id": "5fwGe-9jms4m",
        "outputId": "cae23999-5abe-47ed-df47-99e29e3f6d32"
      },
      "execution_count": 12,
      "outputs": [
        {
          "output_type": "stream",
          "name": "stdout",
          "text": [
            "Hydrogen\n",
            "H\n",
            "1\n"
          ]
        }
      ]
    },
    {
      "cell_type": "code",
      "source": [
        "#9. Define three classes: Bear, Rabbit, and Octothorpe. For each, define only one method: eats(). This\n",
        "#should return berries (Bear), clover (Rabbit), or campers (Octothorpe). Create one object from\n",
        "#each and print what it eats.\n",
        "class Bear:\n",
        "    def eats(self):\n",
        "       return ('berries')\n",
        "class Rabbit:\n",
        "    def eats(self):\n",
        "       return('clover')\n",
        "class Octothorpe:\n",
        "    def eats(self):\n",
        "        return('campers')\n",
        "        \n",
        "bear = Bear()\n",
        "rabbit = Rabbit()\n",
        "octothrope = Octothorpe()\n",
        "\n",
        "print(\"Bear eats : \",bear.eats())\n",
        "print(\"Rabbit eats : \",rabbit.eats())\n",
        "print(\"Octothrope eats : \",octothrope.eats())"
      ],
      "metadata": {
        "colab": {
          "base_uri": "https://localhost:8080/"
        },
        "id": "HrJUjh5snRT3",
        "outputId": "3363cbac-082a-4ffb-dec0-17c9058e9ce2"
      },
      "execution_count": 16,
      "outputs": [
        {
          "output_type": "stream",
          "name": "stdout",
          "text": [
            "Bear eats :  berries\n",
            "Rabbit eats :  clover\n",
            "Octothrope eats :  campers\n"
          ]
        }
      ]
    },
    {
      "cell_type": "code",
      "source": [
        "#10. Define these classes: Laser, Claw, and SmartPhone. Each has only one method: does(). This\n",
        "#returns disintegrate (Laser), crush (Claw), or ring (SmartPhone). Then, define the class Robot that\n",
        "#has one instance (object) of each of these. Define a does() method for the Robot that prints what its\n",
        "#component objects do.\n",
        "\n",
        "class Laser:\n",
        "    def does(self):\n",
        "        return 'disintegrate'\n",
        "class Claw:\n",
        "    def does(self):\n",
        "        return 'crush'\n",
        "class Smartphone:\n",
        "    def does(self):\n",
        "        return 'ring'\n",
        "class Robot:\n",
        "    def __init__(self):\n",
        "        self.laser = Laser()\n",
        "        self.claw = Claw()\n",
        "        self.smartphone = Smartphone()\n",
        "    def does(self):\n",
        "        print(self.laser.does(),self.claw.does(),self.smartphone.does())\n",
        "        \n",
        "rb = Robot()\n",
        "rb.does()"
      ],
      "metadata": {
        "colab": {
          "base_uri": "https://localhost:8080/"
        },
        "id": "99jT2_sVnhyE",
        "outputId": "2b437b6e-c928-4d7f-9f50-f5f185bfabc8"
      },
      "execution_count": 17,
      "outputs": [
        {
          "output_type": "stream",
          "name": "stdout",
          "text": [
            "disintegrate crush ring\n"
          ]
        }
      ]
    }
  ]
}