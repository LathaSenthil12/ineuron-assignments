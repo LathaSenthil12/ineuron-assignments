{
 "cells": [
  {
   "cell_type": "markdown",
   "id": "e81891dd",
   "metadata": {},
   "source": [
    "Q1) . What is the difference between enclosing a list comprehension in square brackets and parentheses? \n",
    "\n",
    "Ans: Enclosing a list comprehension in square brackets returns a list.but where as enclosing a list comprehension in parentheses returns a generator object"
   ]
  },
  {
   "cell_type": "code",
   "execution_count": 2,
   "id": "51db92e8",
   "metadata": {},
   "outputs": [
    {
     "name": "stdout",
     "output_type": "stream",
     "text": [
      "<class 'list'>\n",
      "<class 'generator'>\n"
     ]
    }
   ],
   "source": [
    "#list comprehension\n",
    "\n",
    "list_1 = [i for i in range(1,11)]\n",
    "print(type(list_1))\n",
    "tuple_1 = (i for i in range(1,11))\n",
    "print(type(tuple_1))"
   ]
  },
  {
   "cell_type": "markdown",
   "id": "d385b79c",
   "metadata": {},
   "source": [
    "Q2) What is the relationship between generators and iterators?\n",
    "\n",
    "An iterator is an object which contains a countable number of values and it is used to iterate over iterable objects like list, tuples, sets, etc. Iterators are implemented using a class. It follows lazy evaluation where the evaluation of the expression will be on hold and stored in the memory until the item is called specifically which helps us to avoid repeated evaluation. As lazy evaluation is implemented, it requires only 1 memory location to process the value and when we are using a large dataset then, wastage of RAM space will be reduced the need to load the entire dataset at the same time will not be there.For an iterator: iter() keyword is used to create an iterator containing an iterable object.next() keyword is used to call the next element in the iterable object.\n",
    "\n",
    "Similarly Generators are an another way of creating iterators in a simple way where it uses the keyword yield statement instead of return statement in a defined function.Generators are implemented using a function. Just as iterators, generators also follow lazy evaluation. Here, the yield function returns the data without affecting or exiting the function. It will return a sequence of data in an iterable format where we need to iterate over the sequence to use the data as they won’t store the entire sequence in the memory."
   ]
  },
  {
   "cell_type": "markdown",
   "id": "ce2515d2",
   "metadata": {},
   "source": [
    "Q3) What are the signs that a function is a generator function?\n",
    "\n",
    " A generator function uses a yield statement instead of a return statement. A generator function will always return a iterable object called generator. where as a normal function can return a string/list/tuple/dict/NoneType ... etc"
   ]
  },
  {
   "cell_type": "markdown",
   "id": "1b437e79",
   "metadata": {},
   "source": [
    "Q4) What is the purpose of a yield statement?\n",
    "\n",
    "Yield is a keyword in Python that is used to return from a function without destroying the states of its local variable and when the function is called, the execution starts from the last yield statement. Any function that contains a yield keyword is termed a generator. Hence, yield is what makes a generator.The yield statement only pauses the execution of the function.yield statements are executed when the function resumes its execution."
   ]
  },
  {
   "cell_type": "markdown",
   "id": "68f484fc",
   "metadata": {},
   "source": [
    "Q5) What is the relationship between map calls and list comprehensions? Make a comparison and\n",
    "contrast between the two.\n",
    "\n",
    "1.List comprehension is more concise and easier to read as compared to map.\n",
    "2.List comprehension allows filtering. In map, we have no such facility. For example, to print all even numbers in range of 100, we can write [n for n in range(100) if n%2 == 0]. There is no alternate for it in map\n",
    "3.List comprehension are used when a list of results is required as map only returns a map object and does not return any list.\n",
    "4.List comprehension is faster than map when we need to evaluate expressions that are too long or complicated to express\n",
    "5.Map is faster in case of calling an already defined function (as no lambda is required)."
   ]
  }
 ],
 "metadata": {
  "kernelspec": {
   "display_name": "Python 3 (ipykernel)",
   "language": "python",
   "name": "python3"
  },
  "language_info": {
   "codemirror_mode": {
    "name": "ipython",
    "version": 3
   },
   "file_extension": ".py",
   "mimetype": "text/x-python",
   "name": "python",
   "nbconvert_exporter": "python",
   "pygments_lexer": "ipython3",
   "version": "3.9.12"
  }
 },
 "nbformat": 4,
 "nbformat_minor": 5
}
