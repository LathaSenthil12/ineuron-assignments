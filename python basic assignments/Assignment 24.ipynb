{
 "cells": [
  {
   "cell_type": "markdown",
   "id": "6901c305",
   "metadata": {},
   "source": [
    "Q1. What is the relationship between def statements and lambda expressions ?\n",
    "\n",
    "Ans. Def can hold multiple expressions while lambda is a uni-expression function.\n",
    "\n",
    "Def generates a function and designates a name to call it later. Lambda forms a function object and returns it.\n",
    "\n",
    "Def can have a return statement. Lambda can’t have return statements.\n",
    "\n",
    "Lambda supports to get used inside a list and dictionary."
   ]
  },
  {
   "cell_type": "markdown",
   "id": "884bae63",
   "metadata": {},
   "source": [
    "Q2. What is the benefit of lambda?\n",
    "Ans: The following are some of the benefits of lambda expressions:\n",
    "\n",
    "Can be used to create Nameless/Anonymous functions inside some complex functions if we are planning to use it only once.\n",
    "Moderate to small functions can be created in a single line\n",
    "Fuctions created using lambda expressions can be assigned to a variable and can be used by simply calling the variable"
   ]
  },
  {
   "cell_type": "markdown",
   "id": "1eeaa6dc",
   "metadata": {},
   "source": [
    "Q3. Compare and contrast map, filter, and reduce.\n",
    "Ans: The differences between map, filter and reduce are:\n",
    "\n",
    "map(): The map() function is a type of higher-order. This function takes another function as a parameter along with a sequence of iterables and returns an output after applying the function to each iterable present in the sequence.\n",
    "filter(): The filter() function is used to create an output list consisting of values for which the function returns true.\n",
    "reduce(): The reduce() function, as the name describes, applies a given function to the iterables and returns a single value"
   ]
  },
  {
   "cell_type": "code",
   "execution_count": 1,
   "id": "0fa88d8e",
   "metadata": {},
   "outputs": [
    {
     "name": "stdout",
     "output_type": "stream",
     "text": [
      "[True, False, False, True, False]\n",
      "['Apple', 'Apricot']\n",
      "16\n",
      "With an initial value: 26\n"
     ]
    }
   ],
   "source": [
    "#map with lambda\n",
    "fruit = [\"Apple\", \"Banana\", \"Pear\", \"Apricot\", \"Orange\"]\n",
    "map_object = map(lambda s: s[0] == \"A\", fruit)\n",
    "\n",
    "print(list(map_object))\n",
    "\n",
    "#filter with lambda\n",
    "filter_object = filter(lambda s: s[0] == \"A\", fruit)\n",
    "\n",
    "print(list(filter_object))\n",
    "\n",
    "#reduce\n",
    "from functools import reduce\n",
    "\n",
    "list = [2, 4, 7, 3]\n",
    "print(reduce(lambda x, y: x + y, list))\n",
    "print(\"With an initial value: \" + str(reduce(lambda x, y: x + y, list, 10)))"
   ]
  },
  {
   "cell_type": "markdown",
   "id": "dc0b17f2",
   "metadata": {},
   "source": [
    "Q4. What are function annotations, and how are they used?\n",
    "\n",
    "Ans: Function annotations provide a way of associating various parts of a function with arbitrary pythoncexpressions at compile time.\n",
    "Annotations of simple parameters def func(x: expression, y: expression = 20):\n",
    "Whereas the annotations for excess parameters are as − def func (**args: expression, **kwargs: expression):"
   ]
  },
  {
   "cell_type": "markdown",
   "id": "2f689f4f",
   "metadata": {},
   "source": [
    "Q5. What are recursive functions, and how are they used?\n",
    "\n",
    "Ans: A recursive function is a function that calls itself during its execution. The process may repeat several times, outputting the result and the end of each iteration."
   ]
  },
  {
   "cell_type": "markdown",
   "id": "ed0688c0",
   "metadata": {},
   "source": [
    "Q6. What are some general design guidelines for coding functions?\n",
    "\n",
    "Ans: Some of the general design guidelines for coding functions are:\n",
    "\n",
    "Always use a docstring to explain the functionality of the function\n",
    "avoid using or limited use of global variables\n",
    "Proper Identation to increase the code readability\n",
    "try to follow a naming convention for function names (pascalCase or camelCase) and stick with the same convention throughout the application.\n",
    "Avoid using digits while choosing a variable name\n",
    "try to use a name for the function which conveys the purpose of the function\n",
    "Local variables should be named using camelCase format (ex: localVariable) whereas Global variables names should be using PascalCase (ex:GlobalVariable).\n",
    "Constant should be represented in allcaps (ex:CONSTANT)."
   ]
  },
  {
   "cell_type": "markdown",
   "id": "12bd0a75",
   "metadata": {},
   "source": [
    "Q7. Name three or more ways that functions can communicate results to a caller.\n",
    "Ans: Some of the ways in which a function can communicate with the calling function is:\n",
    "\n",
    "print\n",
    "return\n",
    "yield"
   ]
  }
 ],
 "metadata": {
  "kernelspec": {
   "display_name": "Python 3 (ipykernel)",
   "language": "python",
   "name": "python3"
  },
  "language_info": {
   "codemirror_mode": {
    "name": "ipython",
    "version": 3
   },
   "file_extension": ".py",
   "mimetype": "text/x-python",
   "name": "python",
   "nbconvert_exporter": "python",
   "pygments_lexer": "ipython3",
   "version": "3.9.12"
  }
 },
 "nbformat": 4,
 "nbformat_minor": 5
}
