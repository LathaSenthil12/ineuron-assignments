{
  "nbformat": 4,
  "nbformat_minor": 0,
  "metadata": {
    "colab": {
      "provenance": []
    },
    "kernelspec": {
      "name": "python3",
      "display_name": "Python 3"
    },
    "language_info": {
      "name": "python"
    }
  },
  "cells": [
    {
      "cell_type": "code",
      "execution_count": 2,
      "metadata": {
        "colab": {
          "base_uri": "https://localhost:8080/"
        },
        "id": "S9mY1D1fUPxX",
        "outputId": "7cbc004a-27d9-42bd-af82-bd7218d0632f"
      },
      "outputs": [
        {
          "output_type": "stream",
          "name": "stdout",
          "text": [
            "[1982, 1983, 1984, 1985, 1986, 1987]\n"
          ]
        }
      ],
      "source": [
        "#1. Create a list called years_list, starting with the year of your birth, and each year thereafter until\n",
        "#the year of your fifth birthday. For example, if you were born in 1980. the list would be years_list =\n",
        "#[1980, 1981, 1982, 1983, 1984, 1985].\n",
        "\n",
        "year_list=[]\n",
        "yob=1982\n",
        "while yob<=1987:\n",
        "    year_list.append(yob)\n",
        "    yob+=1\n",
        "print(year_list)"
      ]
    },
    {
      "cell_type": "code",
      "source": [
        "#2. In which year in years_list was your third birthday? Remember, you were 0 years of age for your first year.\n",
        "year_list[3]"
      ],
      "metadata": {
        "colab": {
          "base_uri": "https://localhost:8080/"
        },
        "id": "57JUTHvZUzOU",
        "outputId": "5d8bef71-2e48-443a-c1be-2c191c1dda5b"
      },
      "execution_count": 3,
      "outputs": [
        {
          "output_type": "execute_result",
          "data": {
            "text/plain": [
              "1985"
            ]
          },
          "metadata": {},
          "execution_count": 3
        }
      ]
    },
    {
      "cell_type": "code",
      "source": [
        "#3.In the years list, which year were you the oldest?\n",
        "year_list[-1]"
      ],
      "metadata": {
        "colab": {
          "base_uri": "https://localhost:8080/"
        },
        "id": "BZ4SBxAlVCjV",
        "outputId": "8a1ccd8c-8e0a-44c5-80cd-3e739d1a2086"
      },
      "execution_count": 4,
      "outputs": [
        {
          "output_type": "execute_result",
          "data": {
            "text/plain": [
              "1987"
            ]
          },
          "metadata": {},
          "execution_count": 4
        }
      ]
    },
    {
      "cell_type": "code",
      "source": [
        "#4. Make a list called things with these three strings as elements: 'mozzarella','cinderella','salmonella'.\n",
        "things = [ele+'ella' for ele in ['mozzar','cinder','salmon']]\n",
        "print(things)"
      ],
      "metadata": {
        "colab": {
          "base_uri": "https://localhost:8080/"
        },
        "id": "OPJi_gdJVIS0",
        "outputId": "91215216-3f40-4b71-eb57-1c1ef18e5e06"
      },
      "execution_count": 5,
      "outputs": [
        {
          "output_type": "stream",
          "name": "stdout",
          "text": [
            "['mozzarella', 'cinderella', 'salmonella']\n"
          ]
        }
      ]
    },
    {
      "cell_type": "code",
      "source": [
        "#5. Capitalize the element in things that refers to a person and then print the list. Did it change the element in the list?\n",
        "import string\n",
        "\n",
        "things[1]=things[1].capitalize()\n",
        "print(things)\n"
      ],
      "metadata": {
        "colab": {
          "base_uri": "https://localhost:8080/"
        },
        "id": "ostjMuzeVrzE",
        "outputId": "5f0d3b8d-fc72-47e0-953c-1fba19c02a81"
      },
      "execution_count": 7,
      "outputs": [
        {
          "output_type": "stream",
          "name": "stdout",
          "text": [
            "['mozzarella', 'Cinderella', 'salmonella']\n"
          ]
        }
      ]
    },
    {
      "cell_type": "code",
      "source": [
        "#6. Make a surprise list with the elements Groucho,Chico and Harpo\n",
        "surprise_list = ['Groucho','Chico','Harpo']\n",
        "print(surprise_list)"
      ],
      "metadata": {
        "colab": {
          "base_uri": "https://localhost:8080/"
        },
        "id": "xFP4Wtx8WNVz",
        "outputId": "2b9de8f2-8def-4874-9014-e4532f006bc3"
      },
      "execution_count": 12,
      "outputs": [
        {
          "output_type": "stream",
          "name": "stdout",
          "text": [
            "['Groucho', 'Chico', 'Harpo']\n"
          ]
        }
      ]
    },
    {
      "cell_type": "code",
      "source": [
        "#7. Lowercase the last element of the surprise list, reverse it, and then capitalize it.\n",
        "surprise_list[-1].lower()[::-1].capitalize()"
      ],
      "metadata": {
        "colab": {
          "base_uri": "https://localhost:8080/",
          "height": 35
        },
        "id": "zLgE2vNTWf9b",
        "outputId": "a4f38667-2204-45db-f09e-997207555614"
      },
      "execution_count": 15,
      "outputs": [
        {
          "output_type": "execute_result",
          "data": {
            "text/plain": [
              "'Oprah'"
            ],
            "application/vnd.google.colaboratory.intrinsic+json": {
              "type": "string"
            }
          },
          "metadata": {},
          "execution_count": 15
        }
      ]
    },
    {
      "cell_type": "code",
      "source": [
        "#8. Make an English-to-French dictionary called e2f and print it. Here are your starter words: dog is\n",
        "#chien, cat is chat, and walrus is morse.\n",
        "\n",
        "e2f = {'dog':'chien','cat':'chat','walrus':'morse'}\n",
        "print(e2f)"
      ],
      "metadata": {
        "colab": {
          "base_uri": "https://localhost:8080/"
        },
        "id": "rE5n-fdDXKz8",
        "outputId": "ec9f2c62-febd-4ff8-dc44-823c7d76ba6e"
      },
      "execution_count": 16,
      "outputs": [
        {
          "output_type": "stream",
          "name": "stdout",
          "text": [
            "{'dog': 'chien', 'cat': 'chat', 'walrus': 'morse'}\n"
          ]
        }
      ]
    },
    {
      "cell_type": "code",
      "source": [
        "#9. Write the French word for walrus in your three-word dictionary e2f.\n",
        "e2f['walrus']"
      ],
      "metadata": {
        "colab": {
          "base_uri": "https://localhost:8080/",
          "height": 35
        },
        "id": "QfwXp8QGXWjD",
        "outputId": "ac0d7c66-c68b-4515-d67d-b5eabafe7e67"
      },
      "execution_count": 17,
      "outputs": [
        {
          "output_type": "execute_result",
          "data": {
            "text/plain": [
              "'morse'"
            ],
            "application/vnd.google.colaboratory.intrinsic+json": {
              "type": "string"
            }
          },
          "metadata": {},
          "execution_count": 17
        }
      ]
    },
    {
      "cell_type": "code",
      "source": [
        "#10. Make a French-to-English dictionary called f2e from e2f. Use the items method.\n",
        "f2e={key:value for value,key in e2f.items()}\n",
        "f2e"
      ],
      "metadata": {
        "colab": {
          "base_uri": "https://localhost:8080/"
        },
        "id": "GZLQU0teXiiD",
        "outputId": "fec8b75e-b63b-4468-87b3-a9696e142b01"
      },
      "execution_count": 18,
      "outputs": [
        {
          "output_type": "execute_result",
          "data": {
            "text/plain": [
              "{'chien': 'dog', 'chat': 'cat', 'morse': 'walrus'}"
            ]
          },
          "metadata": {},
          "execution_count": 18
        }
      ]
    },
    {
      "cell_type": "code",
      "source": [
        "#11. Print the English version of the French word chien using f2e.\n",
        "f2e['chien']"
      ],
      "metadata": {
        "colab": {
          "base_uri": "https://localhost:8080/",
          "height": 35
        },
        "id": "2xFCj3adYBPD",
        "outputId": "39eadc81-42e3-4892-9b37-8fe274564e4f"
      },
      "execution_count": 19,
      "outputs": [
        {
          "output_type": "execute_result",
          "data": {
            "text/plain": [
              "'dog'"
            ],
            "application/vnd.google.colaboratory.intrinsic+json": {
              "type": "string"
            }
          },
          "metadata": {},
          "execution_count": 19
        }
      ]
    },
    {
      "cell_type": "code",
      "source": [
        "#12. Make and print a set of English words from the keys in e2f.\n",
        "list(e2f.keys())"
      ],
      "metadata": {
        "colab": {
          "base_uri": "https://localhost:8080/"
        },
        "id": "jxOedWymYIP0",
        "outputId": "d2b2efd7-1a1a-47cc-e0b6-4e613c8520c4"
      },
      "execution_count": 21,
      "outputs": [
        {
          "output_type": "execute_result",
          "data": {
            "text/plain": [
              "['dog', 'cat', 'walrus']"
            ]
          },
          "metadata": {},
          "execution_count": 21
        }
      ]
    },
    {
      "cell_type": "code",
      "source": [
        "#13. Make a multilevel dictionary called life. Use these strings for the topmost keys: 'animals', 'plants', and 'other'. \n",
        "#Make the 'animals' key refer to another dictionary with the keys 'cats', 'octopi', and 'emus'.\n",
        "# Make the 'cats' key refer to a list of strings with the values 'Henri', 'Grumpy', and 'Lucy'.\n",
        "# Make all the other keys refer to empty dictionaries.\n",
        "\n",
        "life={'animals':{'cats':['Henri','Grumpy','Lucy'],\n",
        "                 'octopi':{},\n",
        "                 'emus':{}},\n",
        "      'plants':{},\n",
        "      'other':{}}\n",
        "life\n"
      ],
      "metadata": {
        "colab": {
          "base_uri": "https://localhost:8080/"
        },
        "id": "yMLC7K30YULb",
        "outputId": "3fbc0580-5280-404f-e572-7e3c6aa46176"
      },
      "execution_count": 22,
      "outputs": [
        {
          "output_type": "execute_result",
          "data": {
            "text/plain": [
              "{'animals': {'cats': ['Henri', 'Grumpy', 'Lucy'], 'octopi': {}, 'emus': {}},\n",
              " 'plants': {},\n",
              " 'other': {}}"
            ]
          },
          "metadata": {},
          "execution_count": 22
        }
      ]
    },
    {
      "cell_type": "code",
      "source": [
        "#14. Print the top-level keys of life.\n",
        "print(list(life.keys()))"
      ],
      "metadata": {
        "colab": {
          "base_uri": "https://localhost:8080/"
        },
        "id": "ZW0B6w63ZOrr",
        "outputId": "0536d473-4d15-45d3-ce3f-dbab61276c17"
      },
      "execution_count": 23,
      "outputs": [
        {
          "output_type": "stream",
          "name": "stdout",
          "text": [
            "['animals', 'plants', 'other']\n"
          ]
        }
      ]
    },
    {
      "cell_type": "code",
      "source": [
        "#15. Print the keys for life['animals'].\n",
        "print(list(life['animals'].keys()))"
      ],
      "metadata": {
        "colab": {
          "base_uri": "https://localhost:8080/"
        },
        "id": "GNUeSdYMZVsE",
        "outputId": "87f02ae9-10cd-487a-dbf2-b51a3f4477d5"
      },
      "execution_count": 25,
      "outputs": [
        {
          "output_type": "stream",
          "name": "stdout",
          "text": [
            "['cats', 'octopi', 'emus']\n"
          ]
        }
      ]
    },
    {
      "cell_type": "code",
      "source": [
        "#Print the values for life['animals']['cats']\n",
        "print(life['animals']['cats'])"
      ],
      "metadata": {
        "colab": {
          "base_uri": "https://localhost:8080/"
        },
        "id": "EivzLIGXZjxD",
        "outputId": "66a5cb9e-950e-45f5-a8c6-98fca23ea5e7"
      },
      "execution_count": 26,
      "outputs": [
        {
          "output_type": "stream",
          "name": "stdout",
          "text": [
            "['Henri', 'Grumpy', 'Lucy']\n"
          ]
        }
      ]
    }
  ]
}