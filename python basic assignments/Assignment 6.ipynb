{
 "cells": [
  {
   "cell_type": "markdown",
   "id": "857e7e8c",
   "metadata": {},
   "source": [
    "Q1.What are Escape characters ? and how do you use them ?\n",
    "\n",
    "Ans: Escape characters represent characters in string values that would otherwise be difficult or impossible to type into code. we can use the backslash character to escape a single character or symbol\n",
    "example: \\t, \\n, \\b"
   ]
  },
  {
   "cell_type": "markdown",
   "id": "d3324f13",
   "metadata": {},
   "source": [
    "Q2. What do the escape characters n and t stand for ?\n",
    "\n",
    "Ans: \\n is a newline, \\t is a tab"
   ]
  },
  {
   "cell_type": "markdown",
   "id": "39d56b31",
   "metadata": {},
   "source": [
    "Q3. What is the way to include backslash character in a string?\n",
    "\n",
    "Ans: The \\\\ escape character will represent the backslash character in a string"
   ]
  },
  {
   "cell_type": "markdown",
   "id": "af4ec4c5",
   "metadata": {},
   "source": [
    "Q4. The string \"Howl's Moving Castle\" is a correct value. Why isn't the single quote character in the word Howl's not escaped a problem ?\n",
    "\n",
    "Ans: The string \"Howl's Moving Castle\" escaped the problem because it is wrapped inside double quotes. if its wrapped inside single quotes then we have to use escape character \\' to show single quote in the final output\n",
    "'Howl\\'s Moving Castle' -> 'Howl's Moving Castle'"
   ]
  },
  {
   "cell_type": "markdown",
   "id": "2fce4d17",
   "metadata": {},
   "source": [
    "Q5. How do you write a string of newlines if you don't want to use the n character?\n",
    "\n",
    "Ans: Multiline string allow you to use newlines in string without the \\n escape character. We can create a multiline string using triple quotes \"\"\" or '''."
   ]
  },
  {
   "cell_type": "code",
   "execution_count": 1,
   "id": "8bf07ca7",
   "metadata": {},
   "outputs": [
    {
     "name": "stdout",
     "output_type": "stream",
     "text": [
      "\n",
      "aaaaaa\n",
      "bbbbbbb\n",
      "cccccc\n"
     ]
    }
   ],
   "source": [
    "sample=\"\"\"\n",
    "aaaaaa\n",
    "bbbbbbb\n",
    "cccccc\"\"\"\n",
    "\n",
    "print(sample)"
   ]
  },
  {
   "cell_type": "markdown",
   "id": "74782a05",
   "metadata": {},
   "source": [
    "Q6. What are the values of the given expressions ?\n",
    "'Hello, world!'[1]\n",
    "'Hello, world!'[0:5]\n",
    "'Hello, world!'[:5]\n",
    "'Hello, world!'[3:]\n",
    "\n",
    "Ans: The values for the given expressions are:\n",
    "'Hello, world!'[1] -> 'e'\n",
    "'Hello, world!'[0:5] -> 'Hello'\n",
    "'Hello, world!'[:5] -> 'Hello'\n",
    "'Hello, world!'[3:] -> 'lo, world!'"
   ]
  },
  {
   "cell_type": "code",
   "execution_count": 2,
   "id": "b1b962af",
   "metadata": {},
   "outputs": [
    {
     "name": "stdout",
     "output_type": "stream",
     "text": [
      "e\n",
      "Hello\n",
      "Hello\n",
      "lo, world!\n"
     ]
    }
   ],
   "source": [
    "print('Hello, world!'[1])\n",
    "print('Hello, world!'[0:5])\n",
    "print('Hello, world!'[:5])\n",
    "print('Hello, world!'[3:])"
   ]
  },
  {
   "cell_type": "markdown",
   "id": "df9a7913",
   "metadata": {},
   "source": [
    "Q7. What are the values of the following expressions ?\n",
    "'Hello'.upper()\n",
    "'Hello'.upper().isupper()\n",
    "'Hello'.upper().lower()\n",
    "\n",
    "Ans: The values for the given expressions are:\n",
    "'Hello'.upper() -> 'HELLO'\n",
    "'Hello'.upper().isupper() -> True\n",
    "'Hello'.upper().lower() -> 'hello'"
   ]
  },
  {
   "cell_type": "code",
   "execution_count": 3,
   "id": "fddda549",
   "metadata": {},
   "outputs": [
    {
     "name": "stdout",
     "output_type": "stream",
     "text": [
      "HELLO True hello\n"
     ]
    }
   ],
   "source": [
    "print('Hello'.upper(),\n",
    "'Hello'.upper().isupper(),\n",
    "'Hello'.upper().lower())"
   ]
  },
  {
   "cell_type": "markdown",
   "id": "629c90ca",
   "metadata": {},
   "source": [
    "Q8. What are the values of the following expressions ? \n",
    "'Remember, remember, the fifith of July.'.split()\n",
    "'-'.join('There can only one'.split())\n",
    "\n",
    "Ans: The values for the given expressions are:\n",
    "'Remember, remember, the fifith of July.'.split() -> ['Remember,', 'remember,', 'the', 'fifith', 'of', 'July.']\n",
    "'-'.join('There can only one'.split()) -> 'There-can-only-one'"
   ]
  },
  {
   "cell_type": "code",
   "execution_count": 7,
   "id": "c31db7da",
   "metadata": {},
   "outputs": [
    {
     "name": "stdout",
     "output_type": "stream",
     "text": [
      "['Remember,', 'remember,', 'the', 'fifth', 'of', 'July.']\n",
      "There-can-only-one\n"
     ]
    }
   ],
   "source": [
    "print('Remember, remember, the fifth of July.'.split())\n",
    "print('-'.join('There can only one'.split()))"
   ]
  },
  {
   "cell_type": "markdown",
   "id": "2a5b4ea5",
   "metadata": {},
   "source": [
    "Q9. What are the methods for right-justifying, left-justifying, and centering a string?\n",
    "\n",
    "Right justification -> string.rjust()\n",
    "left justification -> string.ljust()\n",
    "center justification -> string.center()"
   ]
  },
  {
   "cell_type": "code",
   "execution_count": 9,
   "id": "b709e698",
   "metadata": {},
   "outputs": [
    {
     "name": "stdout",
     "output_type": "stream",
     "text": [
      "*****************Latha Senthil\n",
      "Latha Senthil*****************\n",
      "********Latha Senthil*********\n"
     ]
    }
   ],
   "source": [
    "name=\"Latha Senthil\"\n",
    "print(name.rjust(30,'*'))\n",
    "print(name.ljust(30,'*'))\n",
    "print(name.center(30,'*'))"
   ]
  },
  {
   "cell_type": "markdown",
   "id": "9bf73f2e",
   "metadata": {},
   "source": [
    "Q10. What is the best way to remove whitespace characters from the start or end ?\n",
    "\n",
    "Ans: The lstrip() and rstrip() methods remove whitesapce characters from the left and right ends of a string respectively"
   ]
  }
 ],
 "metadata": {
  "kernelspec": {
   "display_name": "Python 3 (ipykernel)",
   "language": "python",
   "name": "python3"
  },
  "language_info": {
   "codemirror_mode": {
    "name": "ipython",
    "version": 3
   },
   "file_extension": ".py",
   "mimetype": "text/x-python",
   "name": "python",
   "nbconvert_exporter": "python",
   "pygments_lexer": "ipython3",
   "version": "3.9.12"
  }
 },
 "nbformat": 4,
 "nbformat_minor": 5
}
