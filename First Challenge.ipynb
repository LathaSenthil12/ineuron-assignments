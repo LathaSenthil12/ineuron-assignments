{
 "cells": [
  {
   "cell_type": "code",
   "execution_count": 1,
   "id": "2a1cbc7a",
   "metadata": {},
   "outputs": [
    {
     "name": "stdout",
     "output_type": "stream",
     "text": [
      "enter the value of n : 5\n",
      "*  \n",
      "* *  \n",
      "* * *  \n",
      "* * * *  \n",
      "* * * * *  \n"
     ]
    }
   ],
   "source": [
    "#Q1\n",
    "n = int(input(\"enter the value of n : \"))\n",
    "i=1\n",
    "while i<=n:\n",
    "    print(\"* \"*i,end=\" \")\n",
    "    print()\n",
    "    i+=1"
   ]
  },
  {
   "cell_type": "code",
   "execution_count": 2,
   "id": "b91126ce",
   "metadata": {},
   "outputs": [
    {
     "name": "stdout",
     "output_type": "stream",
     "text": [
      "A\n",
      "BC\n",
      "CDE\n",
      "DEFG\n",
      "EFGHI\n"
     ]
    }
   ],
   "source": [
    "#Q2\n",
    "for i in range(65,70):\n",
    "    k=i\n",
    "    # Inner loop\n",
    "    for j in range(65,i+1):\n",
    "        print(chr(k),end=\"\")\n",
    "        k=k+1\n",
    "    print()"
   ]
  },
  {
   "cell_type": "code",
   "execution_count": 3,
   "id": "23c6be62",
   "metadata": {},
   "outputs": [
    {
     "name": "stdout",
     "output_type": "stream",
     "text": [
      "42 45 48 51 54 57 60 63 66 69 72 75 78 81 84 87 90 93 96 99 102 105 108 111 114 117 120 123 126 129 132 135 138 141 144 147 150 153 156 159 162 165 168 171 174 177 180 183 186 189 192 195 198 201 204 207 210 213 216 219 222 225 228 231 234 237 240 243 246 249 252 255 258 261 264 267 270 273 276 279 282 285 288 291 294 297 300 303 306 309 312 315 318 321 324 327 330 333 336 339 342 345 348 351 354 357 360 363 366 369 372 375 378 381 384 387 390 393 396 399 "
     ]
    }
   ],
   "source": [
    "#numbers divisible by 3 between 40-400\n",
    "i=40\n",
    "while i<=400:\n",
    "    if i%3==0:\n",
    "        print(i,end=\" \")\n",
    "    i+=1"
   ]
  },
  {
   "cell_type": "code",
   "execution_count": 4,
   "id": "d16ed712",
   "metadata": {},
   "outputs": [
    {
     "name": "stdout",
     "output_type": "stream",
     "text": [
      "['o', 'i', 'a', 'i', 'e', 'e', 'i', 'e', 'e', 'e', 'e', 'e', 'a', 'u', 'o', 'e', 'o', 'a', 'i', 'a', 'u', 'a', 'e', 'I', 'e', 'i', 'i', 'o', 'o', 'e', 'a', 'i', 'e', 'o', 'e', 'e', 'a', 'a', 'i', 'i', 'i', 'e', 'u', 'e', 'o', 'i', 'i', 'i', 'a', 'i', 'e', 'a', 'i', 'o', 'o', 'i', 'a', 'i', 'a', 'e', 'a', 'a', 'a', 'e', 'o', 'e', 'e', 'I', 'u', 'o', 'u', 'i', 'e', 'o', 'a', 'i', 'a', 'a', 'i', 'i', 'u', 'i', 'u', 'u', 'e', 'a', 'i', 'u', 'a', 'o', 'e', 'u', 'a', 'o', 'e', 'o', 'i', 'e', 'e', 'a', 'u', 'i', 'o', 'a', 'o', 'a', 'i', 'I', 'i', 'o', 'e', 'e', 'i', 'e', 'a', 'a', 'a', 'e', 'i', 'e', 'i', 'u', 'e', 'a', 'u', 'a', 'e', 'u', 'e', 'o', 'i', 'o', 'e', 'e', 'i', 'e', 'a', 'a', 'i', 'a', 'u', 'i', 'o', 'a', 'o', 'u', 'e', 'a', 'o', 'i', 'o', 'o', 'i', 'e', 'a', 'e', 'a', 'a', 'u', 'e', 'o', 'o', 'e', 'A', 'o', 'a', 'i', 'a', 'u', 'a', 'e', 'a', 'i', 'e', 'e', 'a', 'e', 'i', 'i', 'a', 'o', 'o', 'a', 'e', 'e', 'a', 'e', 'i', 'a', 'i', 'o', 'u', 'e', 'e', 'e', 'a', 'u', 'e', 'u', 'a', 'i', 'o', 'e', 'e', 'i', 'o', 'e', 'e', 'e', 'i', 'a', 'a', 'e', 'o', 'e', 'i', 'o', 'e', 'e', 'e', 'e', 'o', 'u', 'i', 'a', 'U', 'i', 'o', 'e', 'u', 'o', 'o', 'e', 'e', 'a', 'e', 'i', 'a', 'a', 'a', 'o', 'e', 'i', 'i', 'o', 'a', 'i', 'o', 'o', 'e', 'e', 'a', 'a', 'o', 'a', 'i', 'e', 'i', 'e', 'a', 'i', 'e', 'e', 'i', 'o', 'o', 'a', 'i', 'o', 'i', 'u', 'e', 'i', 'e', 'i', 'o', 'i', 'o', 'o', 'i', 'e', 'a', 'a', 'o', 'e', 'o', 'e', 'o', 'o', 'u', 'a', 'o', 'a', 'i', 'a', 'u', 'a', 'e']\n"
     ]
    }
   ],
   "source": [
    "#q4 : Try to filter out all the vowels form below text by using while loop : \n",
    "string = \"\"\"Python is a high-level, interpreted, general-purpose programming language. Its design philosophy emphasizes code readability with the use of significant indentation.[32]\n",
    "\n",
    "Python is dynamically-typed and garbage-collected. It supports multiple programming paradigms, including structured (particularly procedural), object-oriented and functional programming. It is often described as a \"batteries included\" language due to its comprehensive standard library.[33][34]\n",
    "\n",
    "Guido van Rossum began working on Python in the late 1980s as a successor to the ABC programming language and first released it in 1991 as Python 0.9.0.[35] Python 2.0 was released in 2000 and introduced new features such as list comprehensions, cycle-detecting garbage collection, reference counting, and Unicode support. Python 3.0, released in 2008, was a major revision that is not completely backward-compatible with earlier versions. Python 2 was discontinued with version 2.7.18 in 2020.[36]\n",
    "\n",
    "Python consistently ranks as one of the most popular programming languagesc\"\"\" \n",
    "vowels=[]\n",
    "i=0\n",
    "while i<len(string):\n",
    "    if string[i]=='a' or string[i]=='A' or string[i]=='e' or string[i]=='E' or string[i]=='i' or string[i]=='I' or string[i]=='o' or string[i]=='O' or string[i]=='u' or string[i]=='U' :\n",
    "        vowels.append(string[i])\n",
    "    i+=1\n",
    "print(vowels)"
   ]
  },
  {
   "cell_type": "code",
   "execution_count": 5,
   "id": "ad53a2ef",
   "metadata": {},
   "outputs": [
    {
     "name": "stdout",
     "output_type": "stream",
     "text": [
      "2 4 6 8 10 12 14 16 18 20 22 24 26 28 30 32 34 36 38 40 42 44 46 48 50 52 54 56 58 60 62 64 66 68 70 72 74 76 78 80 82 84 86 88 90 92 94 96 98 100 102 104 106 108 110 112 114 116 118 120 122 124 126 128 130 132 134 136 138 140 142 144 146 148 150 152 154 156 158 160 162 164 166 168 170 172 174 176 178 180 182 184 186 188 190 192 194 196 198 200 202 204 206 208 210 212 214 216 218 220 222 224 226 228 230 232 234 236 238 240 242 244 246 248 250 252 254 256 258 260 262 264 266 268 270 272 274 276 278 280 282 284 286 288 290 292 294 296 298 300 302 304 306 308 310 312 314 316 318 320 322 324 326 328 330 332 334 336 338 340 342 344 346 348 350 352 354 356 358 360 362 364 366 368 370 372 374 376 378 380 382 384 386 388 390 392 394 396 398 400 402 404 406 408 410 412 414 416 418 420 422 424 426 428 430 432 434 436 438 440 442 444 446 448 450 452 454 456 458 460 462 464 466 468 470 472 474 476 478 480 482 484 486 488 490 492 494 496 498 500 502 504 506 508 510 512 514 516 518 520 522 524 526 528 530 532 534 536 538 540 542 544 546 548 550 552 554 556 558 560 562 564 566 568 570 572 574 576 578 580 582 584 586 588 590 592 594 596 598 600 602 604 606 608 610 612 614 616 618 620 622 624 626 628 630 632 634 636 638 640 642 644 646 648 650 652 654 656 658 660 662 664 666 668 670 672 674 676 678 680 682 684 686 688 690 692 694 696 698 700 702 704 706 708 710 712 714 716 718 720 722 724 726 728 730 732 734 736 738 740 742 744 746 748 750 752 754 756 758 760 762 764 766 768 770 772 774 776 778 780 782 784 786 788 790 792 794 796 798 800 802 804 806 808 810 812 814 816 818 820 822 824 826 828 830 832 834 836 838 840 842 844 846 848 850 852 854 856 858 860 862 864 866 868 870 872 874 876 878 880 882 884 886 888 890 892 894 896 898 900 902 904 906 908 910 912 914 916 918 920 922 924 926 928 930 932 934 936 938 940 942 944 946 948 950 952 954 956 958 960 962 964 966 968 970 972 974 976 978 980 982 984 986 988 990 992 994 996 998 1000 "
     ]
    }
   ],
   "source": [
    "#q5 : Try to generate all the even number between 1- 1000\n",
    "i=1\n",
    "while i<=1000:\n",
    "    if i%2==0:\n",
    "        print(i,end=\" \")\n",
    "    i+=1"
   ]
  },
  {
   "cell_type": "code",
   "execution_count": 6,
   "id": "b14750d0",
   "metadata": {},
   "outputs": [
    {
     "name": "stdout",
     "output_type": "stream",
     "text": [
      "*  \n",
      "* *  \n",
      "* * *  \n",
      "* * * *  \n",
      "* * * * *  \n",
      "* * * * * *  \n",
      "None\n"
     ]
    }
   ],
   "source": [
    "#q6 : Define a function for all the above problem statememnt  . \n",
    "\n",
    "#for * triangle\n",
    "\n",
    "def triangle(n):\n",
    "    i=1\n",
    "    while i<=n:\n",
    "        print(\"* \"*i,end=\" \")\n",
    "        print()\n",
    "        i+=1\n",
    "\n",
    "triangle(6)"
   ]
  },
  {
   "cell_type": "code",
   "execution_count": null,
   "id": "eb572a7f",
   "metadata": {},
   "outputs": [],
   "source": [
    "#for alphabet pyramid"
   ]
  },
  {
   "cell_type": "code",
   "execution_count": 8,
   "id": "bdb1325b",
   "metadata": {},
   "outputs": [
    {
     "name": "stdout",
     "output_type": "stream",
     "text": [
      "42 45 48 51 54 57 60 63 66 69 72 75 78 81 84 87 90 93 96 99 102 105 108 111 114 117 120 123 126 129 132 135 138 141 144 147 150 153 156 159 162 165 168 171 174 177 180 183 186 189 192 195 198 201 204 207 210 213 216 219 222 225 228 231 234 237 240 243 246 249 252 255 258 261 264 267 270 273 276 279 282 285 288 291 294 297 300 303 306 309 312 315 318 321 324 327 330 333 336 339 342 345 348 351 354 357 360 363 366 369 372 375 378 381 384 387 390 393 396 399 "
     ]
    }
   ],
   "source": [
    "#for numbers divisible by 3 between 40-400\n",
    "def three():\n",
    "    i=40\n",
    "    while i<=400:\n",
    "        if i%3==0:\n",
    "            print(i,end=\" \")\n",
    "        i+=1\n",
    "        \n",
    "three()"
   ]
  },
  {
   "cell_type": "code",
   "execution_count": 9,
   "id": "68b0a016",
   "metadata": {},
   "outputs": [
    {
     "name": "stdout",
     "output_type": "stream",
     "text": [
      "['o', 'i', 'a', 'i', 'e', 'e', 'i', 'e', 'e', 'e', 'e', 'e', 'a', 'u', 'o', 'e', 'o', 'a', 'i', 'a', 'u', 'a', 'e', 'I', 'e', 'i', 'i', 'o', 'o', 'e', 'a', 'i', 'e', 'o', 'e', 'e', 'a', 'a', 'i', 'i', 'i', 'e', 'u', 'e', 'o', 'i', 'i', 'i', 'a', 'i', 'e', 'a', 'i', 'o', 'o', 'i', 'a', 'i', 'a', 'e', 'a', 'a', 'a', 'e', 'o', 'e', 'e', 'I', 'u', 'o', 'u', 'i', 'e', 'o', 'a', 'i', 'a', 'a', 'i', 'i', 'u', 'i', 'u', 'u', 'e', 'a', 'i', 'u', 'a', 'o', 'e', 'u', 'a', 'o', 'e', 'o', 'i', 'e', 'e', 'a', 'u', 'i', 'o', 'a', 'o', 'a', 'i', 'I', 'i', 'o', 'e', 'e', 'i', 'e', 'a', 'a', 'a', 'e', 'i', 'e', 'i', 'u', 'e', 'a', 'u', 'a', 'e', 'u', 'e', 'o', 'i', 'o', 'e', 'e', 'i', 'e', 'a', 'a', 'i', 'a', 'u', 'i', 'o', 'a', 'o', 'u', 'e', 'a', 'o', 'i', 'o', 'o', 'i', 'e', 'a', 'e', 'a', 'a', 'u', 'e', 'o', 'o', 'e', 'A', 'o', 'a', 'i', 'a', 'u', 'a', 'e', 'a', 'i', 'e', 'e', 'a', 'e', 'i', 'i', 'a', 'o', 'o', 'a', 'e', 'e', 'a', 'e', 'i', 'a', 'i', 'o', 'u', 'e', 'e', 'e', 'a', 'u', 'e', 'u', 'a', 'i', 'o', 'e', 'e', 'i', 'o', 'e', 'e', 'e', 'i', 'a', 'a', 'e', 'o', 'e', 'i', 'o', 'e', 'e', 'e', 'e', 'o', 'u', 'i', 'a', 'U', 'i', 'o', 'e', 'u', 'o', 'o', 'e', 'e', 'a', 'e', 'i', 'a', 'a', 'a', 'o', 'e', 'i', 'i', 'o', 'a', 'i', 'o', 'o', 'e', 'e', 'a', 'a', 'o', 'a', 'i', 'e', 'i', 'e', 'a', 'i', 'e', 'e', 'i', 'o', 'o', 'a', 'i', 'o', 'i', 'u', 'e', 'i', 'e', 'i', 'o', 'i', 'o', 'o', 'i', 'e', 'a', 'a', 'o', 'e', 'o', 'e', 'o', 'o', 'u', 'a', 'o', 'a', 'i', 'a', 'u', 'a', 'e']\n"
     ]
    }
   ],
   "source": [
    "# for filtering the vowels\n",
    "string = \"\"\"Python is a high-level, interpreted, general-purpose programming language. Its design philosophy emphasizes code readability with the use of significant indentation.[32]\n",
    "\n",
    "Python is dynamically-typed and garbage-collected. It supports multiple programming paradigms, including structured (particularly procedural), object-oriented and functional programming. It is often described as a \"batteries included\" language due to its comprehensive standard library.[33][34]\n",
    "\n",
    "Guido van Rossum began working on Python in the late 1980s as a successor to the ABC programming language and first released it in 1991 as Python 0.9.0.[35] Python 2.0 was released in 2000 and introduced new features such as list comprehensions, cycle-detecting garbage collection, reference counting, and Unicode support. Python 3.0, released in 2008, was a major revision that is not completely backward-compatible with earlier versions. Python 2 was discontinued with version 2.7.18 in 2020.[36]\n",
    "\n",
    "Python consistently ranks as one of the most popular programming languagesc\"\"\" \n",
    "vowels=[]\n",
    "\n",
    "def filter_vowels(s):\n",
    "    i=0\n",
    "    while i<len(string):\n",
    "        if string[i]=='a' or string[i]=='A' or string[i]=='e' or string[i]=='E' or string[i]=='i' or string[i]=='I' or string[i]=='o' or string[i]=='O' or string[i]=='u' or string[i]=='U' :\n",
    "            vowels.append(string[i])\n",
    "        i+=1\n",
    "    print(vowels)\n",
    "    \n",
    "filter_vowels(string)\n",
    "    "
   ]
  },
  {
   "cell_type": "code",
   "execution_count": 11,
   "id": "d5f71813",
   "metadata": {},
   "outputs": [
    {
     "name": "stdout",
     "output_type": "stream",
     "text": [
      "2 4 6 8 10 12 14 16 18 20 22 24 26 28 30 32 34 36 38 40 42 44 46 48 50 52 54 56 58 60 62 64 66 68 70 72 74 76 78 80 82 84 86 88 90 92 94 96 98 100 102 104 106 108 110 112 114 116 118 120 122 124 126 128 130 132 134 136 138 140 142 144 146 148 150 152 154 156 158 160 162 164 166 168 170 172 174 176 178 180 182 184 186 188 190 192 194 196 198 200 202 204 206 208 210 212 214 216 218 220 222 224 226 228 230 232 234 236 238 240 242 244 246 248 250 252 254 256 258 260 262 264 266 268 270 272 274 276 278 280 282 284 286 288 290 292 294 296 298 300 302 304 306 308 310 312 314 316 318 320 322 324 326 328 330 332 334 336 338 340 342 344 346 348 350 352 354 356 358 360 362 364 366 368 370 372 374 376 378 380 382 384 386 388 390 392 394 396 398 400 402 404 406 408 410 412 414 416 418 420 422 424 426 428 430 432 434 436 438 440 442 444 446 448 450 452 454 456 458 460 462 464 466 468 470 472 474 476 478 480 482 484 486 488 490 492 494 496 498 500 502 504 506 508 510 512 514 516 518 520 522 524 526 528 530 532 534 536 538 540 542 544 546 548 550 552 554 556 558 560 562 564 566 568 570 572 574 576 578 580 582 584 586 588 590 592 594 596 598 600 602 604 606 608 610 612 614 616 618 620 622 624 626 628 630 632 634 636 638 640 642 644 646 648 650 652 654 656 658 660 662 664 666 668 670 672 674 676 678 680 682 684 686 688 690 692 694 696 698 700 702 704 706 708 710 712 714 716 718 720 722 724 726 728 730 732 734 736 738 740 742 744 746 748 750 752 754 756 758 760 762 764 766 768 770 772 774 776 778 780 782 784 786 788 790 792 794 796 798 800 802 804 806 808 810 812 814 816 818 820 822 824 826 828 830 832 834 836 838 840 842 844 846 848 850 852 854 856 858 860 862 864 866 868 870 872 874 876 878 880 882 884 886 888 890 892 894 896 898 900 902 904 906 908 910 912 914 916 918 920 922 924 926 928 930 932 934 936 938 940 942 944 946 948 950 952 954 956 958 960 962 964 966 968 970 972 974 976 978 980 982 984 986 988 990 992 994 996 998 1000 "
     ]
    }
   ],
   "source": [
    "# for even numbers 1-1000\n",
    "def evens():\n",
    "    i=1\n",
    "    while i<=1000:\n",
    "        if i%2==0:\n",
    "            print(i,end=\" \")\n",
    "        i+=1\n",
    "            \n",
    "evens()"
   ]
  },
  {
   "cell_type": "code",
   "execution_count": 16,
   "id": "ae41fe80",
   "metadata": {},
   "outputs": [
    {
     "name": "stdout",
     "output_type": "stream",
     "text": [
      "18 : 36 : 11\n"
     ]
    }
   ],
   "source": [
    "#q7 : write a code to get a time of your system\n",
    "import datetime\n",
    "\n",
    "curr_time=datetime.datetime.now().time()\n",
    "print(curr_time.hour,\":\",curr_time.minute,\":\", curr_time.second)"
   ]
  },
  {
   "cell_type": "code",
   "execution_count": 17,
   "id": "a7b45745",
   "metadata": {},
   "outputs": [
    {
     "name": "stdout",
     "output_type": "stream",
     "text": [
      "29 : 5 : 2022\n"
     ]
    }
   ],
   "source": [
    "#q8 : Write a code to fetch date form your system \n",
    "curr_date=datetime.datetime.now().date()\n",
    "print(curr_date.day,\":\",curr_date.month,\":\", curr_date.year)"
   ]
  },
  {
   "cell_type": "code",
   "execution_count": 1,
   "id": "8d747762",
   "metadata": {},
   "outputs": [
    {
     "name": "stdout",
     "output_type": "stream",
     "text": [
      "Type your password and press enter: P@ssw0rd@123\n"
     ]
    },
    {
     "ename": "SMTPAuthenticationError",
     "evalue": "(535, b'5.7.8 Username and Password not accepted. Learn more at\\n5.7.8  https://support.google.com/mail/?p=BadCredentials b2-20020a170902b60200b0016203a92865sm7308028pls.107 - gsmtp')",
     "output_type": "error",
     "traceback": [
      "\u001b[1;31m---------------------------------------------------------------------------\u001b[0m",
      "\u001b[1;31mSMTPAuthenticationError\u001b[0m                   Traceback (most recent call last)",
      "Input \u001b[1;32mIn [1]\u001b[0m, in \u001b[0;36m<cell line: 15>\u001b[1;34m()\u001b[0m\n\u001b[0;32m     14\u001b[0m context \u001b[38;5;241m=\u001b[39m ssl\u001b[38;5;241m.\u001b[39mcreate_default_context()\n\u001b[0;32m     15\u001b[0m \u001b[38;5;28;01mwith\u001b[39;00m smtplib\u001b[38;5;241m.\u001b[39mSMTP_SSL(smtp_server, port, context\u001b[38;5;241m=\u001b[39mcontext) \u001b[38;5;28;01mas\u001b[39;00m server:\n\u001b[1;32m---> 16\u001b[0m     \u001b[43mserver\u001b[49m\u001b[38;5;241;43m.\u001b[39;49m\u001b[43mlogin\u001b[49m\u001b[43m(\u001b[49m\u001b[43msender_email\u001b[49m\u001b[43m,\u001b[49m\u001b[43m \u001b[49m\u001b[43mpassword\u001b[49m\u001b[43m)\u001b[49m\n\u001b[0;32m     17\u001b[0m     server\u001b[38;5;241m.\u001b[39msendmail(sender_email, receiver_email, message)\n",
      "File \u001b[1;32m~\\anaconda3\\lib\\smtplib.py:750\u001b[0m, in \u001b[0;36mSMTP.login\u001b[1;34m(self, user, password, initial_response_ok)\u001b[0m\n\u001b[0;32m    747\u001b[0m         last_exception \u001b[38;5;241m=\u001b[39m e\n\u001b[0;32m    749\u001b[0m \u001b[38;5;66;03m# We could not login successfully.  Return result of last attempt.\u001b[39;00m\n\u001b[1;32m--> 750\u001b[0m \u001b[38;5;28;01mraise\u001b[39;00m last_exception\n",
      "File \u001b[1;32m~\\anaconda3\\lib\\smtplib.py:739\u001b[0m, in \u001b[0;36mSMTP.login\u001b[1;34m(self, user, password, initial_response_ok)\u001b[0m\n\u001b[0;32m    737\u001b[0m method_name \u001b[38;5;241m=\u001b[39m \u001b[38;5;124m'\u001b[39m\u001b[38;5;124mauth_\u001b[39m\u001b[38;5;124m'\u001b[39m \u001b[38;5;241m+\u001b[39m authmethod\u001b[38;5;241m.\u001b[39mlower()\u001b[38;5;241m.\u001b[39mreplace(\u001b[38;5;124m'\u001b[39m\u001b[38;5;124m-\u001b[39m\u001b[38;5;124m'\u001b[39m, \u001b[38;5;124m'\u001b[39m\u001b[38;5;124m_\u001b[39m\u001b[38;5;124m'\u001b[39m)\n\u001b[0;32m    738\u001b[0m \u001b[38;5;28;01mtry\u001b[39;00m:\n\u001b[1;32m--> 739\u001b[0m     (code, resp) \u001b[38;5;241m=\u001b[39m \u001b[38;5;28;43mself\u001b[39;49m\u001b[38;5;241;43m.\u001b[39;49m\u001b[43mauth\u001b[49m\u001b[43m(\u001b[49m\n\u001b[0;32m    740\u001b[0m \u001b[43m        \u001b[49m\u001b[43mauthmethod\u001b[49m\u001b[43m,\u001b[49m\u001b[43m \u001b[49m\u001b[38;5;28;43mgetattr\u001b[39;49m\u001b[43m(\u001b[49m\u001b[38;5;28;43mself\u001b[39;49m\u001b[43m,\u001b[49m\u001b[43m \u001b[49m\u001b[43mmethod_name\u001b[49m\u001b[43m)\u001b[49m\u001b[43m,\u001b[49m\n\u001b[0;32m    741\u001b[0m \u001b[43m        \u001b[49m\u001b[43minitial_response_ok\u001b[49m\u001b[38;5;241;43m=\u001b[39;49m\u001b[43minitial_response_ok\u001b[49m\u001b[43m)\u001b[49m\n\u001b[0;32m    742\u001b[0m     \u001b[38;5;66;03m# 235 == 'Authentication successful'\u001b[39;00m\n\u001b[0;32m    743\u001b[0m     \u001b[38;5;66;03m# 503 == 'Error: already authenticated'\u001b[39;00m\n\u001b[0;32m    744\u001b[0m     \u001b[38;5;28;01mif\u001b[39;00m code \u001b[38;5;129;01min\u001b[39;00m (\u001b[38;5;241m235\u001b[39m, \u001b[38;5;241m503\u001b[39m):\n",
      "File \u001b[1;32m~\\anaconda3\\lib\\smtplib.py:662\u001b[0m, in \u001b[0;36mSMTP.auth\u001b[1;34m(self, mechanism, authobject, initial_response_ok)\u001b[0m\n\u001b[0;32m    660\u001b[0m \u001b[38;5;28;01mif\u001b[39;00m code \u001b[38;5;129;01min\u001b[39;00m (\u001b[38;5;241m235\u001b[39m, \u001b[38;5;241m503\u001b[39m):\n\u001b[0;32m    661\u001b[0m     \u001b[38;5;28;01mreturn\u001b[39;00m (code, resp)\n\u001b[1;32m--> 662\u001b[0m \u001b[38;5;28;01mraise\u001b[39;00m SMTPAuthenticationError(code, resp)\n",
      "\u001b[1;31mSMTPAuthenticationError\u001b[0m: (535, b'5.7.8 Username and Password not accepted. Learn more at\\n5.7.8  https://support.google.com/mail/?p=BadCredentials b2-20020a170902b60200b0016203a92865sm7308028pls.107 - gsmtp')"
     ]
    }
   ],
   "source": [
    "#q9 : Write a code to send a mail to your friend \n",
    "import smtplib, ssl\n",
    "\n",
    "port = 465  # For SSL\n",
    "smtp_server = \"smtp.gmail.com\"\n",
    "sender_email = \"etest2838@gmail.com\"  # Enter your address\n",
    "receiver_email = \"lathasenthil12@gmail.com\"  # Enter receiver address\n",
    "password = input(\"Type your password and press enter: \")\n",
    "message = \"\"\"\\\n",
    "Subject: Hi there\n",
    "\n",
    "Sending an email thru python code\"\"\"\n",
    "\n",
    "context = ssl.create_default_context()\n",
    "with smtplib.SMTP_SSL(smtp_server, port, context=context) as server:\n",
    "    server.login(sender_email, password)\n",
    "    server.sendmail(sender_email, receiver_email, message)"
   ]
  },
  {
   "cell_type": "code",
   "execution_count": 3,
   "id": "0a31b506",
   "metadata": {},
   "outputs": [
    {
     "name": "stdout",
     "output_type": "stream",
     "text": [
      "Set hour: 7\n",
      "Set minutes: 8\n",
      "am or pm? pm\n",
      "Waiting for time: 7:8 pm\n",
      "\n",
      "It's the time!\n"
     ]
    }
   ],
   "source": [
    "#q10 : write a code to trigger alarm for you at scheduled time\n",
    "import datetime\n",
    "import winsound  \n",
    "alarm_hour = int(input(\"Set hour: \"))\n",
    "alarm_minutes = int(input(\"Set minutes: \"))\n",
    "am_pm = input(\"am or pm? \")\n",
    "\n",
    "print(f\"Waiting for time: {alarm_hour}:{alarm_minutes} {am_pm}\")\n",
    "\n",
    "\n",
    "if am_pm == 'pm':  # to convert pm to military time\n",
    "    alarm_hour += 12\n",
    "\n",
    "elif alarm_hour == 12 and am_pm == 'am':  # to convert 12am to military time\n",
    "    alarm_hour -= 12\n",
    "\n",
    "else:\n",
    "    pass\n",
    "\n",
    "while True:  \n",
    "    if alarm_hour == datetime.datetime.now().hour and alarm_minutes == datetime.datetime.now().minute:\n",
    "\n",
    "        print(\"\\nIt's the time!\")\n",
    "        for i in range(1,10):\n",
    "            winsound.Beep(1000, 1000)\n",
    "        break"
   ]
  },
  {
   "cell_type": "code",
   "execution_count": 4,
   "id": "c45a4b84",
   "metadata": {},
   "outputs": [
    {
     "name": "stdout",
     "output_type": "stream",
     "text": [
      "Your Computer Name is:LAPTOP-B2OCGH25\n",
      "Your Computer IP Address is:192.168.1.9\n"
     ]
    }
   ],
   "source": [
    "#q11 : write a code to check ip address of your system\n",
    "import socket   \n",
    "hostname = socket.gethostname()   \n",
    "ip = socket.gethostbyname(hostname)   \n",
    "print(\"Your Computer Name is:\" + hostname)   \n",
    "print(\"Your Computer IP Address is:\" +ip) "
   ]
  },
  {
   "cell_type": "code",
   "execution_count": null,
   "id": "940ea4d3",
   "metadata": {},
   "outputs": [],
   "source": [
    "#q12 : Write a code to check a perticular installation in your system"
   ]
  },
  {
   "cell_type": "code",
   "execution_count": 18,
   "id": "cc4097fb",
   "metadata": {},
   "outputs": [
    {
     "name": "stdout",
     "output_type": "stream",
     "text": [
      "Requirement already satisfied: gTTS in c:\\users\\latha\\anaconda3\\lib\\site-packages (2.2.4)\n",
      "Requirement already satisfied: six in c:\\users\\latha\\anaconda3\\lib\\site-packages (from gTTS) (1.16.0)\n",
      "Requirement already satisfied: requests in c:\\users\\latha\\anaconda3\\lib\\site-packages (from gTTS) (2.27.1)\n",
      "Requirement already satisfied: click in c:\\users\\latha\\anaconda3\\lib\\site-packages (from gTTS) (8.0.4)\n",
      "Requirement already satisfied: colorama in c:\\users\\latha\\anaconda3\\lib\\site-packages (from click->gTTS) (0.4.4)\n",
      "Requirement already satisfied: idna<4,>=2.5 in c:\\users\\latha\\anaconda3\\lib\\site-packages (from requests->gTTS) (3.3)\n",
      "Requirement already satisfied: charset-normalizer~=2.0.0 in c:\\users\\latha\\anaconda3\\lib\\site-packages (from requests->gTTS) (2.0.4)\n",
      "Requirement already satisfied: certifi>=2017.4.17 in c:\\users\\latha\\anaconda3\\lib\\site-packages (from requests->gTTS) (2021.10.8)\n",
      "Requirement already satisfied: urllib3<1.27,>=1.21.1 in c:\\users\\latha\\anaconda3\\lib\\site-packages (from requests->gTTS) (1.26.9)\n",
      "Requirement already satisfied: gTTS in c:\\users\\latha\\anaconda3\\lib\\site-packages (2.2.4)\n",
      "Requirement already satisfied: pyttsx3 in c:\\users\\latha\\anaconda3\\lib\\site-packages (2.90)\n",
      "Requirement already satisfied: playsound in c:\\users\\latha\\anaconda3\\lib\\site-packages (1.3.0)\n",
      "Requirement already satisfied: requests in c:\\users\\latha\\anaconda3\\lib\\site-packages (from gTTS) (2.27.1)\n",
      "Requirement already satisfied: six in c:\\users\\latha\\anaconda3\\lib\\site-packages (from gTTS) (1.16.0)\n",
      "Requirement already satisfied: click in c:\\users\\latha\\anaconda3\\lib\\site-packages (from gTTS) (8.0.4)\n",
      "Requirement already satisfied: comtypes in c:\\users\\latha\\anaconda3\\lib\\site-packages (from pyttsx3) (1.1.10)\n",
      "Requirement already satisfied: pypiwin32 in c:\\users\\latha\\anaconda3\\lib\\site-packages (from pyttsx3) (223)\n",
      "Requirement already satisfied: pywin32 in c:\\users\\latha\\anaconda3\\lib\\site-packages (from pyttsx3) (302)\n",
      "Requirement already satisfied: colorama in c:\\users\\latha\\anaconda3\\lib\\site-packages (from click->gTTS) (0.4.4)\n",
      "Requirement already satisfied: urllib3<1.27,>=1.21.1 in c:\\users\\latha\\anaconda3\\lib\\site-packages (from requests->gTTS) (1.26.9)\n",
      "Requirement already satisfied: idna<4,>=2.5 in c:\\users\\latha\\anaconda3\\lib\\site-packages (from requests->gTTS) (3.3)\n",
      "Requirement already satisfied: certifi>=2017.4.17 in c:\\users\\latha\\anaconda3\\lib\\site-packages (from requests->gTTS) (2021.10.8)\n",
      "Requirement already satisfied: charset-normalizer~=2.0.0 in c:\\users\\latha\\anaconda3\\lib\\site-packages (from requests->gTTS) (2.0.4)\n"
     ]
    }
   ],
   "source": [
    "#q13 : Write a code to convert any text in to voice \n",
    "!pip install gTTS\n",
    "!pip3 install gTTS pyttsx3 playsound\n",
    "\n",
    "import gtts\n",
    "from playsound import playsound\n",
    "\n",
    "text=gtts.gTTS(\"Sample text for text to speech\")\n",
    "text.save(\"sample.mp3\")\n",
    "playsound(\"C:\\\\Users\\\\latha\\\\sample.mp3\")\n",
    "  "
   ]
  },
  {
   "cell_type": "code",
   "execution_count": 19,
   "id": "988e09fd",
   "metadata": {},
   "outputs": [
    {
     "data": {
      "text/plain": [
       "36"
      ]
     },
     "execution_count": 19,
     "metadata": {},
     "output_type": "execute_result"
    }
   ],
   "source": [
    "#q14 : you have to write a fun which will take string and return a len of it without using a inbuilt fun len\n",
    "\n",
    "def find_len(s):\n",
    "    n=0\n",
    "    for i in s:\n",
    "        n+=1\n",
    "    return n\n",
    "\n",
    "find_len(\"Lets check the length of this string\")"
   ]
  },
  {
   "cell_type": "code",
   "execution_count": 22,
   "id": "47e14102",
   "metadata": {},
   "outputs": [
    {
     "name": "stdout",
     "output_type": "stream",
     "text": [
      "5\n",
      "5\n",
      "5\n",
      "3\n"
     ]
    }
   ],
   "source": [
    "#q15 :write a fun which will be able to print an index of all premitive element which you will pass \n",
    "def get_length(element):\n",
    "    return len(element)\n",
    "print(get_length([1,2,3,4,5]))\n",
    "print(get_length((1,2,3,4,5)))\n",
    "print(get_length({1,2,3,4,5}))\n",
    "print(get_length({1:2,3:4,5:0}))"
   ]
  },
  {
   "cell_type": "code",
   "execution_count": 23,
   "id": "4004a880",
   "metadata": {},
   "outputs": [
    {
     "data": {
      "text/plain": [
       "['a', 'b', 'c', 'a1', 'b1']"
      ]
     },
     "execution_count": 23,
     "metadata": {},
     "output_type": "execute_result"
    }
   ],
   "source": [
    "#q16 : Write a fun which will take input as a dict and give me out as a list of all the values even in case of 2 level nesting it should work . \n",
    "values_list=[]\n",
    "def get_values(d):\n",
    "    for key,value in d.items():\n",
    "        if type(value)==dict:\n",
    "            for val in value.values():\n",
    "                values_list.append(val)\n",
    "        else:\n",
    "            values_list.append(value)\n",
    "    return values_list\n",
    "\n",
    "get_values({1:\"a\",2:\"b\", 3:\"c\",4:{\"d\":\"a1\",\"e\":\"b1\"}})\n",
    "                \n",
    "        "
   ]
  },
  {
   "cell_type": "code",
   "execution_count": 26,
   "id": "65bfffcc",
   "metadata": {},
   "outputs": [
    {
     "data": {
      "text/plain": [
       "[1, 2, 3, 4, 11, 12, 13, 14, 15, 16]"
      ]
     },
     "execution_count": 26,
     "metadata": {},
     "output_type": "execute_result"
    }
   ],
   "source": [
    "#q17 : write a function whihc will take multiple list as a input and give me concatnation of all the element as and output\n",
    "\n",
    "def concat_list(lst,lst2):\n",
    "    return lst+lst2\n",
    "\n",
    "concat_list([1,2,3,4],[11,12,13,14,15,16])"
   ]
  },
  {
   "cell_type": "code",
   "execution_count": 28,
   "id": "d27521e4",
   "metadata": {},
   "outputs": [
    {
     "name": "stdout",
     "output_type": "stream",
     "text": [
      "Please enter the dirctory name with full path :  D:\\fitness\n",
      "Files :\n",
      "____________\n",
      "40 MINUTE FAT BURNING HIIT AT HOME WORKOUT! 🔥BURN 515 CALORIES! 🔥with Sydney Cummings.mp4\n",
      "Best Full Body Workout to Lose Fat 💪🏽20 mins _ 28 Day Challenge.mp4\n",
      "Do This Everyday To Lose Weight - 2 Weeks Shred Challenge.mp4\n"
     ]
    }
   ],
   "source": [
    "#q18 : Write a function which will whould return list of all the file name from a directory .\n",
    "import os\n",
    "\n",
    "def get_filesdir(pathdir):\n",
    "    files_list=os.listdir(pathdir)\n",
    "    print(\"Files :\\n____________\")\n",
    "    for f in files_list:\n",
    "        print(f)\n",
    "        \n",
    "path=input(\"Please enter the directory name with full path :  \")\n",
    "get_filesdir(path)"
   ]
  },
  {
   "cell_type": "code",
   "execution_count": 30,
   "id": "7b7364bf",
   "metadata": {},
   "outputs": [
    {
     "name": "stdout",
     "output_type": "stream",
     "text": [
      "Requirement already satisfied: Pillow in c:\\users\\latha\\anaconda3\\lib\\site-packages (9.0.1)\n",
      "Please enter the name of the image to be displayed : C:\\Users\\latha\\OneDrive\\Pictures\\purple.jpg\n"
     ]
    }
   ],
   "source": [
    "#q19 : write a function whihc will be able to read a image file and show it to you .\n",
    "!pip install Pillow\n",
    "from PIL import Image\n",
    "\n",
    "def read_display_image(filename):\n",
    "    image=Image.open(filename)\n",
    "    image.show()\n",
    "    \n",
    "filename=input(\"Please enter the name of the image to be displayed : \")\n",
    "read_display_image(filename)"
   ]
  },
  {
   "cell_type": "code",
   "execution_count": 33,
   "id": "b9ad193f",
   "metadata": {},
   "outputs": [
    {
     "name": "stdout",
     "output_type": "stream",
     "text": [
      "Requirement already satisfied: PyPDF2 in c:\\users\\latha\\anaconda3\\lib\\site-packages (1.28.4)\n",
      "Enter filename1 : D:\\p1.pdf\n",
      "Enter filename2 : D:\\p2.pdf\n"
     ]
    },
    {
     "name": "stderr",
     "output_type": "stream",
     "text": [
      "PdfReadWarning: Superfluous whitespace found in object header b'4' b'0' [_reader.py:1250]\n",
      "PdfReadWarning: Superfluous whitespace found in object header b'5' b'0' [_reader.py:1250]\n"
     ]
    }
   ],
   "source": [
    "#q20 : write a function by which you will be able to append two PDF files .\n",
    "!pip install PyPDF2\n",
    "\n",
    "import PyPDF2 \n",
    "\n",
    "def merge_pdf(f1,f2):\n",
    "    merged_file = PyPDF2.PdfFileMerger()\n",
    "    merged_file.append(PyPDF2.PdfFileReader(f1, 'rb'))\n",
    "    merged_file.append(PyPDF2.PdfFileReader(f2, 'rb'))\n",
    "    merged_file.write(\"newfile.pdf\")\n",
    "    \n",
    "file1=input(\"Enter filename1 : \")\n",
    "file2=input(\"Enter filename2 : \")\n",
    "merge_pdf(file1,file2)"
   ]
  },
  {
   "cell_type": "code",
   "execution_count": 36,
   "id": "e76ea949",
   "metadata": {},
   "outputs": [
    {
     "name": "stdout",
     "output_type": "stream",
     "text": [
      "Please enter the filetype : with extention like c:\\test\\*.docx  :  D:\\*.docx\n"
     ]
    },
    {
     "data": {
      "text/plain": [
       "['D:\\\\p1.docx', 'D:\\\\p2.docx']"
      ]
     },
     "execution_count": 36,
     "metadata": {},
     "output_type": "execute_result"
    }
   ],
   "source": [
    "#q21 : write a function which can help you to filter only word file from a directory \n",
    "\n",
    "import glob\n",
    "def get_wordfile(filewithext):\n",
    "    return glob.glob(filewithext)\n",
    "    \n",
    "filetype=input(\"Please enter the filetype : with extention like c:\\\\test\\*.docx  :  \")\n",
    "get_wordfile(filetype)"
   ]
  },
  {
   "cell_type": "code",
   "execution_count": 39,
   "id": "a57673bc",
   "metadata": {},
   "outputs": [
    {
     "name": "stdout",
     "output_type": "stream",
     "text": [
      "Requirement already satisfied: pygame in c:\\users\\latha\\anaconda3\\lib\\site-packages (2.1.2)\n",
      "Collecting moviepy\n",
      "  Downloading moviepy-1.0.3.tar.gz (388 kB)\n",
      "Collecting decorator<5.0,>=4.0.2\n",
      "  Downloading decorator-4.4.2-py2.py3-none-any.whl (9.2 kB)\n",
      "Requirement already satisfied: tqdm<5.0,>=4.11.2 in c:\\users\\latha\\anaconda3\\lib\\site-packages (from moviepy) (4.64.0)\n",
      "Requirement already satisfied: requests<3.0,>=2.8.1 in c:\\users\\latha\\anaconda3\\lib\\site-packages (from moviepy) (2.27.1)\n",
      "Collecting proglog<=1.0.0\n",
      "  Downloading proglog-0.1.10-py3-none-any.whl (6.1 kB)\n",
      "Requirement already satisfied: numpy>=1.17.3 in c:\\users\\latha\\anaconda3\\lib\\site-packages (from moviepy) (1.21.5)\n",
      "Requirement already satisfied: imageio<3.0,>=2.5 in c:\\users\\latha\\anaconda3\\lib\\site-packages (from moviepy) (2.9.0)\n",
      "Collecting imageio_ffmpeg>=0.2.0\n",
      "  Downloading imageio_ffmpeg-0.4.7-py3-none-win_amd64.whl (22.6 MB)\n",
      "Requirement already satisfied: pillow in c:\\users\\latha\\anaconda3\\lib\\site-packages (from imageio<3.0,>=2.5->moviepy) (9.0.1)\n",
      "Requirement already satisfied: certifi>=2017.4.17 in c:\\users\\latha\\anaconda3\\lib\\site-packages (from requests<3.0,>=2.8.1->moviepy) (2021.10.8)\n",
      "Requirement already satisfied: urllib3<1.27,>=1.21.1 in c:\\users\\latha\\anaconda3\\lib\\site-packages (from requests<3.0,>=2.8.1->moviepy) (1.26.9)\n",
      "Requirement already satisfied: charset-normalizer~=2.0.0 in c:\\users\\latha\\anaconda3\\lib\\site-packages (from requests<3.0,>=2.8.1->moviepy) (2.0.4)\n",
      "Requirement already satisfied: idna<4,>=2.5 in c:\\users\\latha\\anaconda3\\lib\\site-packages (from requests<3.0,>=2.8.1->moviepy) (3.3)\n",
      "Requirement already satisfied: colorama in c:\\users\\latha\\anaconda3\\lib\\site-packages (from tqdm<5.0,>=4.11.2->moviepy) (0.4.4)\n",
      "Building wheels for collected packages: moviepy\n",
      "  Building wheel for moviepy (setup.py): started\n",
      "  Building wheel for moviepy (setup.py): finished with status 'done'\n",
      "  Created wheel for moviepy: filename=moviepy-1.0.3-py3-none-any.whl size=110743 sha256=c086e0b2f4ca00bf57c808c1342f8b14f654c246702c4d94b4822cc8b49511f9\n",
      "  Stored in directory: c:\\users\\latha\\appdata\\local\\pip\\cache\\wheels\\29\\15\\e4\\4f790bec6acd51a00b67e8ee1394f0bc6e0135c315f8ff399a\n",
      "Successfully built moviepy\n",
      "Installing collected packages: proglog, imageio-ffmpeg, decorator, moviepy\n",
      "  Attempting uninstall: decorator\n",
      "    Found existing installation: decorator 5.1.1\n",
      "    Uninstalling decorator-5.1.1:\n",
      "      Successfully uninstalled decorator-5.1.1\n",
      "Successfully installed decorator-4.4.2 imageio-ffmpeg-0.4.7 moviepy-1.0.3 proglog-0.1.10\n",
      "Enter the filename of the video to be played : d:\\99days\\DAY1.mp4\n",
      "Interrupt\n"
     ]
    }
   ],
   "source": [
    "#q22 : write a function which can read video file and play for you . \n",
    "!pip install pygame\n",
    "!pip install moviepy\n",
    "import pygame\n",
    "import moviepy.editor\n",
    "\n",
    "\n",
    "def play_video(filename):\n",
    "    pygame.init()\n",
    "    video = moviepy.editor.VideoFileClip(filename)\n",
    "    video.preview()\n",
    "    pygame.quit()\n",
    "    \n",
    "video_file = input(\"Enter the filename of the video to be played : \")\n",
    "play_video(video_file)\n",
    "    "
   ]
  },
  {
   "cell_type": "code",
   "execution_count": 1,
   "id": "ef67891c",
   "metadata": {},
   "outputs": [
    {
     "name": "stdout",
     "output_type": "stream",
     "text": [
      "Do you wish to shutdown your computer ? (yes / no): no\n"
     ]
    }
   ],
   "source": [
    "#q23 : write a function which will be able to shutdonw your system . \n",
    "import os\n",
    "  \n",
    "shutdown = input(\"Do you wish to shutdown your computer ? (yes / no): \")\n",
    "  \n",
    "if shutdown == 'no':\n",
    "    exit()\n",
    "else:\n",
    "    os.system(\"shutdown /s /t 1\")"
   ]
  },
  {
   "cell_type": "code",
   "execution_count": null,
   "id": "20c2c722",
   "metadata": {},
   "outputs": [],
   "source": [
    "#q24 : Write a function which will whould return list of all the file name from a directory .\n",
    "import os\n",
    "\n",
    "def get_filesdir(pathdir):\n",
    "    files_list=os.listdir(pathdir)\n",
    "    print(\"Files :\\n____________\")\n",
    "    for f in files_list:\n",
    "        print(f)\n",
    "        \n",
    "path=input(\"Please enter the directory name with full path :  \")\n",
    "get_filesdir(path)"
   ]
  },
  {
   "cell_type": "code",
   "execution_count": null,
   "id": "c1158118",
   "metadata": {},
   "outputs": [],
   "source": [
    "#q25 : write a function whihc will be able to access your mail . "
   ]
  }
 ],
 "metadata": {
  "kernelspec": {
   "display_name": "Python 3 (ipykernel)",
   "language": "python",
   "name": "python3"
  },
  "language_info": {
   "codemirror_mode": {
    "name": "ipython",
    "version": 3
   },
   "file_extension": ".py",
   "mimetype": "text/x-python",
   "name": "python",
   "nbconvert_exporter": "python",
   "pygments_lexer": "ipython3",
   "version": "3.9.12"
  }
 },
 "nbformat": 4,
 "nbformat_minor": 5
}
