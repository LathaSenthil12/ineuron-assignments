{
  "nbformat": 4,
  "nbformat_minor": 0,
  "metadata": {
    "colab": {
      "name": "Assignment 4.ipynb",
      "provenance": [],
      "collapsed_sections": []
    },
    "kernelspec": {
      "name": "python3",
      "display_name": "Python 3"
    },
    "language_info": {
      "name": "python"
    }
  },
  "cells": [
    {
      "cell_type": "markdown",
      "source": [
        "##Assignment 4\n",
        "\n",
        "\n",
        "1. What exactly is []?\n",
        "\n",
        "Ans. [ ] is used to create empty lists i.e, a list with nothing in them."
      ],
      "metadata": {
        "id": "B6D-087fl03b"
      }
    },
    {
      "cell_type": "code",
      "execution_count": 1,
      "metadata": {
        "colab": {
          "base_uri": "https://localhost:8080/"
        },
        "id": "HQKt79MalkvM",
        "outputId": "b51e4ad8-79c1-4a0d-f8bd-23fef9e51dac"
      },
      "outputs": [
        {
          "output_type": "stream",
          "name": "stdout",
          "text": [
            "Before assigning new value  [2, 4, 6, 8, 10]\n",
            "After assigning new value  [2, 4, 'hello', 8, 10]\n"
          ]
        }
      ],
      "source": [
        "#2. In a list of values stored in a variable called spam, how would you assign the value \n",
        "# 'hello' as the third value? (Assume [2, 4, 6, 8, 10] are in spam.)\n",
        "\n",
        "spam=[2,4,6,8,10]\n",
        "print(\"Before assigning new value \",spam)\n",
        "spam[2]='hello'\n",
        "print(\"After assigning new value \",spam)"
      ]
    },
    {
      "cell_type": "markdown",
      "source": [
        "### Lets pretend the spam includes the list [&#39;a&#39;, &#39;b&#39;, &#39;c&#39;, &#39;d&#39;] for the next three queries."
      ],
      "metadata": {
        "id": "gHXj14gLln5K"
      }
    },
    {
      "cell_type": "code",
      "source": [
        "#3. What is the value of spam[int(int('3' * 2) / 11)]?\n",
        "spam=['a','b','c','d']\n",
        "print(spam[int(int('3'*2)//11)])"
      ],
      "metadata": {
        "colab": {
          "base_uri": "https://localhost:8080/"
        },
        "id": "Gi0nW0N-mzTC",
        "outputId": "b1f883ee-1348-4c4c-8c9a-f6f2b09a72e4"
      },
      "execution_count": 2,
      "outputs": [
        {
          "output_type": "stream",
          "name": "stdout",
          "text": [
            "d\n"
          ]
        }
      ]
    },
    {
      "cell_type": "markdown",
      "source": [
        "4. What is the value of spam[-1]?\n",
        "\n",
        "Ans: d"
      ],
      "metadata": {
        "id": "6qpZLm_Bnhjx"
      }
    },
    {
      "cell_type": "code",
      "source": [
        "# 4. What is the value of spam[-1]?\n",
        "spam[-1]"
      ],
      "metadata": {
        "colab": {
          "base_uri": "https://localhost:8080/",
          "height": 35
        },
        "id": "w_gG71T3mzKL",
        "outputId": "976fd39e-5f1a-404a-f5a9-1e18e5440d2f"
      },
      "execution_count": 3,
      "outputs": [
        {
          "output_type": "execute_result",
          "data": {
            "text/plain": [
              "'d'"
            ],
            "application/vnd.google.colaboratory.intrinsic+json": {
              "type": "string"
            }
          },
          "metadata": {},
          "execution_count": 3
        }
      ]
    },
    {
      "cell_type": "markdown",
      "source": [
        "5. What is the value of spam[:2]?\n",
        "\n",
        "Ans : ['a','b']"
      ],
      "metadata": {
        "id": "GQ0yRAklnqBC"
      }
    },
    {
      "cell_type": "code",
      "source": [
        "#5. What is the value of spam[:2]?\n",
        "spam[:2]"
      ],
      "metadata": {
        "colab": {
          "base_uri": "https://localhost:8080/"
        },
        "id": "Gf9K86OwmzAz",
        "outputId": "3b060e77-78f0-411b-dedd-1a7b02aa43fb"
      },
      "execution_count": 4,
      "outputs": [
        {
          "output_type": "execute_result",
          "data": {
            "text/plain": [
              "['a', 'b']"
            ]
          },
          "metadata": {},
          "execution_count": 4
        }
      ]
    },
    {
      "cell_type": "markdown",
      "source": [
        "###Let&#39;s pretend bacon has the list [3.14, &#39;cat,&#39; 11, &#39;cat,&#39; True] for the next three questions."
      ],
      "metadata": {
        "id": "h5sfQ0aQn1gJ"
      }
    },
    {
      "cell_type": "markdown",
      "source": [
        "6. What is the value of bacon.index(&#39;cat&#39;)?\n",
        "\n",
        "Ans : 1"
      ],
      "metadata": {
        "id": "mSrOtv1tn4Rp"
      }
    },
    {
      "cell_type": "code",
      "source": [
        "bacon=[3.14,'cat', 11, 'cat', True] \n",
        "bacon.index('cat')"
      ],
      "metadata": {
        "colab": {
          "base_uri": "https://localhost:8080/"
        },
        "id": "oYpy88pcoAEw",
        "outputId": "e15f126a-e7f3-4ce6-ccd5-42058bea256d"
      },
      "execution_count": 6,
      "outputs": [
        {
          "output_type": "execute_result",
          "data": {
            "text/plain": [
              "1"
            ]
          },
          "metadata": {},
          "execution_count": 6
        }
      ]
    },
    {
      "cell_type": "markdown",
      "source": [
        "7. How does bacon.append(99) change the look of the list value in bacon?\n",
        "\n",
        "Ans : It will append the value 99 as the last element in the list"
      ],
      "metadata": {
        "id": "cfmHueGsoSZ3"
      }
    },
    {
      "cell_type": "code",
      "source": [
        "bacon.append(99)\n",
        "bacon"
      ],
      "metadata": {
        "colab": {
          "base_uri": "https://localhost:8080/"
        },
        "id": "0cDohzKeofaU",
        "outputId": "6085beed-b8e0-4484-eaa6-cd0e9661a3cb"
      },
      "execution_count": 7,
      "outputs": [
        {
          "output_type": "execute_result",
          "data": {
            "text/plain": [
              "[3.14, 'cat', 11, 'cat', True, 99]"
            ]
          },
          "metadata": {},
          "execution_count": 7
        }
      ]
    },
    {
      "cell_type": "markdown",
      "source": [
        "8. How does bacon.remove(&#39;cat&#39;) change the look of the list in bacon?\n",
        "\n",
        "Ans: It will remove the very first instance of the given value from the list.\n",
        "\n",
        "[3.14, 11, 'cat', True, 99]\n",
        "\n"
      ],
      "metadata": {
        "id": "XOsVlwWzoqVX"
      }
    },
    {
      "cell_type": "code",
      "source": [
        "bacon.remove('cat')\n",
        "print(bacon)"
      ],
      "metadata": {
        "colab": {
          "base_uri": "https://localhost:8080/"
        },
        "id": "mSc4BH9so1oR",
        "outputId": "b7b286d3-d301-4bff-8fdd-dc14bcd91d77"
      },
      "execution_count": 8,
      "outputs": [
        {
          "output_type": "stream",
          "name": "stdout",
          "text": [
            "[3.14, 11, 'cat', True, 99]\n"
          ]
        }
      ]
    },
    {
      "cell_type": "markdown",
      "source": [
        "9. What are the list concatenation and list replication operators?\n",
        "\n",
        "The list concatenation operator is + and the list replication operator is *"
      ],
      "metadata": {
        "id": "evPI4tZkpDr3"
      }
    },
    {
      "cell_type": "code",
      "source": [
        "ll=[1,2,3]\n",
        "ll2=[12,56,78]\n",
        "print(\"Concatenation : \", ll+ll2)\n",
        "print(\"Replication : \", ll*2)"
      ],
      "metadata": {
        "colab": {
          "base_uri": "https://localhost:8080/"
        },
        "id": "UrUjkAMmpPkk",
        "outputId": "0ffc1ba8-2882-4f83-b95e-b1a462f64197"
      },
      "execution_count": 11,
      "outputs": [
        {
          "output_type": "stream",
          "name": "stdout",
          "text": [
            "Concatenation :  [1, 2, 3, 12, 56, 78]\n",
            "Replication :  [1, 2, 3, 1, 2, 3]\n"
          ]
        }
      ]
    },
    {
      "cell_type": "markdown",
      "source": [
        "10. What is difference between the list methods append() and insert()?\n",
        "\n",
        "Ans : append() will add values only to the end of a list, insert() can add them anywhere in the list."
      ],
      "metadata": {
        "id": "f86mSCJHpxJp"
      }
    },
    {
      "cell_type": "code",
      "source": [
        "l=[1,2,3]\n",
        "l.insert(0,100)\n",
        "print(l)\n",
        "l.append(23)\n",
        "print(l)"
      ],
      "metadata": {
        "colab": {
          "base_uri": "https://localhost:8080/"
        },
        "id": "UvW7y_H4p4rR",
        "outputId": "8897e918-8b15-4fc4-95e2-2bd58e56f7ea"
      },
      "execution_count": 13,
      "outputs": [
        {
          "output_type": "stream",
          "name": "stdout",
          "text": [
            "[100, 1, 2, 3]\n",
            "[100, 1, 2, 3, 23]\n"
          ]
        }
      ]
    },
    {
      "cell_type": "markdown",
      "source": [
        "11. What are the two methods for removing items from a list?11. What are the two methods for removing items from a list?\n",
        "\n",
        "Ans. The two methods for removing items are remove() and pop().\n",
        "\n",
        "The remove() function removes the very first instance where the specified value is present.\n",
        "\n",
        "The pop() function works in two ways. When we dont pass any value to the pop function, by default it will remove the last item from the list. If we pass a specific index, then the pop function will remove the item from the specified index position."
      ],
      "metadata": {
        "id": "F7SOQqO2qXio"
      }
    },
    {
      "cell_type": "code",
      "source": [
        "l=[1,2,3,5,2,12,45]\n",
        "print(f\"List before removing an item using remove() : {l}\")\n",
        "l.remove(2)\n",
        "print(f\"List after removing an item using remove() : {l}\")\n",
        "print(l.pop())#removes 45 which is the last item\n",
        "print(f\"List after removing an item using pop() : {l}\")\n",
        "print(l.pop(2))# removes item at index 2\n",
        "print(f\"List after removing an item using pop(2) : {l}\")\n"
      ],
      "metadata": {
        "colab": {
          "base_uri": "https://localhost:8080/"
        },
        "id": "O7Nqdhj3q-HK",
        "outputId": "4093f021-0791-4fef-9df3-be873979b0b2"
      },
      "execution_count": 16,
      "outputs": [
        {
          "output_type": "stream",
          "name": "stdout",
          "text": [
            "List before removing an item using remove() : [1, 2, 3, 5, 2, 12, 45]\n",
            "List after removing an item using remove() : [1, 3, 5, 2, 12, 45]\n",
            "45\n",
            "List after removing an item using pop() : [1, 3, 5, 2, 12]\n",
            "5\n",
            "List after removing an item using pop(2) : [1, 3, 2, 12]\n"
          ]
        }
      ]
    },
    {
      "cell_type": "markdown",
      "source": [
        "12. Describe how list values and string values are identical.\n",
        "\n",
        "Ans : Both lists and strings can be passed to len() function, have indexes and slices, be used in for loops, be concatenated or replicated, and be used with the in and not in operators"
      ],
      "metadata": {
        "id": "JTnhC3K4r_JX"
      }
    },
    {
      "cell_type": "markdown",
      "source": [
        "13. What&#39;s the difference between tuples and lists?\n",
        "\n",
        "Structure wise both of them seem to be the same.But however lists are mutable i.e, we can make changes like insert, remove and updation of the item values.\n",
        "\n",
        "Tuples on the other hand are immutable."
      ],
      "metadata": {
        "id": "_qI9a3l6sMWn"
      }
    },
    {
      "cell_type": "markdown",
      "source": [
        "14. How do you type a tuple value that only contains the integer 42?\n",
        "\n",
        "tuple1=(42,)"
      ],
      "metadata": {
        "id": "ZIPie8YnsrAL"
      }
    },
    {
      "cell_type": "code",
      "source": [
        "tuple1=(42,)\n",
        "print(type(tuple1))"
      ],
      "metadata": {
        "colab": {
          "base_uri": "https://localhost:8080/"
        },
        "id": "b82Aj3weswlE",
        "outputId": "b3c9ecc9-f0e2-481d-db20-a5572b3f4ad4"
      },
      "execution_count": 17,
      "outputs": [
        {
          "output_type": "stream",
          "name": "stdout",
          "text": [
            "<class 'tuple'>\n"
          ]
        }
      ]
    },
    {
      "cell_type": "markdown",
      "source": [
        "15. How do you get a list value&#39;s tuple form? How do you get a tuple value&#39;s list form?\n",
        "\n",
        "Ans : The tuple() and list() functions, respectively are used to convert a list to tuple and vice versa"
      ],
      "metadata": {
        "id": "unjXYBpts676"
      }
    },
    {
      "cell_type": "markdown",
      "source": [
        "16. Variables that &quot;contain&quot; list values are not necessarily lists themselves. Instead, what do they\n",
        "contain?\n",
        "\n",
        "Ans: They contain references to list values."
      ],
      "metadata": {
        "id": "4rdJ7wn6tJ0J"
      }
    },
    {
      "cell_type": "markdown",
      "source": [
        "17. How do you distinguish between copy.copy() and copy.deepcopy()?\n",
        "\n",
        "Ans : The copy.copy() function will do a shallow copy of a list, while the copy.deepcopy() function will do a deep copy of a list. That is, only copy.deepcopy() will duplicate any lists inside the list."
      ],
      "metadata": {
        "id": "wVS6NO_NtVVw"
      }
    }
  ]
}